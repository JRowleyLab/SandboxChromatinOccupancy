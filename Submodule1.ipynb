{
 "cells": [
  {
   "cell_type": "markdown",
   "id": "5d4fdc65",
   "metadata": {},
   "source": [
    "# Submodule 1: Preprocessing and Quality Control\n",
    "\n",
    "<img src=\"images/LessonPlan.jpg\" alt=\"Drawing\" width=1000 />\n",
    "\n",
    "## Overview & Purpose\n",
    "## ChIP-seq, CUT&RUN, and CUT&Tag\n",
    "This short tutorial demonstrates the initial processing steps for ChIP-seq, CUT&RUN, and CUT&Tag analysis. In this first module, we focus on generating quality reports of the raw sequences, adapter trimming, mapping, and removal of PCR duplicates. \n",
    "\n",
    "<img src=\"images/all3methods.jpg\" alt=\"Drawing\" width=500 />\n",
    "\n",
    "To demonstrate the process, this tutorial will analyze published datasets studying H3K27ac occupancy after aux-mediated degradation of BAF (ChIP-seq), as well as BAF (CUT&RUN) and RNA Polymerase II Ser5ph (CUT&Tag) occupancy after inhibition of transcription elongation using Flavopiridol. As such, this module covers the processing of the data from three distinct but similar methods using downsampled data to improve runtime speed. The original data can be found in the GEO repository with the following accessions: ChIP-seq - GSE173550; CUT&RUN & CUT&Tag - GSE224292. These data were published in the following articles:\n",
    "\n",
    "Weber CM, et al. mSWI/SNF promotes Polycomb repression both directly and through genome-wide redistribution. Nat Struct Mol Biol. 2021  PMID: [34117481](https://pubmed.ncbi.nlm.nih.gov/34117481/)\n",
    "\n",
    "Brahma S, Henikoff S. The BAF chromatin remodeler synergizes with RNA polymerase II and transcription factors to evict nucleosomes. Nat Genet. 2024 PMID: [38049663](https://pubmed.ncbi.nlm.nih.gov/38049663/)\n",
    "\n",
    "Note that to allow faster processing we have limited the reads to that of a single chromosome (chr4).  "
   ]
  },
  {
   "cell_type": "markdown",
   "id": "1929efd3",
   "metadata": {},
   "source": [
    "While ChIP-seq, CUT&RUN, and CUT&Tag are all used to identify chromatin binding sites genome-wide, they differ in implementation which can impact the analysis.\n",
    "<img src=\"images/methodcompare.png\" alt=\"Drawing\" style=\"width: 800px;\"/>\n",
    "Image credit: Kaya-Okur et al., 2020. Efficient low-cost chromatin profiling with CUT&Tag. Nature Protocols."
   ]
  },
  {
   "cell_type": "markdown",
   "id": "089f1e74",
   "metadata": {},
   "source": [
    "## ChIP-seq\n",
    "This method uses random fragmentation followed by immunoprecipitation.\n",
    "\n",
    "<img src=\"images/chipseq.gif\" alt=\"Drawing\" style=\"width: 500px;\" align=\"center\"/>\n",
    "\n",
    "## CUT&RUN\n",
    "This method uses random pA-MNase to target the fragmentation to the site where your protein is bound.\n",
    "\n",
    "<img src=\"images/CUTRUN.gif\" alt=\"Drawing\" style=\"width: 500px;\" align=\"center\"/>\n",
    "\n",
    "## CUT&Tag\n",
    "This method uses random pA-Tn5 to directly insert sequencing adapters next to where your protein is bound.\n",
    "\n",
    "<img src=\"images/CUTTag.gif\" alt=\"Drawing\" style=\"width: 500px;\" align=\"center\"/>\n"
   ]
  },
  {
   "cell_type": "markdown",
   "id": "303a69b9",
   "metadata": {},
   "source": [
    "### Ways to use this module\n",
    "Throughout this module, we have color-coded commands according to ChIP-seq, CUT&RUN, and CUT&Tag. Therefore this module can be used to learn about the processing of each method individually, to compare each method to the others, or you can follow the colored commands to only process one type, either ChIP-seq, CUT&RUN, or CUT&Tag.\n",
    "Commands for each method will be designated by an individual logo before the command, just like the following examples"
   ]
  },
  {
   "cell_type": "markdown",
   "id": "c2e4a0ca",
   "metadata": {},
   "source": [
    "<img src=\"images/ChIPseqLogo.jpg\" alt=\"Drawing\" style=\"width: 250px;\" align=\"left\"/>"
   ]
  },
  {
   "cell_type": "code",
   "execution_count": 1,
   "id": "73067bbd",
   "metadata": {
    "tags": []
   },
   "outputs": [
    {
     "name": "stdout",
     "output_type": "stream",
     "text": [
      "Code for ChIP-seq will be placed after the above image. Run these cells if performing ChIP-seq analysis.\n"
     ]
    }
   ],
   "source": [
    "#run this cell for ChIP-seq\n",
    "print(\"Code for ChIP-seq will be placed after the above image. Run these cells if performing ChIP-seq analysis.\")"
   ]
  },
  {
   "cell_type": "markdown",
   "id": "1621f0ba",
   "metadata": {},
   "source": [
    "<img src=\"images/CUT&RUNLogo.jpg\" alt=\"Drawing\" style=\"width: 250px;\" align=\"left\"/>"
   ]
  },
  {
   "cell_type": "code",
   "execution_count": 2,
   "id": "c2643cda",
   "metadata": {
    "tags": []
   },
   "outputs": [
    {
     "name": "stdout",
     "output_type": "stream",
     "text": [
      "Code for CUT&RUN will be placed after the above image. Run these cells if performing CUT&RUN analysis.\n"
     ]
    }
   ],
   "source": [
    "#run this cell for CUT&RUN\n",
    "print(\"Code for CUT&RUN will be placed after the above image. Run these cells if performing CUT&RUN analysis.\")"
   ]
  },
  {
   "cell_type": "markdown",
   "id": "c2edfd70",
   "metadata": {},
   "source": [
    "<img src=\"images/CUT&TagLogo.jpg\" alt=\"Drawing\" style=\"width: 250px;\" align=\"left\"/>"
   ]
  },
  {
   "cell_type": "code",
   "execution_count": 3,
   "id": "dc75cf10",
   "metadata": {
    "tags": []
   },
   "outputs": [
    {
     "name": "stdout",
     "output_type": "stream",
     "text": [
      "Code for CUT&Tag will be placed after the above image. Run these cells if performing CUT&Tag analysis.\n"
     ]
    }
   ],
   "source": [
    "#run this cell for CUT&Tag\n",
    "print(\"Code for CUT&Tag will be placed after the above image. Run these cells if performing CUT&Tag analysis.\")"
   ]
  },
  {
   "cell_type": "markdown",
   "id": "e5df502a",
   "metadata": {},
   "source": [
    "<div class=\"alert alert-block alert-success\" style=\"font-size:100%\">\n",
    "<span style=\"color:black\"> By following the colors/images, you can run one, two, or all three types of analyses.</span>\n",
    "</div>"
   ]
  },
  {
   "cell_type": "markdown",
   "id": "1f5c2622",
   "metadata": {},
   "source": [
    "### Required Files\n",
    "In this stage of the module, you will use the fastq files that have been prepared. You can also use this module on your own data or any published ChIP-seq, CUT&RUN, or CUT&Tag dataset. \n",
    "\n",
    "<div class=\"alert-info\" style=\"font-size:200%\">\n",
    "STEP 1: Set Up Environment\n",
    "</div>\n",
    "\n",
    "Initial items to configure your Cloud environment. In this step we will use conda to install the following packages:\n",
    "\n",
    "Quality Reporting:\n",
    "[fastqc](https://anaconda.org/bioconda/fastqc), [multiqc](https://anaconda.org/bioconda/multiqc)\n",
    "\n",
    "Read Trimming: \n",
    "[trimmomatic](https://anaconda.org/bioconda/trimmomatic), [cutadapt](https://anaconda.org/bioconda/cutadapt)\n",
    "\n",
    "Mapping:\n",
    "[bowtie2](https://anaconda.org/bioconda/bowtie2)"
   ]
  },
  {
   "cell_type": "code",
   "execution_count": 1,
   "id": "fd1e08bd-33e9-4586-af5a-dd2cdb1ec6da",
   "metadata": {
    "jupyter": {
     "outputs_hidden": true
    },
    "tags": []
   },
   "outputs": [
    {
     "name": "stdout",
     "output_type": "stream",
     "text": [
      "  % Total    % Received % Xferd  Average Speed   Time    Time     Time  Current\n",
      "                                 Dload  Upload   Total   Spent    Left  Speed\n",
      "  0     0    0     0    0     0      0      0 --:--:-- --:--:-- --:--:--     0\n",
      "  0     0    0     0    0     0      0      0 --:--:-- --:--:-- --:--:--     0\n",
      "100 74.3M  100 74.3M    0     0   115M      0 --:--:-- --:--:-- --:--:--  232M\n",
      "PREFIX=/home/ec2-user/mambaforge\n",
      "Unpacking payload ...\n",
      "Extracting _libgcc_mutex-0.1-conda_forge.tar.bz2\n",
      "Extracting ca-certificates-2024.12.14-hbcca054_0.conda\n",
      "Extracting ld_impl_linux-64-2.43-h712a8e2_2.conda\n",
      "Extracting pybind11-abi-4-hd8ed1ab_3.tar.bz2\n",
      "Extracting python_abi-3.12-5_cp312.conda\n",
      "Extracting tzdata-2025a-h78e105d_0.conda\n",
      "Extracting libgomp-14.2.0-h77fa898_1.conda\n",
      "Extracting _openmp_mutex-4.5-2_gnu.tar.bz2\n",
      "Extracting libgcc-14.2.0-h77fa898_1.conda\n",
      "Extracting c-ares-1.34.4-hb9d3cd8_0.conda\n",
      "Extracting libexpat-2.6.4-h5888daf_0.conda\n",
      "Extracting libgcc-ng-14.2.0-h69a702a_1.conda\n",
      "Extracting liblzma-5.6.3-hb9d3cd8_1.conda\n",
      "Extracting libstdcxx-14.2.0-hc0a3c3a_1.conda\n",
      "Extracting libzlib-1.3.1-hb9d3cd8_2.conda\n",
      "Extracting ncurses-6.5-h2d0b736_2.conda\n",
      "Extracting openssl-3.4.0-h7b32b05_1.conda\n",
      "Extracting reproc-14.2.5.post0-hb9d3cd8_0.conda\n",
      "Extracting bzip2-1.0.8-h4bc722e_7.conda\n",
      "Extracting keyutils-1.6.1-h166bdaf_0.tar.bz2\n",
      "Extracting libedit-3.1.20240808-pl5321h7949ede_0.conda\n",
      "Extracting libev-4.33-hd590300_2.conda\n",
      "Extracting libffi-3.4.2-h7f98852_5.tar.bz2\n",
      "Extracting libiconv-1.17-hd590300_2.conda\n",
      "Extracting libnsl-2.0.1-hd590300_0.conda\n",
      "Extracting libsqlite-3.48.0-hee588c1_0.conda\n",
      "Extracting libssh2-1.11.1-hf672d98_0.conda\n",
      "Extracting libstdcxx-ng-14.2.0-h4852527_1.conda\n",
      "Extracting libuuid-2.38.1-h0b41bf4_0.conda\n",
      "Extracting libxcrypt-4.4.36-hd590300_1.conda\n",
      "Extracting lz4-c-1.10.0-h5888daf_1.conda\n",
      "Extracting lzo-2.10-hd590300_1001.conda\n",
      "Extracting readline-8.2-h8228510_1.conda\n",
      "Extracting reproc-cpp-14.2.5.post0-h5888daf_0.conda\n",
      "Extracting tk-8.6.13-noxft_h4845f30_101.conda\n",
      "Extracting fmt-11.0.2-h434a139_0.conda\n",
      "Extracting krb5-1.21.3-h659f571_0.conda\n",
      "Extracting libnghttp2-1.64.0-h161d5f1_0.conda\n",
      "Extracting libsolv-0.7.30-h3509ff9_0.conda\n",
      "Extracting libxml2-2.13.5-h0d44e9d_1.conda\n",
      "Extracting python-3.12.8-h9e4cc4f_1_cpython.conda\n",
      "Extracting yaml-cpp-0.8.0-h59595ed_0.conda\n",
      "Extracting zstd-1.5.6-ha6fb4c9_0.conda\n",
      "Extracting libarchive-3.7.7-h4585015_3.conda\n",
      "Extracting libcurl-8.11.1-h332b0f4_0.conda\n",
      "Extracting menuinst-2.2.0-py312h7900ff3_0.conda\n",
      "Extracting archspec-0.2.5-pyhd8ed1ab_0.conda\n",
      "Extracting boltons-24.0.0-pyhd8ed1ab_1.conda\n",
      "Extracting brotli-python-1.1.0-py312h2ec8cdc_2.conda\n",
      "Extracting certifi-2024.12.14-pyhd8ed1ab_0.conda\n",
      "Extracting charset-normalizer-3.4.1-pyhd8ed1ab_0.conda\n",
      "Extracting colorama-0.4.6-pyhd8ed1ab_1.conda\n",
      "Extracting distro-1.9.0-pyhd8ed1ab_1.conda\n",
      "Extracting frozendict-2.4.6-py312h66e93f0_0.conda\n",
      "Extracting hpack-4.0.0-pyhd8ed1ab_1.conda\n",
      "Extracting hyperframe-6.0.1-pyhd8ed1ab_1.conda\n",
      "Extracting idna-3.10-pyhd8ed1ab_1.conda\n",
      "Extracting jsonpointer-3.0.0-py312h7900ff3_1.conda\n",
      "Extracting libmamba-1.5.12-h49b8a8d_0.conda\n",
      "Extracting packaging-24.2-pyhd8ed1ab_2.conda\n",
      "Extracting platformdirs-4.3.6-pyhd8ed1ab_1.conda\n",
      "Extracting pluggy-1.5.0-pyhd8ed1ab_1.conda\n",
      "Extracting pycosat-0.6.6-py312h66e93f0_2.conda\n",
      "Extracting pycparser-2.22-pyh29332c3_1.conda\n",
      "Extracting pysocks-1.7.1-pyha55dd90_7.conda\n",
      "Extracting ruamel.yaml.clib-0.2.8-py312h66e93f0_1.conda\n",
      "Extracting setuptools-75.8.0-pyhff2d567_0.conda\n",
      "Extracting truststore-0.10.0-pyhd8ed1ab_0.conda\n",
      "Extracting wheel-0.45.1-pyhd8ed1ab_1.conda\n",
      "Extracting cffi-1.17.1-py312h06ac9bb_0.conda\n",
      "Extracting h2-4.1.0-pyhd8ed1ab_1.conda\n",
      "Extracting jsonpatch-1.33-pyhd8ed1ab_1.conda\n",
      "Extracting libmambapy-1.5.12-py312hbaee817_0.conda\n",
      "Extracting pip-24.3.1-pyh8b19718_2.conda\n",
      "Extracting ruamel.yaml-0.18.10-py312h66e93f0_0.conda\n",
      "Extracting tqdm-4.67.1-pyhd8ed1ab_1.conda\n",
      "Extracting zstandard-0.23.0-py312hef9b889_1.conda\n",
      "Extracting conda-package-streaming-0.11.0-pyhd8ed1ab_0.conda\n",
      "Extracting urllib3-2.3.0-pyhd8ed1ab_0.conda\n",
      "Extracting requests-2.32.3-pyhd8ed1ab_1.conda\n",
      "Extracting conda-package-handling-2.4.0-pyh7900ff3_2.conda\n",
      "Extracting conda-24.11.3-py312h7900ff3_0.conda\n",
      "Extracting conda-libmamba-solver-24.9.0-pyhd8ed1ab_0.conda\n",
      "Extracting mamba-1.5.12-py312h9460a1c_0.conda\n",
      "\n",
      "Installing base environment...\n",
      "\n",
      "Transaction\n",
      "\n",
      "  Prefix: /home/ec2-user/mambaforge\n",
      "\n",
      "  Updating specs:\n",
      "\n",
      "   - conda-forge/linux-64::_libgcc_mutex==0.1=conda_forge[md5=d7c89558ba9fa0495403155b64376d81]\n",
      "   - conda-forge/linux-64::ca-certificates==2024.12.14=hbcca054_0[md5=720523eb0d6a9b0f6120c16b2aa4e7de]\n",
      "   - conda-forge/linux-64::ld_impl_linux-64==2.43=h712a8e2_2[md5=048b02e3962f066da18efe3a21b77672]\n",
      "   - conda-forge/noarch::pybind11-abi==4=hd8ed1ab_3[md5=878f923dd6acc8aeb47a75da6c4098be]\n",
      "   - conda-forge/linux-64::python_abi==3.12=5_cp312[md5=0424ae29b104430108f5218a66db7260]\n",
      "   - conda-forge/noarch::tzdata==2025a=h78e105d_0[md5=dbcace4706afdfb7eb891f7b37d07c04]\n",
      "   - conda-forge/linux-64::libgomp==14.2.0=h77fa898_1[md5=cc3573974587f12dda90d96e3e55a702]\n",
      "   - conda-forge/linux-64::_openmp_mutex==4.5=2_gnu[md5=73aaf86a425cc6e73fcf236a5a46396d]\n",
      "   - conda-forge/linux-64::libgcc==14.2.0=h77fa898_1[md5=3cb76c3f10d3bc7f1105b2fc9db984df]\n",
      "   - conda-forge/linux-64::c-ares==1.34.4=hb9d3cd8_0[md5=e2775acf57efd5af15b8e3d1d74d72d3]\n",
      "   - conda-forge/linux-64::libexpat==2.6.4=h5888daf_0[md5=db833e03127376d461e1e13e76f09b6c]\n",
      "   - conda-forge/linux-64::libgcc-ng==14.2.0=h69a702a_1[md5=e39480b9ca41323497b05492a63bc35b]\n",
      "   - conda-forge/linux-64::liblzma==5.6.3=hb9d3cd8_1[md5=2ecf2f1c7e4e21fcfe6423a51a992d84]\n",
      "   - conda-forge/linux-64::libstdcxx==14.2.0=hc0a3c3a_1[md5=234a5554c53625688d51062645337328]\n",
      "   - conda-forge/linux-64::libzlib==1.3.1=hb9d3cd8_2[md5=edb0dca6bc32e4f4789199455a1dbeb8]\n",
      "   - conda-forge/linux-64::ncurses==6.5=h2d0b736_2[md5=04b34b9a40cdc48cfdab261ab176ff74]\n",
      "   - conda-forge/linux-64::openssl==3.4.0=h7b32b05_1[md5=4ce6875f75469b2757a65e10a5d05e31]\n",
      "   - conda-forge/linux-64::reproc==14.2.5.post0=hb9d3cd8_0[md5=69fbc0a9e42eb5fe6733d2d60d818822]\n",
      "   - conda-forge/linux-64::bzip2==1.0.8=h4bc722e_7[md5=62ee74e96c5ebb0af99386de58cf9553]\n",
      "   - conda-forge/linux-64::keyutils==1.6.1=h166bdaf_0[md5=30186d27e2c9fa62b45fb1476b7200e3]\n",
      "   - conda-forge/linux-64::libedit==3.1.20240808=pl5321h7949ede_0[md5=8247f80f3dc464d9322e85007e307fe8]\n",
      "   - conda-forge/linux-64::libev==4.33=hd590300_2[md5=172bf1cd1ff8629f2b1179945ed45055]\n",
      "   - conda-forge/linux-64::libffi==3.4.2=h7f98852_5[md5=d645c6d2ac96843a2bfaccd2d62b3ac3]\n",
      "   - conda-forge/linux-64::libiconv==1.17=hd590300_2[md5=d66573916ffcf376178462f1b61c941e]\n",
      "   - conda-forge/linux-64::libnsl==2.0.1=hd590300_0[md5=30fd6e37fe21f86f4bd26d6ee73eeec7]\n",
      "   - conda-forge/linux-64::libsqlite==3.48.0=hee588c1_0[md5=84bd1c9a82b455e7a2f390375fb38f90]\n",
      "   - conda-forge/linux-64::libssh2==1.11.1=hf672d98_0[md5=be2de152d8073ef1c01b7728475f2fe7]\n",
      "   - conda-forge/linux-64::libstdcxx-ng==14.2.0=h4852527_1[md5=8371ac6457591af2cf6159439c1fd051]\n",
      "   - conda-forge/linux-64::libuuid==2.38.1=h0b41bf4_0[md5=40b61aab5c7ba9ff276c41cfffe6b80b]\n",
      "   - conda-forge/linux-64::libxcrypt==4.4.36=hd590300_1[md5=5aa797f8787fe7a17d1b0821485b5adc]\n",
      "   - conda-forge/linux-64::lz4-c==1.10.0=h5888daf_1[md5=9de5350a85c4a20c685259b889aa6393]\n",
      "   - conda-forge/linux-64::lzo==2.10=hd590300_1001[md5=ec7398d21e2651e0dcb0044d03b9a339]\n",
      "   - conda-forge/linux-64::readline==8.2=h8228510_1[md5=47d31b792659ce70f470b5c82fdfb7a4]\n",
      "   - conda-forge/linux-64::reproc-cpp==14.2.5.post0=h5888daf_0[md5=828302fca535f9cfeb598d5f7c204323]\n",
      "   - conda-forge/linux-64::tk==8.6.13=noxft_h4845f30_101[md5=d453b98d9c83e71da0741bb0ff4d76bc]\n",
      "   - conda-forge/linux-64::fmt==11.0.2=h434a139_0[md5=995f7e13598497691c1dc476d889bc04]\n",
      "   - conda-forge/linux-64::krb5==1.21.3=h659f571_0[md5=3f43953b7d3fb3aaa1d0d0723d91e368]\n",
      "   - conda-forge/linux-64::libnghttp2==1.64.0=h161d5f1_0[md5=19e57602824042dfd0446292ef90488b]\n",
      "   - conda-forge/linux-64::libsolv==0.7.30=h3509ff9_0[md5=02539b77d25aa4f65b20246549e256c3]\n",
      "   - conda-forge/linux-64::libxml2==2.13.5=h0d44e9d_1[md5=f5b05674697ae7d2c5932766695945e1]\n",
      "   - conda-forge/linux-64::python==3.12.8=h9e4cc4f_1_cpython[md5=7fd2fd79436d9b473812f14e86746844]\n",
      "   - conda-forge/linux-64::yaml-cpp==0.8.0=h59595ed_0[md5=965eaacd7c18eb8361fd12bb9e7a57d7]\n",
      "   - conda-forge/linux-64::zstd==1.5.6=ha6fb4c9_0[md5=4d056880988120e29d75bfff282e0f45]\n",
      "   - conda-forge/linux-64::libarchive==3.7.7=h4585015_3[md5=a28808eae584c7f519943719b2a2b386]\n",
      "   - conda-forge/linux-64::libcurl==8.11.1=h332b0f4_0[md5=2b3e0081006dc21e8bf53a91c83a055c]\n",
      "   - conda-forge/linux-64::menuinst==2.2.0=py312h7900ff3_0[md5=f22f8e77b36e67297feffe03eefd5375]\n",
      "   - conda-forge/noarch::archspec==0.2.5=pyhd8ed1ab_0[md5=845b38297fca2f2d18a29748e2ece7fa]\n",
      "   - conda-forge/noarch::boltons==24.0.0=pyhd8ed1ab_1[md5=d88c38e66d85ecc9c7e2c4110676bbf4]\n",
      "   - conda-forge/linux-64::brotli-python==1.1.0=py312h2ec8cdc_2[md5=b0b867af6fc74b2a0aa206da29c0f3cf]\n",
      "   - conda-forge/noarch::certifi==2024.12.14=pyhd8ed1ab_0[md5=6feb87357ecd66733be3279f16a8c400]\n",
      "   - conda-forge/noarch::charset-normalizer==3.4.1=pyhd8ed1ab_0[md5=e83a31202d1c0a000fce3e9cf3825875]\n",
      "   - conda-forge/noarch::colorama==0.4.6=pyhd8ed1ab_1[md5=962b9857ee8e7018c22f2776ffa0b2d7]\n",
      "   - conda-forge/noarch::distro==1.9.0=pyhd8ed1ab_1[md5=0a2014fd9860f8b1eaa0b1f3d3771a08]\n",
      "   - conda-forge/linux-64::frozendict==2.4.6=py312h66e93f0_0[md5=9fa8408745a0621314b7751d11fecc18]\n",
      "   - conda-forge/noarch::hpack==4.0.0=pyhd8ed1ab_1[md5=2aa5ff7fa34a81b9196532c84c10d865]\n",
      "   - conda-forge/noarch::hyperframe==6.0.1=pyhd8ed1ab_1[md5=566e75c90c1d0c8c459eb0ad9833dc7a]\n",
      "   - conda-forge/noarch::idna==3.10=pyhd8ed1ab_1[md5=39a4f67be3286c86d696df570b1201b7]\n",
      "   - conda-forge/linux-64::jsonpointer==3.0.0=py312h7900ff3_1[md5=6b51f7459ea4073eeb5057207e2e1e3d]\n",
      "   - conda-forge/linux-64::libmamba==1.5.12=h49b8a8d_0[md5=d6aec145c4f2473c09c2699d74f6dfc0]\n",
      "   - conda-forge/noarch::packaging==24.2=pyhd8ed1ab_2[md5=3bfed7e6228ebf2f7b9eaa47f1b4e2aa]\n",
      "   - conda-forge/noarch::platformdirs==4.3.6=pyhd8ed1ab_1[md5=577852c7e53901ddccc7e6a9959ddebe]\n",
      "   - conda-forge/noarch::pluggy==1.5.0=pyhd8ed1ab_1[md5=e9dcbce5f45f9ee500e728ae58b605b6]\n",
      "   - conda-forge/linux-64::pycosat==0.6.6=py312h66e93f0_2[md5=08223e6a73e0bca5ade16ec4cebebf23]\n",
      "   - conda-forge/noarch::pycparser==2.22=pyh29332c3_1[md5=12c566707c80111f9799308d9e265aef]\n",
      "   - conda-forge/noarch::pysocks==1.7.1=pyha55dd90_7[md5=461219d1a5bd61342293efa2c0c90eac]\n",
      "   - conda-forge/linux-64::ruamel.yaml.clib==0.2.8=py312h66e93f0_1[md5=532c3e5d0280be4fea52396ec1fa7d5d]\n",
      "   - conda-forge/noarch::setuptools==75.8.0=pyhff2d567_0[md5=8f28e299c11afdd79e0ec1e279dcdc52]\n",
      "   - conda-forge/noarch::truststore==0.10.0=pyhd8ed1ab_0[md5=ad1c20cd193e3044bcf17798c33b9d67]\n",
      "   - conda-forge/noarch::wheel==0.45.1=pyhd8ed1ab_1[md5=75cb7132eb58d97896e173ef12ac9986]\n",
      "   - conda-forge/linux-64::cffi==1.17.1=py312h06ac9bb_0[md5=a861504bbea4161a9170b85d4d2be840]\n",
      "   - conda-forge/noarch::h2==4.1.0=pyhd8ed1ab_1[md5=825927dc7b0f287ef8d4d0011bb113b1]\n",
      "   - conda-forge/noarch::jsonpatch==1.33=pyhd8ed1ab_1[md5=cb60ae9cf02b9fcb8004dec4089e5691]\n",
      "   - conda-forge/linux-64::libmambapy==1.5.12=py312hbaee817_0[md5=88dd983e44c86cdde2817ecfa7d84d5a]\n",
      "   - conda-forge/noarch::pip==24.3.1=pyh8b19718_2[md5=04e691b9fadd93a8a9fad87a81d4fd8f]\n",
      "   - conda-forge/linux-64::ruamel.yaml==0.18.10=py312h66e93f0_0[md5=5260b7fb19694ee5bc4ed0ee7a2a769f]\n",
      "   - conda-forge/noarch::tqdm==4.67.1=pyhd8ed1ab_1[md5=9efbfdc37242619130ea42b1cc4ed861]\n",
      "   - conda-forge/linux-64::zstandard==0.23.0=py312hef9b889_1[md5=8b7069e9792ee4e5b4919a7a306d2e67]\n",
      "   - conda-forge/noarch::conda-package-streaming==0.11.0=pyhd8ed1ab_0[md5=bc9533d8616a97551ed144789bf9c1cd]\n",
      "   - conda-forge/noarch::urllib3==2.3.0=pyhd8ed1ab_0[md5=32674f8dbfb7b26410ed580dd3c10a29]\n",
      "   - conda-forge/noarch::requests==2.32.3=pyhd8ed1ab_1[md5=a9b9368f3701a417eac9edbcae7cb737]\n",
      "   - conda-forge/noarch::conda-package-handling==2.4.0=pyh7900ff3_2[md5=32c158f481b4fd7630c565030f7bc482]\n",
      "   - conda-forge/linux-64::conda==24.11.3=py312h7900ff3_0[md5=bdaca5d82db98d8b5639f058a818ff03]\n",
      "   - conda-forge/noarch::conda-libmamba-solver==24.9.0=pyhd8ed1ab_0[md5=45378d089c5f72c9c0d63d58414c645d]\n",
      "   - conda-forge/linux-64::mamba==1.5.12=py312h9460a1c_0[md5=59a9360536caad98732fdfdc320e41dc]\n",
      "\n",
      "\n",
      "  Package                         Version  Build               Channel         Size\n",
      "─────────────────────────────────────────────────────────────────────────────────────\n",
      "  Install:\n",
      "─────────────────────────────────────────────────────────────────────────────────────\n",
      "\n",
      "  \u001b[32m+ _libgcc_mutex          \u001b[0m           0.1  conda_forge         conda-forge         \n",
      "  \u001b[32m+ ca-certificates        \u001b[0m    2024.12.14  hbcca054_0          conda-forge         \n",
      "  \u001b[32m+ ld_impl_linux-64       \u001b[0m          2.43  h712a8e2_2          conda-forge         \n",
      "  \u001b[32m+ pybind11-abi           \u001b[0m             4  hd8ed1ab_3          conda-forge         \n",
      "  \u001b[32m+ python_abi             \u001b[0m          3.12  5_cp312             conda-forge         \n",
      "  \u001b[32m+ tzdata                 \u001b[0m         2025a  h78e105d_0          conda-forge         \n",
      "  \u001b[32m+ libgomp                \u001b[0m        14.2.0  h77fa898_1          conda-forge         \n",
      "  \u001b[32m+ _openmp_mutex          \u001b[0m           4.5  2_gnu               conda-forge         \n",
      "  \u001b[32m+ libgcc                 \u001b[0m        14.2.0  h77fa898_1          conda-forge         \n",
      "  \u001b[32m+ c-ares                 \u001b[0m        1.34.4  hb9d3cd8_0          conda-forge         \n",
      "  \u001b[32m+ libexpat               \u001b[0m         2.6.4  h5888daf_0          conda-forge         \n",
      "  \u001b[32m+ libgcc-ng              \u001b[0m        14.2.0  h69a702a_1          conda-forge         \n",
      "  \u001b[32m+ liblzma                \u001b[0m         5.6.3  hb9d3cd8_1          conda-forge         \n",
      "  \u001b[32m+ libstdcxx              \u001b[0m        14.2.0  hc0a3c3a_1          conda-forge         \n",
      "  \u001b[32m+ libzlib                \u001b[0m         1.3.1  hb9d3cd8_2          conda-forge         \n",
      "  \u001b[32m+ ncurses                \u001b[0m           6.5  h2d0b736_2          conda-forge         \n",
      "  \u001b[32m+ openssl                \u001b[0m         3.4.0  h7b32b05_1          conda-forge         \n",
      "  \u001b[32m+ reproc                 \u001b[0m  14.2.5.post0  hb9d3cd8_0          conda-forge         \n",
      "  \u001b[32m+ bzip2                  \u001b[0m         1.0.8  h4bc722e_7          conda-forge         \n",
      "  \u001b[32m+ keyutils               \u001b[0m         1.6.1  h166bdaf_0          conda-forge         \n",
      "  \u001b[32m+ libedit                \u001b[0m  3.1.20240808  pl5321h7949ede_0    conda-forge         \n",
      "  \u001b[32m+ libev                  \u001b[0m          4.33  hd590300_2          conda-forge         \n",
      "  \u001b[32m+ libffi                 \u001b[0m         3.4.2  h7f98852_5          conda-forge         \n",
      "  \u001b[32m+ libiconv               \u001b[0m          1.17  hd590300_2          conda-forge         \n",
      "  \u001b[32m+ libnsl                 \u001b[0m         2.0.1  hd590300_0          conda-forge         \n",
      "  \u001b[32m+ libsqlite              \u001b[0m        3.48.0  hee588c1_0          conda-forge         \n",
      "  \u001b[32m+ libssh2                \u001b[0m        1.11.1  hf672d98_0          conda-forge         \n",
      "  \u001b[32m+ libstdcxx-ng           \u001b[0m        14.2.0  h4852527_1          conda-forge         \n",
      "  \u001b[32m+ libuuid                \u001b[0m        2.38.1  h0b41bf4_0          conda-forge         \n",
      "  \u001b[32m+ libxcrypt              \u001b[0m        4.4.36  hd590300_1          conda-forge         \n",
      "  \u001b[32m+ lz4-c                  \u001b[0m        1.10.0  h5888daf_1          conda-forge         \n",
      "  \u001b[32m+ lzo                    \u001b[0m          2.10  hd590300_1001       conda-forge         \n",
      "  \u001b[32m+ readline               \u001b[0m           8.2  h8228510_1          conda-forge         \n",
      "  \u001b[32m+ reproc-cpp             \u001b[0m  14.2.5.post0  h5888daf_0          conda-forge         \n",
      "  \u001b[32m+ tk                     \u001b[0m        8.6.13  noxft_h4845f30_101  conda-forge         \n",
      "  \u001b[32m+ fmt                    \u001b[0m        11.0.2  h434a139_0          conda-forge         \n",
      "  \u001b[32m+ krb5                   \u001b[0m        1.21.3  h659f571_0          conda-forge         \n",
      "  \u001b[32m+ libnghttp2             \u001b[0m        1.64.0  h161d5f1_0          conda-forge         \n",
      "  \u001b[32m+ libsolv                \u001b[0m        0.7.30  h3509ff9_0          conda-forge         \n",
      "  \u001b[32m+ libxml2                \u001b[0m        2.13.5  h0d44e9d_1          conda-forge         \n",
      "  \u001b[32m+ python                 \u001b[0m        3.12.8  h9e4cc4f_1_cpython  conda-forge         \n",
      "  \u001b[32m+ yaml-cpp               \u001b[0m         0.8.0  h59595ed_0          conda-forge         \n",
      "  \u001b[32m+ zstd                   \u001b[0m         1.5.6  ha6fb4c9_0          conda-forge         \n",
      "  \u001b[32m+ libarchive             \u001b[0m         3.7.7  h4585015_3          conda-forge         \n",
      "  \u001b[32m+ libcurl                \u001b[0m        8.11.1  h332b0f4_0          conda-forge         \n",
      "  \u001b[32m+ menuinst               \u001b[0m         2.2.0  py312h7900ff3_0     conda-forge         \n",
      "  \u001b[32m+ archspec               \u001b[0m         0.2.5  pyhd8ed1ab_0        conda-forge         \n",
      "  \u001b[32m+ boltons                \u001b[0m        24.0.0  pyhd8ed1ab_1        conda-forge         \n",
      "  \u001b[32m+ brotli-python          \u001b[0m         1.1.0  py312h2ec8cdc_2     conda-forge         \n",
      "  \u001b[32m+ certifi                \u001b[0m    2024.12.14  pyhd8ed1ab_0        conda-forge         \n",
      "  \u001b[32m+ charset-normalizer     \u001b[0m         3.4.1  pyhd8ed1ab_0        conda-forge         \n",
      "  \u001b[32m+ colorama               \u001b[0m         0.4.6  pyhd8ed1ab_1        conda-forge         \n",
      "  \u001b[32m+ distro                 \u001b[0m         1.9.0  pyhd8ed1ab_1        conda-forge         \n",
      "  \u001b[32m+ frozendict             \u001b[0m         2.4.6  py312h66e93f0_0     conda-forge         \n",
      "  \u001b[32m+ hpack                  \u001b[0m         4.0.0  pyhd8ed1ab_1        conda-forge         \n",
      "  \u001b[32m+ hyperframe             \u001b[0m         6.0.1  pyhd8ed1ab_1        conda-forge         \n",
      "  \u001b[32m+ idna                   \u001b[0m          3.10  pyhd8ed1ab_1        conda-forge         \n",
      "  \u001b[32m+ jsonpointer            \u001b[0m         3.0.0  py312h7900ff3_1     conda-forge         \n",
      "  \u001b[32m+ libmamba               \u001b[0m        1.5.12  h49b8a8d_0          conda-forge         \n",
      "  \u001b[32m+ packaging              \u001b[0m          24.2  pyhd8ed1ab_2        conda-forge         \n",
      "  \u001b[32m+ platformdirs           \u001b[0m         4.3.6  pyhd8ed1ab_1        conda-forge         \n",
      "  \u001b[32m+ pluggy                 \u001b[0m         1.5.0  pyhd8ed1ab_1        conda-forge         \n",
      "  \u001b[32m+ pycosat                \u001b[0m         0.6.6  py312h66e93f0_2     conda-forge         \n",
      "  \u001b[32m+ pycparser              \u001b[0m          2.22  pyh29332c3_1        conda-forge         \n",
      "  \u001b[32m+ pysocks                \u001b[0m         1.7.1  pyha55dd90_7        conda-forge         \n",
      "  \u001b[32m+ ruamel.yaml.clib       \u001b[0m         0.2.8  py312h66e93f0_1     conda-forge         \n",
      "  \u001b[32m+ setuptools             \u001b[0m        75.8.0  pyhff2d567_0        conda-forge         \n",
      "  \u001b[32m+ truststore             \u001b[0m        0.10.0  pyhd8ed1ab_0        conda-forge         \n",
      "  \u001b[32m+ wheel                  \u001b[0m        0.45.1  pyhd8ed1ab_1        conda-forge         \n",
      "  \u001b[32m+ cffi                   \u001b[0m        1.17.1  py312h06ac9bb_0     conda-forge         \n",
      "  \u001b[32m+ h2                     \u001b[0m         4.1.0  pyhd8ed1ab_1        conda-forge         \n",
      "  \u001b[32m+ jsonpatch              \u001b[0m          1.33  pyhd8ed1ab_1        conda-forge         \n",
      "  \u001b[32m+ libmambapy             \u001b[0m        1.5.12  py312hbaee817_0     conda-forge         \n",
      "  \u001b[32m+ pip                    \u001b[0m        24.3.1  pyh8b19718_2        conda-forge         \n",
      "  \u001b[32m+ ruamel.yaml            \u001b[0m       0.18.10  py312h66e93f0_0     conda-forge         \n",
      "  \u001b[32m+ tqdm                   \u001b[0m        4.67.1  pyhd8ed1ab_1        conda-forge         \n",
      "  \u001b[32m+ zstandard              \u001b[0m        0.23.0  py312hef9b889_1     conda-forge         \n",
      "  \u001b[32m+ conda-package-streaming\u001b[0m        0.11.0  pyhd8ed1ab_0        conda-forge         \n",
      "  \u001b[32m+ urllib3                \u001b[0m         2.3.0  pyhd8ed1ab_0        conda-forge         \n",
      "  \u001b[32m+ requests               \u001b[0m        2.32.3  pyhd8ed1ab_1        conda-forge         \n",
      "  \u001b[32m+ conda-package-handling \u001b[0m         2.4.0  pyh7900ff3_2        conda-forge         \n",
      "  \u001b[32m+ conda                  \u001b[0m       24.11.3  py312h7900ff3_0     conda-forge         \n",
      "  \u001b[32m+ conda-libmamba-solver  \u001b[0m        24.9.0  pyhd8ed1ab_0        conda-forge         \n",
      "  \u001b[32m+ mamba                  \u001b[0m        1.5.12  py312h9460a1c_0     conda-forge         \n",
      "\n",
      "  Summary:\n",
      "\n",
      "  Install: 84 packages\n",
      "\n",
      "  Total download: 0 B\n",
      "\n",
      "─────────────────────────────────────────────────────────────────────────────────────\n",
      "\n",
      "\n",
      "\n",
      "Transaction starting\n"
     ]
    },
    {
     "name": "stdout",
     "output_type": "stream",
     "text": [
      "\u001b[?25l\u001b[2K\u001b[0G\u001b[?25h\n",
      "Transaction finished\n",
      "\n",
      "To activate this environment, use:\n",
      "\n",
      "    micromamba activate /home/ec2-user/mambaforge\n",
      "\n",
      "Or to execute a single command in this environment, use:\n",
      "\n",
      "    micromamba run -p /home/ec2-user/mambaforge mycommand\n",
      "\n",
      "installation finished.\n",
      "done\n"
     ]
    }
   ],
   "source": [
    "#First let's install mamba to configure our environment\n",
    "! curl -L -O \"https://github.com/conda-forge/miniforge/releases/latest/download/Miniforge3-$(uname)-$(uname -m).sh\"\n",
    "! bash Miniforge3-$(uname)-$(uname -m).sh -u -b -p $HOME/mambaforge\n",
    "print(\"done\")"
   ]
  },
  {
   "cell_type": "markdown",
   "id": "7e51cab5-2d67-4d1b-9383-1b9be4223647",
   "metadata": {},
   "source": [
    "🕘 In the next cell we'll install several packages and configure your environment. This may take about a minute or two. \n"
   ]
  },
  {
   "cell_type": "code",
   "execution_count": 2,
   "id": "066719b9",
   "metadata": {
    "tags": []
   },
   "outputs": [
    {
     "name": "stdout",
     "output_type": "stream",
     "text": [
      "\u001b[33m\u001b[1mwarning  libmamba\u001b[m Could not parse mod/etag header\n",
      "\u001b[33m\u001b[1mwarning  libmamba\u001b[m Could not parse mod/etag header\n",
      "\u001b[33m\u001b[1mwarning  libmamba\u001b[m Could not parse mod/etag header\n",
      "\u001b[33m\u001b[1mwarning  libmamba\u001b[m Could not parse mod/etag header\n",
      "\u001b[33m\u001b[1mwarning  libmamba\u001b[m Could not parse mod/etag header\n",
      "\u001b[33m\u001b[1mwarning  libmamba\u001b[m Could not parse mod/etag header\n",
      "Preparing transaction: ...working... done\n",
      "Verifying transaction: ...working... done\n",
      "Executing transaction: ...working... done\n",
      "Collecting jupyterquiz==2.0.7\n",
      "  Downloading jupyterquiz-2.0.7-py2.py3-none-any.whl.metadata (8.8 kB)\n",
      "Collecting jupytercards\n",
      "  Downloading jupytercards-3.0.5-py2.py3-none-any.whl.metadata (6.5 kB)\n",
      "Downloading jupyterquiz-2.0.7-py2.py3-none-any.whl (17 kB)\n",
      "Downloading jupytercards-3.0.5-py2.py3-none-any.whl (15 kB)\n",
      "Installing collected packages: jupyterquiz, jupytercards\n",
      "Successfully installed jupytercards-3.0.5 jupyterquiz-2.0.7\n",
      "done\n"
     ]
    }
   ],
   "source": [
    "#Now let's install several required packages\n",
    "!mamba install -c bioconda fastqc bowtie2 multiqc trimmomatic cutadapt -y -q\n",
    "!pip install jupyterquiz==2.0.7 jupytercards\n",
    "print(\"done\")"
   ]
  },
  {
   "cell_type": "code",
   "execution_count": 3,
   "id": "59dee8b8-2ac4-45e1-a614-1e0feacdd761",
   "metadata": {
    "tags": []
   },
   "outputs": [
    {
     "ename": "ImportError",
     "evalue": "cannot import name '_TrimmedRelease' from 'packaging.version' (/home/ec2-user/anaconda3/envs/python3/lib/python3.10/site-packages/packaging/version.py)",
     "output_type": "error",
     "traceback": [
      "\u001b[0;31m---------------------------------------------------------------------------\u001b[0m",
      "\u001b[0;31mImportError\u001b[0m                               Traceback (most recent call last)",
      "Cell \u001b[0;32mIn[3], line 5\u001b[0m\n\u001b[1;32m      3\u001b[0m numthreadsint \u001b[38;5;241m=\u001b[39m \u001b[38;5;28mint\u001b[39m(numthreads[\u001b[38;5;241m0\u001b[39m])\n\u001b[1;32m      4\u001b[0m \u001b[38;5;28;01mimport\u001b[39;00m\u001b[38;5;250m \u001b[39m\u001b[38;5;21;01msys\u001b[39;00m\n\u001b[0;32m----> 5\u001b[0m \u001b[38;5;28;01mfrom\u001b[39;00m\u001b[38;5;250m \u001b[39m\u001b[38;5;21;01mjupyterquiz\u001b[39;00m\u001b[38;5;250m \u001b[39m\u001b[38;5;28;01mimport\u001b[39;00m display_quiz\n\u001b[1;32m      6\u001b[0m \u001b[38;5;28;01mfrom\u001b[39;00m\u001b[38;5;250m \u001b[39m\u001b[38;5;21;01mIPython\u001b[39;00m\u001b[38;5;21;01m.\u001b[39;00m\u001b[38;5;21;01mdisplay\u001b[39;00m\u001b[38;5;250m \u001b[39m\u001b[38;5;28;01mimport\u001b[39;00m IFrame\n\u001b[1;32m      7\u001b[0m \u001b[38;5;66;03m#from IPython.display import display\u001b[39;00m\n",
      "File \u001b[0;32m~/anaconda3/envs/python3/lib/python3.10/site-packages/jupyterquiz/__init__.py:15\u001b[0m\n\u001b[1;32m      1\u001b[0m \u001b[38;5;124;03m'''Module to display dynamic quizzes in Jupyter notebooks and Jupyter Books. Uses JavaScript to provide\u001b[39;00m\n\u001b[1;32m      2\u001b[0m \u001b[38;5;124;03minteractivity across these different formats and to dynamically update questions from a given URL and\u001b[39;00m\n\u001b[1;32m      3\u001b[0m \u001b[38;5;124;03mrandomly select questions from a pool (if desired) when the cell is rerun (Jupyter notebook) or\u001b[39;00m\n\u001b[0;32m   (...)\u001b[0m\n\u001b[1;32m     11\u001b[0m \u001b[38;5;124;03mAll files in the package are distributed under the MIT License\u001b[39;00m\n\u001b[1;32m     12\u001b[0m \u001b[38;5;124;03m'''\u001b[39;00m\n\u001b[1;32m     14\u001b[0m __version__ \u001b[38;5;241m=\u001b[39m \u001b[38;5;124m'\u001b[39m\u001b[38;5;124m2.0.7\u001b[39m\u001b[38;5;124m'\u001b[39m\n\u001b[0;32m---> 15\u001b[0m \u001b[38;5;28;01mfrom\u001b[39;00m\u001b[38;5;250m \u001b[39m\u001b[38;5;21;01m.\u001b[39;00m\u001b[38;5;21;01mdynamic\u001b[39;00m\u001b[38;5;250m \u001b[39m\u001b[38;5;28;01mimport\u001b[39;00m display_quiz, capture_responses\n",
      "File \u001b[0;32m~/anaconda3/envs/python3/lib/python3.10/site-packages/jupyterquiz/dynamic.py:4\u001b[0m\n\u001b[1;32m      2\u001b[0m \u001b[38;5;28;01mimport\u001b[39;00m\u001b[38;5;250m \u001b[39m\u001b[38;5;21;01mstring\u001b[39;00m\n\u001b[1;32m      3\u001b[0m \u001b[38;5;28;01mimport\u001b[39;00m\u001b[38;5;250m \u001b[39m\u001b[38;5;21;01mrandom\u001b[39;00m\n\u001b[0;32m----> 4\u001b[0m \u001b[38;5;28;01mimport\u001b[39;00m\u001b[38;5;250m \u001b[39m\u001b[38;5;21;01mpkg_resources\u001b[39;00m\n\u001b[1;32m      5\u001b[0m \u001b[38;5;28;01mimport\u001b[39;00m\u001b[38;5;250m \u001b[39m\u001b[38;5;21;01murllib\u001b[39;00m\u001b[38;5;21;01m.\u001b[39;00m\u001b[38;5;21;01mrequest\u001b[39;00m\n\u001b[1;32m      6\u001b[0m \u001b[38;5;28;01mimport\u001b[39;00m\u001b[38;5;250m \u001b[39m\u001b[38;5;21;01murllib\u001b[39;00m\n",
      "File \u001b[0;32m~/anaconda3/envs/python3/lib/python3.10/site-packages/pkg_resources/__init__.py:85\u001b[0m\n\u001b[1;32m     81\u001b[0m \u001b[38;5;28;01mexcept\u001b[39;00m \u001b[38;5;167;01mImportError\u001b[39;00m:\n\u001b[1;32m     82\u001b[0m     \u001b[38;5;66;03m# no write support, probably under GAE\u001b[39;00m\n\u001b[1;32m     83\u001b[0m     WRITE_SUPPORT \u001b[38;5;241m=\u001b[39m \u001b[38;5;28;01mFalse\u001b[39;00m\n\u001b[0;32m---> 85\u001b[0m \u001b[38;5;28;01mimport\u001b[39;00m\u001b[38;5;250m \u001b[39m\u001b[38;5;21;01mpackaging\u001b[39;00m\u001b[38;5;21;01m.\u001b[39;00m\u001b[38;5;21;01mmarkers\u001b[39;00m\n\u001b[1;32m     86\u001b[0m \u001b[38;5;28;01mimport\u001b[39;00m\u001b[38;5;250m \u001b[39m\u001b[38;5;21;01mpackaging\u001b[39;00m\u001b[38;5;21;01m.\u001b[39;00m\u001b[38;5;21;01mrequirements\u001b[39;00m\n\u001b[1;32m     87\u001b[0m \u001b[38;5;28;01mimport\u001b[39;00m\u001b[38;5;250m \u001b[39m\u001b[38;5;21;01mpackaging\u001b[39;00m\u001b[38;5;21;01m.\u001b[39;00m\u001b[38;5;21;01mspecifiers\u001b[39;00m\n",
      "File \u001b[0;32m~/anaconda3/envs/python3/lib/python3.10/site-packages/packaging/markers.py:13\u001b[0m\n\u001b[1;32m     10\u001b[0m \u001b[38;5;28;01mimport\u001b[39;00m\u001b[38;5;250m \u001b[39m\u001b[38;5;21;01msys\u001b[39;00m\n\u001b[1;32m     11\u001b[0m \u001b[38;5;28;01mfrom\u001b[39;00m\u001b[38;5;250m \u001b[39m\u001b[38;5;21;01mtyping\u001b[39;00m\u001b[38;5;250m \u001b[39m\u001b[38;5;28;01mimport\u001b[39;00m Any, Callable, TypedDict, cast\n\u001b[0;32m---> 13\u001b[0m \u001b[38;5;28;01mfrom\u001b[39;00m\u001b[38;5;250m \u001b[39m\u001b[38;5;21;01m.\u001b[39;00m\u001b[38;5;21;01m_parser\u001b[39;00m\u001b[38;5;250m \u001b[39m\u001b[38;5;28;01mimport\u001b[39;00m MarkerAtom, MarkerList, Op, Value, Variable\n\u001b[1;32m     14\u001b[0m \u001b[38;5;28;01mfrom\u001b[39;00m\u001b[38;5;250m \u001b[39m\u001b[38;5;21;01m.\u001b[39;00m\u001b[38;5;21;01m_parser\u001b[39;00m\u001b[38;5;250m \u001b[39m\u001b[38;5;28;01mimport\u001b[39;00m parse_marker \u001b[38;5;28;01mas\u001b[39;00m _parse_marker\n\u001b[1;32m     15\u001b[0m \u001b[38;5;28;01mfrom\u001b[39;00m\u001b[38;5;250m \u001b[39m\u001b[38;5;21;01m.\u001b[39;00m\u001b[38;5;21;01m_tokenizer\u001b[39;00m\u001b[38;5;250m \u001b[39m\u001b[38;5;28;01mimport\u001b[39;00m ParserSyntaxError\n",
      "File \u001b[0;32m~/anaconda3/envs/python3/lib/python3.10/site-packages/packaging/_parser.py:12\u001b[0m\n\u001b[1;32m      9\u001b[0m \u001b[38;5;28;01mimport\u001b[39;00m\u001b[38;5;250m \u001b[39m\u001b[38;5;21;01mast\u001b[39;00m\n\u001b[1;32m     10\u001b[0m \u001b[38;5;28;01mfrom\u001b[39;00m\u001b[38;5;250m \u001b[39m\u001b[38;5;21;01mtyping\u001b[39;00m\u001b[38;5;250m \u001b[39m\u001b[38;5;28;01mimport\u001b[39;00m NamedTuple, Sequence, Tuple, Union\n\u001b[0;32m---> 12\u001b[0m \u001b[38;5;28;01mfrom\u001b[39;00m\u001b[38;5;250m \u001b[39m\u001b[38;5;21;01m.\u001b[39;00m\u001b[38;5;21;01m_tokenizer\u001b[39;00m\u001b[38;5;250m \u001b[39m\u001b[38;5;28;01mimport\u001b[39;00m DEFAULT_RULES, Tokenizer\n\u001b[1;32m     15\u001b[0m \u001b[38;5;28;01mclass\u001b[39;00m\u001b[38;5;250m \u001b[39m\u001b[38;5;21;01mNode\u001b[39;00m:\n\u001b[1;32m     16\u001b[0m     \u001b[38;5;28;01mdef\u001b[39;00m\u001b[38;5;250m \u001b[39m\u001b[38;5;21m__init__\u001b[39m(\u001b[38;5;28mself\u001b[39m, value: \u001b[38;5;28mstr\u001b[39m) \u001b[38;5;241m-\u001b[39m\u001b[38;5;241m>\u001b[39m \u001b[38;5;28;01mNone\u001b[39;00m:\n",
      "File \u001b[0;32m~/anaconda3/envs/python3/lib/python3.10/site-packages/packaging/_tokenizer.py:8\u001b[0m\n\u001b[1;32m      5\u001b[0m \u001b[38;5;28;01mfrom\u001b[39;00m\u001b[38;5;250m \u001b[39m\u001b[38;5;21;01mdataclasses\u001b[39;00m\u001b[38;5;250m \u001b[39m\u001b[38;5;28;01mimport\u001b[39;00m dataclass\n\u001b[1;32m      6\u001b[0m \u001b[38;5;28;01mfrom\u001b[39;00m\u001b[38;5;250m \u001b[39m\u001b[38;5;21;01mtyping\u001b[39;00m\u001b[38;5;250m \u001b[39m\u001b[38;5;28;01mimport\u001b[39;00m Iterator, NoReturn\n\u001b[0;32m----> 8\u001b[0m \u001b[38;5;28;01mfrom\u001b[39;00m\u001b[38;5;250m \u001b[39m\u001b[38;5;21;01m.\u001b[39;00m\u001b[38;5;21;01mspecifiers\u001b[39;00m\u001b[38;5;250m \u001b[39m\u001b[38;5;28;01mimport\u001b[39;00m Specifier\n\u001b[1;32m     11\u001b[0m \u001b[38;5;129m@dataclass\u001b[39m\n\u001b[1;32m     12\u001b[0m \u001b[38;5;28;01mclass\u001b[39;00m\u001b[38;5;250m \u001b[39m\u001b[38;5;21;01mToken\u001b[39;00m:\n\u001b[1;32m     13\u001b[0m     name: \u001b[38;5;28mstr\u001b[39m\n",
      "File \u001b[0;32m~/anaconda3/envs/python3/lib/python3.10/site-packages/packaging/specifiers.py:18\u001b[0m\n\u001b[1;32m     15\u001b[0m \u001b[38;5;28;01mimport\u001b[39;00m\u001b[38;5;250m \u001b[39m\u001b[38;5;21;01mre\u001b[39;00m\n\u001b[1;32m     16\u001b[0m \u001b[38;5;28;01mfrom\u001b[39;00m\u001b[38;5;250m \u001b[39m\u001b[38;5;21;01mtyping\u001b[39;00m\u001b[38;5;250m \u001b[39m\u001b[38;5;28;01mimport\u001b[39;00m Callable, Iterable, Iterator, TypeVar, Union\n\u001b[0;32m---> 18\u001b[0m \u001b[38;5;28;01mfrom\u001b[39;00m\u001b[38;5;250m \u001b[39m\u001b[38;5;21;01m.\u001b[39;00m\u001b[38;5;21;01mutils\u001b[39;00m\u001b[38;5;250m \u001b[39m\u001b[38;5;28;01mimport\u001b[39;00m canonicalize_version\n\u001b[1;32m     19\u001b[0m \u001b[38;5;28;01mfrom\u001b[39;00m\u001b[38;5;250m \u001b[39m\u001b[38;5;21;01m.\u001b[39;00m\u001b[38;5;21;01mversion\u001b[39;00m\u001b[38;5;250m \u001b[39m\u001b[38;5;28;01mimport\u001b[39;00m Version\n\u001b[1;32m     21\u001b[0m UnparsedVersion \u001b[38;5;241m=\u001b[39m Union[Version, \u001b[38;5;28mstr\u001b[39m]\n",
      "File \u001b[0;32m~/anaconda3/envs/python3/lib/python3.10/site-packages/packaging/utils.py:12\u001b[0m\n\u001b[1;32m      9\u001b[0m \u001b[38;5;28;01mfrom\u001b[39;00m\u001b[38;5;250m \u001b[39m\u001b[38;5;21;01mtyping\u001b[39;00m\u001b[38;5;250m \u001b[39m\u001b[38;5;28;01mimport\u001b[39;00m NewType, Tuple, Union, cast\n\u001b[1;32m     11\u001b[0m \u001b[38;5;28;01mfrom\u001b[39;00m\u001b[38;5;250m \u001b[39m\u001b[38;5;21;01m.\u001b[39;00m\u001b[38;5;21;01mtags\u001b[39;00m\u001b[38;5;250m \u001b[39m\u001b[38;5;28;01mimport\u001b[39;00m Tag, parse_tag\n\u001b[0;32m---> 12\u001b[0m \u001b[38;5;28;01mfrom\u001b[39;00m\u001b[38;5;250m \u001b[39m\u001b[38;5;21;01m.\u001b[39;00m\u001b[38;5;21;01mversion\u001b[39;00m\u001b[38;5;250m \u001b[39m\u001b[38;5;28;01mimport\u001b[39;00m InvalidVersion, Version, _TrimmedRelease\n\u001b[1;32m     14\u001b[0m BuildTag \u001b[38;5;241m=\u001b[39m Union[Tuple[()], Tuple[\u001b[38;5;28mint\u001b[39m, \u001b[38;5;28mstr\u001b[39m]]\n\u001b[1;32m     15\u001b[0m NormalizedName \u001b[38;5;241m=\u001b[39m NewType(\u001b[38;5;124m\"\u001b[39m\u001b[38;5;124mNormalizedName\u001b[39m\u001b[38;5;124m\"\u001b[39m, \u001b[38;5;28mstr\u001b[39m)\n",
      "\u001b[0;31mImportError\u001b[0m: cannot import name '_TrimmedRelease' from 'packaging.version' (/home/ec2-user/anaconda3/envs/python3/lib/python3.10/site-packages/packaging/version.py)"
     ]
    }
   ],
   "source": [
    "#Now let's import packages that we installed\n",
    "numthreads=!lscpu | grep '^CPU(s)'| awk '{print $2-1}'\n",
    "numthreadsint = int(numthreads[0])\n",
    "import sys\n",
    "from jupyterquiz import display_quiz\n",
    "from IPython.display import IFrame\n",
    "#from IPython.display import display\n",
    "from jupytercards import display_flashcards\n",
    "import pandas as pd\n",
    "#import modules for matching-type quiz\n",
    "%cd questions\n",
    "from quiz_module import run_quiz\n",
    "%cd ../\n",
    "import json\n",
    "import ipywidgets as widgets\n",
    "from IPython.display import display\n",
    "import random\n",
    "print(\"done\")"
   ]
  },
  {
   "cell_type": "code",
   "execution_count": 4,
   "id": "de1c6534-7c51-49ed-9417-e87873043259",
   "metadata": {
    "tags": []
   },
   "outputs": [
    {
     "name": "stdout",
     "output_type": "stream",
     "text": [
      "/home/ec2-user/SageMaker/SandboxChromatinOccupancy\n",
      "/home/ec2-user/SageMaker/SandboxChromatinOccupancy\r\n"
     ]
    }
   ],
   "source": [
    "wd=\"~/SageMaker/SandboxChromatinOccupancy\"\n",
    "%cd $wd\n",
    "#show which folder you are working in. \n",
    "!pwd"
   ]
  },
  {
   "cell_type": "markdown",
   "id": "30385d3c-d413-43ac-8e4b-d5d0ca019921",
   "metadata": {},
   "source": [
    "<div class=\"alert-info\" style=\"font-size:200%\">\n",
    "Interactive Quiz Question: Match the method to how it implements chromatin fragmentation.\n",
    "</div>"
   ]
  },
  {
   "cell_type": "code",
   "execution_count": 5,
   "id": "81d1bd13-af81-4097-96dc-2960568d83bf",
   "metadata": {
    "tags": []
   },
   "outputs": [
    {
     "ename": "NameError",
     "evalue": "name 'run_quiz' is not defined",
     "output_type": "error",
     "traceback": [
      "\u001b[0;31m---------------------------------------------------------------------------\u001b[0m",
      "\u001b[0;31mNameError\u001b[0m                                 Traceback (most recent call last)",
      "Cell \u001b[0;32mIn[5], line 2\u001b[0m\n\u001b[1;32m      1\u001b[0m \u001b[38;5;66;03m#Run for the quiz\u001b[39;00m\n\u001b[0;32m----> 2\u001b[0m \u001b[43mrun_quiz\u001b[49m(\u001b[38;5;124m\"\u001b[39m\u001b[38;5;124m./questions/methodvsfragmentation.json\u001b[39m\u001b[38;5;124m\"\u001b[39m, instant_feedback\u001b[38;5;241m=\u001b[39m\u001b[38;5;28;01mTrue\u001b[39;00m, shuffle_questions\u001b[38;5;241m=\u001b[39m\u001b[38;5;28;01mTrue\u001b[39;00m, shuffle_answers\u001b[38;5;241m=\u001b[39m\u001b[38;5;28;01mTrue\u001b[39;00m)\n",
      "\u001b[0;31mNameError\u001b[0m: name 'run_quiz' is not defined"
     ]
    }
   ],
   "source": [
    "#Run for the quiz\n",
    "run_quiz(\"./questions/methodvsfragmentation.json\", instant_feedback=True, shuffle_questions=True, shuffle_answers=True)"
   ]
  },
  {
   "cell_type": "code",
   "execution_count": 12,
   "id": "3c744cbf",
   "metadata": {
    "tags": []
   },
   "outputs": [
    {
     "name": "stdout",
     "output_type": "stream",
     "text": [
      "/home/ec2-user/SageMaker/SandboxChromatinOccupancy/Submodule1\n",
      "--2025-02-13 19:22:09--  https://chromatinoccupancytutorial.s3.us-east-2.amazonaws.com/Submodule1.2.zip\n",
      "Resolving chromatinoccupancytutorial.s3.us-east-2.amazonaws.com (chromatinoccupancytutorial.s3.us-east-2.amazonaws.com)... 3.5.133.116, 3.5.133.16, 16.12.64.82, ...\n",
      "Connecting to chromatinoccupancytutorial.s3.us-east-2.amazonaws.com (chromatinoccupancytutorial.s3.us-east-2.amazonaws.com)|3.5.133.116|:443... connected.\n",
      "HTTP request sent, awaiting response... 200 OK\n",
      "Length: 366387535 (349M) [application/zip]\n",
      "Saving to: ‘Submodule1.2.zip’\n",
      "\n",
      "100%[======================================>] 366,387,535 60.4MB/s   in 5.6s   \n",
      "\n",
      "2025-02-13 19:22:14 (62.3 MB/s) - ‘Submodule1.2.zip’ saved [366387535/366387535]\n",
      "\n",
      "Archive:  Submodule1.2.zip\n",
      "   creating: Submodule1.2/ChIPseqFiles/\n",
      "  inflating: Submodule1.2/ChIPseqFiles/H3K27ac_ChIPseq_aux.fastq.gz  \n",
      "  inflating: Submodule1.2/ChIPseqFiles/H3K27ac_ChIPseq_noaux.fastq.gz  \n",
      "   creating: Submodule1.2/CUTnRUNFiles/\n",
      "  inflating: Submodule1.2/CUTnRUNFiles/BRG1_con_1.fastq.gz  \n",
      "  inflating: Submodule1.2/CUTnRUNFiles/BRG1_con_2.fastq.gz  \n",
      "  inflating: Submodule1.2/CUTnRUNFiles/BRG1_FLV_1.fastq.gz  \n",
      "  inflating: Submodule1.2/CUTnRUNFiles/BRG1_FLV_2.fastq.gz  \n",
      "  inflating: Submodule1.2/CUTnRUNFiles/IgG_CnR_1.fastq.gz  \n",
      "  inflating: Submodule1.2/CUTnRUNFiles/IgG_CnR_2.fastq.gz  \n",
      "   creating: Submodule1.2/CUTnTagFiles/\n",
      "  inflating: Submodule1.2/CUTnTagFiles/IgG_CnT_1.fastq.gz  \n",
      "  inflating: Submodule1.2/CUTnTagFiles/IgG_CnT_2.fastq.gz  \n",
      "  inflating: Submodule1.2/CUTnTagFiles/RNAPII-S5P_con_1.fastq.gz  \n",
      "  inflating: Submodule1.2/CUTnTagFiles/RNAPII-S5P_con_2.fastq.gz  \n",
      "  inflating: Submodule1.2/CUTnTagFiles/RNAPII-S5P_FLV_1.fastq.gz  \n",
      "  inflating: Submodule1.2/CUTnTagFiles/RNAPII-S5P_FLV_2.fastq.gz  \n",
      "   creating: Submodule1.2/RefGenome/\n",
      "  inflating: Submodule1.2/RefGenome/ChIPseqAdapters.fa  \n",
      "  inflating: Submodule1.2/RefGenome/mm39_chr4.1.bt2  \n",
      "  inflating: Submodule1.2/RefGenome/mm39_chr4.2.bt2  \n",
      "  inflating: Submodule1.2/RefGenome/mm39_chr4.3.bt2  \n",
      "  inflating: Submodule1.2/RefGenome/mm39_chr4.4.bt2  \n",
      "  inflating: Submodule1.2/RefGenome/mm39_chr4.rev.1.bt2  \n",
      "  inflating: Submodule1.2/RefGenome/mm39_chr4.rev.2.bt2  \n",
      "done\n"
     ]
    }
   ],
   "source": [
    "# These commands move into our Tutorial 1 directory and create our subdirectory structure.\n",
    "!mkdir -p $wd/Submodule1/\n",
    "%cd $wd/Submodule1/\n",
    "!mkdir -p $wd/Submodule1/QC\n",
    "!mkdir -p $wd/Submodule1/Trimmed\n",
    "!mkdir -p $wd/Submodule1/Mapped\n",
    "\n",
    "#Let's copy and extract our tutorial files\n",
    "!wget https://chromatinoccupancytutorial.s3.us-east-2.amazonaws.com/Submodule1.2.zip\n",
    "!unzip Submodule1.2.zip\n",
    "print(\"done\")"
   ]
  },
  {
   "cell_type": "code",
   "execution_count": 13,
   "id": "67d46d92-c2c1-4cb1-b0ff-1f4cee3645c4",
   "metadata": {
    "tags": []
   },
   "outputs": [
    {
     "name": "stdout",
     "output_type": "stream",
     "text": [
      "/home/ec2-user/SageMaker/SandboxChromatinOccupancy/Submodule1\n",
      "Mapped\tQC  Submodule1.2  Submodule1.2.zip  Trimmed\n"
     ]
    }
   ],
   "source": [
    "#show which folder you are working in. It should now say Submodule1 at the end.\n",
    "!pwd\n",
    "#list the files/folders in the current directory. You should see a folder for QC, Trimmed, Mapped, and Submodule1.2.\n",
    "!ls $wd/Submodule1"
   ]
  },
  {
   "cell_type": "markdown",
   "id": "2a906e84-fc62-466c-b875-f5a1985ba60a",
   "metadata": {},
   "source": [
    "<img src=\"images/ChIPseqLogo.jpg\" alt=\"Drawing\" style=\"width: 100px;\" align=\"left\" /> Run the following command for ChIP-seq, which lists the fastq files we will use. You should see H3K27ac_ChIPseq_aux.fastq.gz and H3K27ac_ChIPseq_noaux.fastq.gz which correspond to compressed fastq files for H3K27ac with and without auxin treatment. There is only one file for each because this is single-end data."
   ]
  },
  {
   "cell_type": "code",
   "execution_count": 6,
   "id": "cec9ee99",
   "metadata": {
    "tags": []
   },
   "outputs": [
    {
     "name": "stdout",
     "output_type": "stream",
     "text": [
      "H3K27ac_ChIPseq_aux.fastq.gz  H3K27ac_ChIPseq_noaux.fastq.gz\n"
     ]
    }
   ],
   "source": [
    "#list the files in ChIPseqFiles which we just downloaded.\n",
    "!ls $wd/Submodule1/Submodule1.2/ChIPseqFiles"
   ]
  },
  {
   "cell_type": "markdown",
   "id": "7b582e9c-5c72-4ff0-a98a-22f83e7cc596",
   "metadata": {},
   "source": [
    "<img src=\"images/CUT&RUNLogo.jpg\" alt=\"Drawing\" style=\"width: 120px;\" align=\"left\"/> Run the following command for CUT&RUN, which lists the fastq files we will use. You should see 6 files including two for BRG1 in control, two for BRG1 after flavopiridol treatment, and two for IgG. There are two for each because we will demonstrate how to process paired-end sequence data. "
   ]
  },
  {
   "cell_type": "code",
   "execution_count": 14,
   "id": "cfeea2c6",
   "metadata": {
    "tags": []
   },
   "outputs": [
    {
     "name": "stdout",
     "output_type": "stream",
     "text": [
      "BRG1_con_1.fastq.gz  BRG1_FLV_1.fastq.gz  IgG_CnR_1.fastq.gz\r\n",
      "BRG1_con_2.fastq.gz  BRG1_FLV_2.fastq.gz  IgG_CnR_2.fastq.gz\r\n"
     ]
    }
   ],
   "source": [
    "#list the files in CUT&RUNFiles which we just downloaded.\n",
    "!ls $wd/Submodule1/Submodule1.2/CUTnRUNFiles"
   ]
  },
  {
   "cell_type": "markdown",
   "id": "39d5938b-7656-4a37-88d4-6d32299c98f9",
   "metadata": {},
   "source": [
    "<img src=\"images/CUT&TagLogo.jpg\" alt=\"Drawing\" style=\"width: 120px;\" align=\"left\"/>  Run the following command for CUT&Tag, which lists the fastq files we will use. You should see 6 files including two for RNAPII-S5P in control, two for RNAPII-S5P after flavopiridol treatment, and two for IgG. There are two for each because we will demonstrate how to process paired-end sequence data. "
   ]
  },
  {
   "cell_type": "code",
   "execution_count": 15,
   "id": "d26b006b",
   "metadata": {
    "tags": []
   },
   "outputs": [
    {
     "name": "stdout",
     "output_type": "stream",
     "text": [
      "IgG_CnT_1.fastq.gz  RNAPII-S5P_con_1.fastq.gz  RNAPII-S5P_FLV_1.fastq.gz\r\n",
      "IgG_CnT_2.fastq.gz  RNAPII-S5P_con_2.fastq.gz  RNAPII-S5P_FLV_2.fastq.gz\r\n"
     ]
    }
   ],
   "source": [
    "#list the files in CUT&TagFiles which we just downloaded.\n",
    "!ls $wd/Submodule1/Submodule1.2/CUTnTagFiles"
   ]
  },
  {
   "cell_type": "markdown",
   "id": "3ae25ae1-6e62-41dd-b43d-90501f0902f8",
   "metadata": {},
   "source": [
    "### Single-end v.s. Paired-end Sequencing\n",
    "\n",
    "Illumina offers both single-end and paired-end sequencing. Single-end provides a short sequence from one end of the fragments. Paired-end provides a short sequence from both ends. While Single-end can be sufficient for many applications where we need a count of reads at specific positions, paired-end sequencing provides several advantages. One advantage is that paired-end reads provide more sequenced portions, useful for NGS applications that need to know the exact sequence; e.g. SNP detection and WGBS. Knowing the sequence of both ends can also help with the alignment of fragments when one end lies in a repetitive region (see the figure on the left). In this module, we'll demonstrate how to process single-end data for ChIP-seq and demonstrate processing paired-end data for CUT&RUN and CUT&Tag. However, we do recommend using paired-end sequencing for all of these methods if you are planning an experiment.\n",
    "\n",
    "<img src=\"images/singleVSpairedend.gif\" alt=\"Drawing\" style=\"width: 500px;\" align=\"center\"/>"
   ]
  },
  {
   "cell_type": "markdown",
   "id": "5d424a82",
   "metadata": {},
   "source": [
    "<div class=\"alert-info\" style=\"font-size:200%\">\n",
    "STEP 2: QC\n",
    "</div>\n",
    "\n",
    "Sequences are typically provided as files in fastq format. This format includes four lines per sequence.\n"
   ]
  },
  {
   "cell_type": "code",
   "execution_count": 10,
   "id": "fb918b0f",
   "metadata": {
    "tags": []
   },
   "outputs": [
    {
     "name": "stdout",
     "output_type": "stream",
     "text": [
      "[Errno 2] No such file or directory: '$wd'\n",
      "/home/ec2-user/SageMaker/SandboxChromatinOccupancy\n"
     ]
    },
    {
     "ename": "NameError",
     "evalue": "name 'display_flashcards' is not defined",
     "output_type": "error",
     "traceback": [
      "\u001b[0;31m---------------------------------------------------------------------------\u001b[0m",
      "\u001b[0;31mNameError\u001b[0m                                 Traceback (most recent call last)",
      "Cell \u001b[0;32mIn[10], line 2\u001b[0m\n\u001b[1;32m      1\u001b[0m get_ipython()\u001b[38;5;241m.\u001b[39mrun_line_magic(\u001b[38;5;124m'\u001b[39m\u001b[38;5;124mcd\u001b[39m\u001b[38;5;124m'\u001b[39m, \u001b[38;5;124m'\u001b[39m\u001b[38;5;124m$wd\u001b[39m\u001b[38;5;124m'\u001b[39m)\n\u001b[0;32m----> 2\u001b[0m \u001b[43mdisplay_flashcards\u001b[49m(\u001b[38;5;124m'\u001b[39m\u001b[38;5;124mflashcards/FastqFlashCard.json\u001b[39m\u001b[38;5;124m'\u001b[39m)\n",
      "\u001b[0;31mNameError\u001b[0m: name 'display_flashcards' is not defined"
     ]
    }
   ],
   "source": [
    "%cd $wd\n",
    "display_flashcards('flashcards/FastqFlashCard.json')"
   ]
  },
  {
   "cell_type": "markdown",
   "id": "79650e52",
   "metadata": {},
   "source": [
    "## Click on the above image to see what each line represents.\n",
    "### Next, let's take a look at the sequence quality of the raw reads using fastqc:"
   ]
  },
  {
   "cell_type": "markdown",
   "id": "71124e1a-94e2-4fbf-a0c7-17542a1a73fb",
   "metadata": {},
   "source": [
    "<img src=\"images/ChIPseqLogo.jpg\" alt=\"Drawing\" style=\"width: 100px;\" align=\"left\"/>"
   ]
  },
  {
   "cell_type": "code",
   "execution_count": 14,
   "id": "0bfffdc1",
   "metadata": {
    "tags": []
   },
   "outputs": [
    {
     "name": "stdout",
     "output_type": "stream",
     "text": [
      "application/gzip\n",
      "application/gzip\n"
     ]
    }
   ],
   "source": [
    "# This command runs fastqc on each fastq.gz file inside our InputFiles directory and stores the ouput reports in our QC directory.\n",
    "!fastqc -t $numthreadsint -q -o $wd/Submodule1/QC $wd/Submodule1/Submodule1.2/ChIPseqFiles/*fastq.gz"
   ]
  },
  {
   "cell_type": "code",
   "execution_count": 15,
   "id": "bc9635fc",
   "metadata": {
    "tags": []
   },
   "outputs": [
    {
     "name": "stdout",
     "output_type": "stream",
     "text": [
      "/home/ec2-user/SageMaker/SandboxChromatinOccupancy\n"
     ]
    },
    {
     "ename": "NameError",
     "evalue": "name 'IFrame' is not defined",
     "output_type": "error",
     "traceback": [
      "\u001b[0;31m---------------------------------------------------------------------------\u001b[0m",
      "\u001b[0;31mNameError\u001b[0m                                 Traceback (most recent call last)",
      "Cell \u001b[0;32mIn[15], line 3\u001b[0m\n\u001b[1;32m      1\u001b[0m \u001b[38;5;66;03m# We can display the resulting fastqc results.\u001b[39;00m\n\u001b[1;32m      2\u001b[0m get_ipython()\u001b[38;5;241m.\u001b[39mrun_line_magic(\u001b[38;5;124m'\u001b[39m\u001b[38;5;124mcd\u001b[39m\u001b[38;5;124m'\u001b[39m, \u001b[38;5;124m'\u001b[39m\u001b[38;5;124m$wd\u001b[39m\u001b[38;5;124m'\u001b[39m)\n\u001b[0;32m----> 3\u001b[0m \u001b[43mIFrame\u001b[49m(src\u001b[38;5;241m=\u001b[39m\u001b[38;5;124m'\u001b[39m\u001b[38;5;124mSubmodule1/QC/H3K27ac_ChIPseq_noaux_fastqc.html\u001b[39m\u001b[38;5;124m'\u001b[39m, width\u001b[38;5;241m=\u001b[39m\u001b[38;5;241m1080\u001b[39m, height\u001b[38;5;241m=\u001b[39m\u001b[38;5;241m800\u001b[39m)\n",
      "\u001b[0;31mNameError\u001b[0m: name 'IFrame' is not defined"
     ]
    }
   ],
   "source": [
    "# We can display the resulting fastqc results.\n",
    "%cd $wd\n",
    "IFrame(src='Submodule1/QC/H3K27ac_ChIPseq_noaux_fastqc.html', width=1080, height=800)"
   ]
  },
  {
   "cell_type": "markdown",
   "id": "3aa059f4",
   "metadata": {},
   "source": [
    "<div class=\"alert-success\" style=\"font-size:100%\">\n",
    "After you've browsed the above report, try to visualize the quality of the other sample(s). Use the cell below to adapt the commands to visualize the bafi sample.\n",
    "</div>"
   ]
  },
  {
   "cell_type": "markdown",
   "id": "c1c25091-f83c-4e6d-b5ab-65979f052e69",
   "metadata": {},
   "source": [
    "<div class=\"alert-warning\" style=\"font-size:150%; color:black\">\n",
    "⬇️ Try it yourself! Within the following block, try to type out the command for fastqc on the other sample ⬇️\n",
    "</div>"
   ]
  },
  {
   "cell_type": "code",
   "execution_count": 13,
   "id": "04ad75e8",
   "metadata": {
    "tags": []
   },
   "outputs": [],
   "source": [
    "#Type the code to visualize the fastqc report on the other sample: Submodule1/QC/H3K72ac_ChIPseq_aux_fastqc.html\n",
    "\n"
   ]
  },
  {
   "cell_type": "markdown",
   "id": "75c51342",
   "metadata": {},
   "source": [
    "Run the following cells for CUT&RUN. 🕘 The fastqc step may take a few minutes.\n",
    "\n",
    "<img src=\"images/CUT&RUNLogo.jpg\" alt=\"Drawing\" style=\"width: 120px;\" align=\"left\"/> "
   ]
  },
  {
   "cell_type": "code",
   "execution_count": 16,
   "id": "301a9b2c",
   "metadata": {
    "tags": []
   },
   "outputs": [
    {
     "name": "stdout",
     "output_type": "stream",
     "text": [
      "application/gzip\n",
      "application/gzip\n",
      "application/gzip\n",
      "application/gzip\n",
      "application/gzip\n",
      "application/gzip\n"
     ]
    }
   ],
   "source": [
    "#run this cell for CUT&RUN\n",
    "# This command runs fastqc on each fastq.gz file inside our InputFiles directory and stores the ouput reports in our QC directory.\n",
    "!fastqc -t $numthreadsint -q -o $wd/Submodule1/QC $wd/Submodule1/Submodule1.2/CUTnRUNFiles/*fastq.gz"
   ]
  },
  {
   "cell_type": "code",
   "execution_count": 17,
   "id": "1bb5dcbd-d203-41ba-b8fb-8aaa1f98c61f",
   "metadata": {
    "scrolled": true,
    "tags": []
   },
   "outputs": [
    {
     "name": "stdout",
     "output_type": "stream",
     "text": [
      "/home/ec2-user/SageMaker/SandboxChromatinOccupancy\n"
     ]
    },
    {
     "ename": "NameError",
     "evalue": "name 'IFrame' is not defined",
     "output_type": "error",
     "traceback": [
      "\u001b[0;31m---------------------------------------------------------------------------\u001b[0m",
      "\u001b[0;31mNameError\u001b[0m                                 Traceback (most recent call last)",
      "Cell \u001b[0;32mIn[17], line 2\u001b[0m\n\u001b[1;32m      1\u001b[0m get_ipython()\u001b[38;5;241m.\u001b[39mrun_line_magic(\u001b[38;5;124m'\u001b[39m\u001b[38;5;124mcd\u001b[39m\u001b[38;5;124m'\u001b[39m, \u001b[38;5;124m'\u001b[39m\u001b[38;5;124m$wd\u001b[39m\u001b[38;5;124m'\u001b[39m)\n\u001b[0;32m----> 2\u001b[0m \u001b[43mIFrame\u001b[49m(src\u001b[38;5;241m=\u001b[39m\u001b[38;5;124m'\u001b[39m\u001b[38;5;124mSubmodule1/QC/BRG1_con_1_fastqc.html\u001b[39m\u001b[38;5;124m'\u001b[39m, width\u001b[38;5;241m=\u001b[39m\u001b[38;5;241m1080\u001b[39m, height\u001b[38;5;241m=\u001b[39m\u001b[38;5;241m800\u001b[39m)\n",
      "\u001b[0;31mNameError\u001b[0m: name 'IFrame' is not defined"
     ]
    }
   ],
   "source": [
    "# We can see an example of the resulting fastqc results.\n",
    "%cd $wd\n",
    "IFrame(src='Submodule1/QC/BRG1_con_1_fastqc.html', width=1080, height=800)"
   ]
  },
  {
   "cell_type": "markdown",
   "id": "9c1eb4eb",
   "metadata": {},
   "source": [
    "<div class=\"alert-warning\" style=\"font-size:150%; color:black\">\n",
    "⬇️ Try it yourself! Within the following block, try to type out the command for fastqc on the other samples ⬇️\n",
    "</div>"
   ]
  },
  {
   "cell_type": "code",
   "execution_count": null,
   "id": "f6a81af5",
   "metadata": {},
   "outputs": [],
   "source": [
    "#Type the code to visualize the fastqc report on the other CUT&RUN samples: e.g., Submodule1/QC/BRG1_FLV_1_fastqc.html\n"
   ]
  },
  {
   "cell_type": "markdown",
   "id": "0e6c977f",
   "metadata": {},
   "source": [
    "Run the following cells for CUT&Tag. 🕘 The fastqc step may take a few minutes.\n",
    "\n",
    "<img src=\"images/CUT&TagLogo.jpg\" alt=\"Drawing\" style=\"width: 120px;\" align=\"left\"/>"
   ]
  },
  {
   "cell_type": "code",
   "execution_count": 18,
   "id": "021fb2a4",
   "metadata": {
    "tags": []
   },
   "outputs": [
    {
     "name": "stdout",
     "output_type": "stream",
     "text": [
      "application/gzip\n",
      "application/gzip\n",
      "application/gzip\n",
      "application/gzip\n",
      "application/gzip\n",
      "application/gzip\n"
     ]
    }
   ],
   "source": [
    "#run this cell for CUT&Tag\n",
    "# This command runs fastqc on each fastq.gz file inside our InputFiles directory and stores the ouput reports in our QC directory.\n",
    "!fastqc -t $numthreadsint -q -o $wd/Submodule1/QC $wd/Submodule1/Submodule1.2/CUTnTagFiles/*fastq.gz"
   ]
  },
  {
   "cell_type": "code",
   "execution_count": 18,
   "id": "c8c30797-74d9-4a45-ac08-7b5f85f9ac50",
   "metadata": {
    "tags": []
   },
   "outputs": [
    {
     "name": "stdout",
     "output_type": "stream",
     "text": [
      "/home/ec2-user/SageMaker/SandboxChromatinOccupancy\n"
     ]
    },
    {
     "ename": "NameError",
     "evalue": "name 'IFrame' is not defined",
     "output_type": "error",
     "traceback": [
      "\u001b[0;31m---------------------------------------------------------------------------\u001b[0m",
      "\u001b[0;31mNameError\u001b[0m                                 Traceback (most recent call last)",
      "Cell \u001b[0;32mIn[18], line 2\u001b[0m\n\u001b[1;32m      1\u001b[0m get_ipython()\u001b[38;5;241m.\u001b[39mrun_line_magic(\u001b[38;5;124m'\u001b[39m\u001b[38;5;124mcd\u001b[39m\u001b[38;5;124m'\u001b[39m, \u001b[38;5;124m'\u001b[39m\u001b[38;5;124m$wd\u001b[39m\u001b[38;5;124m'\u001b[39m)\n\u001b[0;32m----> 2\u001b[0m \u001b[43mIFrame\u001b[49m(src\u001b[38;5;241m=\u001b[39m\u001b[38;5;124m'\u001b[39m\u001b[38;5;124mSubmodule1/QC/RNAPII-S5P_con_1_fastqc.html\u001b[39m\u001b[38;5;124m'\u001b[39m, width\u001b[38;5;241m=\u001b[39m\u001b[38;5;241m1080\u001b[39m, height\u001b[38;5;241m=\u001b[39m\u001b[38;5;241m800\u001b[39m)\n",
      "\u001b[0;31mNameError\u001b[0m: name 'IFrame' is not defined"
     ]
    }
   ],
   "source": [
    "# We can see an example of the resulting fastqc results.\n",
    "%cd $wd\n",
    "IFrame(src='Submodule1/QC/RNAPII-S5P_con_1_fastqc.html', width=1080, height=800)"
   ]
  },
  {
   "cell_type": "markdown",
   "id": "9e7f4d4d",
   "metadata": {},
   "source": [
    "<div class=\"alert-warning\" style=\"font-size:150%; color:black\">\n",
    "⬇️ Try it yourself! Within the following block, try to type out the command for fastqc on the other samples ⬇️\n",
    "</div>"
   ]
  },
  {
   "cell_type": "code",
   "execution_count": null,
   "id": "4def32b5",
   "metadata": {},
   "outputs": [],
   "source": [
    "#Type the code to visualize the fastqc report on the other CUT&Tag samples: e.g., Submodule1/QC/RNAPII-S5P_FLV_1_fastqc.html\n"
   ]
  },
  {
   "cell_type": "markdown",
   "id": "833c98cd",
   "metadata": {},
   "source": [
    "🕘<div class=\"alert-warning\" style=\"font-size:150%; color:black\">\n",
    "Note: You will have to wait until all CUT&RUN and CUT&Tag QC are finished to run the next commands. Since we have more CUT&RUN and CUT&Tag fastq files and they contain more reads than the ChIPseq files we are using as examples, this will take a few minutes to complete!\n",
    "</div>"
   ]
  },
  {
   "cell_type": "markdown",
   "id": "f29852db",
   "metadata": {},
   "source": [
    "<div class=\"alert-info\" style=\"font-size:200%\">\n",
    "Trimming\n",
    "</div>\n",
    "<img src=\"images/trimming.jpg\" alt=\"Drawing\" style=\"width: 250px;\"/>\n",
    "Now that we've viewed the quality let's trim the sequences to remove poor-quality bases and any adapter contamination. We'll demonstrate a package called Trimmomatic fo the ChIP-seq data.\n",
    "\n",
    "## Let's use trimmomatic to prepare the ChIP-seq sequences before mapping."
   ]
  },
  {
   "cell_type": "markdown",
   "id": "d5325d4b-f973-46fe-a3b4-c68566eb3c16",
   "metadata": {},
   "source": [
    "<img src=\"images/ChIPseqLogo.jpg\" alt=\"Drawing\" style=\"width: 100px;\" align=\"left\"/>"
   ]
  },
  {
   "cell_type": "code",
   "execution_count": 19,
   "id": "1499d955",
   "metadata": {
    "tags": []
   },
   "outputs": [
    {
     "name": "stdout",
     "output_type": "stream",
     "text": [
      "/home/ec2-user/SageMaker/SandboxChromatinOccupancy\n",
      "TrimmomaticSE: Started with arguments:\n",
      " -threads 1 /home/ec2-user/SageMaker/SandboxChromatinOccupancy/Submodule1/Submodule1.2/ChIPseqFiles/H3K27ac_ChIPseq_noaux.fastq.gz /home/ec2-user/SageMaker/SandboxChromatinOccupancy/Submodule1/Trimmed/H3K27ac_ChIPseq_noaux_trimmed.fastq.gz ILLUMINACLIP:Submodule1/Submodule1.2/RefGenome/ChIPseqAdapters.fa:2:30:10 LEADING:3 TRAILING:3\n",
      "Using Long Clipping Sequence: 'AGATCGGAAGAGCGGTTCAGCAGGAATGCCGAG'\n",
      "Using Long Clipping Sequence: 'AGATCGGAAGAGCGTCGTGTAGGGAAAGAGTGT'\n",
      "Using Long Clipping Sequence: 'AGATCGGAAGAGCTCGTATGCCGTCTTCTGCTTG'\n",
      "ILLUMINACLIP: Using 0 prefix pairs, 3 forward/reverse sequences, 0 forward only sequences, 0 reverse only sequences\n",
      "Quality encoding detected as phred33\n",
      "Input Reads: 512000 Surviving: 511999 (100.00%) Dropped: 1 (0.00%)\n",
      "TrimmomaticSE: Completed successfully\n",
      "TrimmomaticSE: Started with arguments:\n",
      " -threads 1 /home/ec2-user/SageMaker/SandboxChromatinOccupancy/Submodule1/Submodule1.2/ChIPseqFiles/H3K27ac_ChIPseq_aux.fastq.gz /home/ec2-user/SageMaker/SandboxChromatinOccupancy/Submodule1/Trimmed/H3K27ac_ChIPseq_aux_trimmed.fastq.gz ILLUMINACLIP:Submodule1/Submodule1.2/RefGenome/ChIPseqAdapters.fa:2:30:10 LEADING:3 TRAILING:3\n",
      "Using Long Clipping Sequence: 'AGATCGGAAGAGCGGTTCAGCAGGAATGCCGAG'\n",
      "Using Long Clipping Sequence: 'AGATCGGAAGAGCGTCGTGTAGGGAAAGAGTGT'\n",
      "Using Long Clipping Sequence: 'AGATCGGAAGAGCTCGTATGCCGTCTTCTGCTTG'\n",
      "ILLUMINACLIP: Using 0 prefix pairs, 3 forward/reverse sequences, 0 forward only sequences, 0 reverse only sequences\n",
      "Quality encoding detected as phred33\n",
      "Input Reads: 511000 Surviving: 511000 (100.00%) Dropped: 0 (0.00%)\n",
      "TrimmomaticSE: Completed successfully\n",
      "done\n"
     ]
    }
   ],
   "source": [
    "%cd $wd\n",
    "#Run this cell if following the ChIP-seq tutorial.\n",
    "# This will trim off N's as well as nextera adapters present in the ChIPseq library preparation. Placing the trimmed reads in our Trimmed folder.\n",
    "!trimmomatic SE -threads $numthreadsint $wd/Submodule1/Submodule1.2/ChIPseqFiles/H3K27ac_ChIPseq_noaux.fastq.gz $wd/Submodule1/Trimmed/H3K27ac_ChIPseq_noaux_trimmed.fastq.gz ILLUMINACLIP:Submodule1/Submodule1.2/RefGenome/ChIPseqAdapters.fa:2:30:10 LEADING:3 TRAILING:3\n",
    "#This next command is the same, except we'll do it for the bafi sample.\n",
    "!trimmomatic SE -threads $numthreadsint $wd/Submodule1/Submodule1.2/ChIPseqFiles/H3K27ac_ChIPseq_aux.fastq.gz $wd/Submodule1/Trimmed/H3K27ac_ChIPseq_aux_trimmed.fastq.gz ILLUMINACLIP:Submodule1/Submodule1.2/RefGenome/ChIPseqAdapters.fa:2:30:10 LEADING:3 TRAILING:3\n",
    "\n",
    "print(\"done\")"
   ]
  },
  {
   "cell_type": "markdown",
   "id": "592f72f5",
   "metadata": {},
   "source": [
    "<div class=\"alert-warning\" style=\"font-size:150%; color:black\">\n",
    "Now that we've learned how to trim sequences to remove poor-quality bases and any adapter contamination, we'll use another package called Cutadapt for the CUT&RUN and CUT&Tag samples.\n",
    "</div>\n",
    "Note: You can use Trimmoatic for CUT&RUN and CUT&Tag as well. We are using cutadapt just to show another example.\n",
    "</div>\n",
    "\n",
    "## Let's use cutadapt to prepare the CUT&RUN and CUT&Tag sequences before mapping."
   ]
  },
  {
   "cell_type": "markdown",
   "id": "d4473849",
   "metadata": {},
   "source": [
    "<img src=\"images/CUT&RUNLogo.jpg\" alt=\"Drawing\" style=\"width: 120px;\" align=\"left\"/>"
   ]
  },
  {
   "cell_type": "code",
   "execution_count": 19,
   "id": "dffa203e",
   "metadata": {
    "tags": []
   },
   "outputs": [
    {
     "name": "stdout",
     "output_type": "stream",
     "text": [
      "done with BRG1 control\n",
      "done with BRG1 flavopiridol\n",
      "done with all\n"
     ]
    }
   ],
   "source": [
    "#Run this cell if following the CUT&RUN tutorial\n",
    "# This will trim off N's as well as adapter sequences present in the CUT&RUN reads. Placing the trimmed reads in our Trimmed folder.\n",
    "!cutadapt -j 0 -m 20 --nextseq-trim 20 -a AGATCGGAAGAGCACACGTCTGAACTCCAGTCA -A AGATCGGAAGAGCGTCGTGTAGGGAAAGAGTGT -Z -o $wd/Submodule1/Trimmed/BRG1_con_trimmed_1.fastq.gz -p $wd/Submodule1/Trimmed/BRG1_con_trimmed_2.fastq.gz $wd/Submodule1/Submodule1.2/CUTnRUNFiles/BRG1_con_1.fastq.gz $wd/Submodule1/Submodule1.2/CUTnRUNFiles/BRG1_con_2.fastq.gz >& $wd/Submodule1/Trimmed/BRG1_con.cut_report\n",
    "print(\"done with BRG1_con\")\n",
    "\n",
    "#This next command is the same, except we'll do it for the BRG1 CUT&RUN with Flavopiridol treatment sample.\n",
    "!cutadapt -j 0 -m 20 --nextseq-trim 20 -a AGATCGGAAGAGCACACGTCTGAACTCCAGTCA -A AGATCGGAAGAGCGTCGTGTAGGGAAAGAGTGT -Z -o $wd/Submodule1/Trimmed/BRG1_FLV_trimmed_1.fastq.gz -p $wd/Submodule1/Trimmed/BRG1_FLV_trimmed_2.fastq.gz $wd/Submodule1/Submodule1.2/CUTnRUNFiles/BRG1_FLV_1.fastq.gz $wd/Submodule1/Submodule1.2/CUTnRUNFiles/BRG1_FLV_2.fastq.gz >& $wd/Submodule1/Trimmed/BRG1_FLV.cut_report\n",
    "print(\"done with BRG1_FLV\")\n",
    "\n",
    "#This next command is the same, except we'll do it for the CUT&RUN IgG sample.\n",
    "!cutadapt -j 0 -m 20 --nextseq-trim 20 -a AGATCGGAAGAGCACACGTCTGAACTCCAGTCA -A AGATCGGAAGAGCGTCGTGTAGGGAAAGAGTGT -Z -o $wd/Submodule1/Trimmed/IgG_CnR_trimmed_1.fastq.gz -p $wd/Submodule1/Trimmed/IgG_CnR_trimmed_2.fastq.gz $wd/Submodule1/Submodule1.2/CUTnRUNFiles/IgG_CnR_1.fastq.gz $wd/Submodule1/Submodule1.2/CUTnRUNFiles/IgG_CnR_2.fastq.gz >& $wd/Submodule1/Trimmed/IgG_CnR.cut_report\n",
    "print(\"done with all\")"
   ]
  },
  {
   "cell_type": "code",
   "execution_count": 20,
   "id": "36ecfadf",
   "metadata": {
    "tags": []
   },
   "outputs": [
    {
     "name": "stdout",
     "output_type": "stream",
     "text": [
      "This is cutadapt 5.0 with Python 3.10.16\r\n",
      "Command line parameters: -j 0 -m 20 --nextseq-trim 20 -a AGATCGGAAGAGCACACGTCTGAACTCCAGTCA -A AGATCGGAAGAGCGTCGTGTAGGGAAAGAGTGT -Z -o /home/ec2-user/SageMaker/SandboxChromatinOccupancy/Submodule1/Trimmed/BRG1_con_trimmed_1.fastq.gz -p /home/ec2-user/SageMaker/SandboxChromatinOccupancy/Submodule1/Trimmed/BRG1_con_trimmed_2.fastq.gz /home/ec2-user/SageMaker/SandboxChromatinOccupancy/Submodule1/Submodule1.2/CUTnRUNFiles/BRG1_con_1.fastq.gz /home/ec2-user/SageMaker/SandboxChromatinOccupancy/Submodule1/Submodule1.2/CUTnRUNFiles/BRG1_con_2.fastq.gz\r\n",
      "Processing paired-end reads on 2 cores ...\r\n",
      "\r\n",
      "=== Summary ===\r\n",
      "\r\n",
      "Total read pairs processed:            510,000\r\n",
      "  Read 1 with adapter:                  20,877 (4.1%)\r\n",
      "  Read 2 with adapter:                  20,750 (4.1%)\r\n",
      "\r\n",
      "== Read fate breakdown ==\r\n",
      "Pairs that were too short:               7,450 (1.5%)\r\n",
      "Pairs written (passing filters):       502,550 (98.5%)\r\n",
      "\r\n",
      "Total basepairs processed:    25,500,000 bp\r\n",
      "  Read 1:    12,750,000 bp\r\n",
      "  Read 2:    12,750,000 bp\r\n",
      "Quality-trimmed:                 454,658 bp (1.8%)\r\n",
      "  Read 1:       222,925 bp\r\n",
      "  Read 2:       231,733 bp\r\n",
      "Total written (filtered):     24,618,515 bp (96.5%)\r\n",
      "  Read 1:    12,308,644 bp\r\n",
      "  Read 2:    12,309,871 bp\r\n",
      "\r\n",
      "=== First read: Adapter 1 ===\r\n",
      "\r\n",
      "Sequence: AGATCGGAAGAGCACACGTCTGAACTCCAGTCA; Type: regular 3'; Length: 33; Trimmed: 20877 times\r\n",
      "\r\n",
      "Minimum overlap: 3\r\n",
      "No. of allowed errors:\r\n",
      "1-9 bp: 0; 10-19 bp: 1; 20-29 bp: 2; 30-33 bp: 3\r\n",
      "\r\n",
      "Bases preceding removed adapters:\r\n",
      "  A: 31.5%\r\n",
      "  C: 25.1%\r\n",
      "  G: 27.4%\r\n",
      "  T: 15.4%\r\n",
      "  none/other: 0.6%\r\n",
      "\r\n",
      "Overview of removed sequences\r\n",
      "length\tcount\texpect\tmax.err\terror counts\r\n",
      "3\t16332\t7968.8\t0\t16332\r\n",
      "4\t3475\t1992.2\t0\t3475\r\n",
      "5\t934\t498.0\t0\t934\r\n",
      "8\t1\t7.8\t0\t1\r\n",
      "10\t10\t0.5\t1\t0 10\r\n",
      "11\t1\t0.1\t1\t0 1\r\n",
      "20\t1\t0.0\t2\t0 1\r\n",
      "22\t1\t0.0\t2\t0 0 1\r\n",
      "24\t4\t0.0\t2\t0 4\r\n",
      "25\t118\t0.0\t2\t0 109 9\r\n",
      "\r\n",
      "\r\n",
      "=== Second read: Adapter 2 ===\r\n",
      "\r\n",
      "Sequence: AGATCGGAAGAGCGTCGTGTAGGGAAAGAGTGT; Type: regular 3'; Length: 33; Trimmed: 20750 times\r\n",
      "\r\n",
      "Minimum overlap: 3\r\n",
      "No. of allowed errors:\r\n",
      "1-9 bp: 0; 10-19 bp: 1; 20-29 bp: 2; 30-33 bp: 3\r\n",
      "\r\n",
      "Bases preceding removed adapters:\r\n",
      "  A: 31.4%\r\n",
      "  C: 24.5%\r\n",
      "  G: 28.0%\r\n",
      "  T: 15.5%\r\n",
      "  none/other: 0.6%\r\n",
      "\r\n",
      "Overview of removed sequences\r\n",
      "length\tcount\texpect\tmax.err\terror counts\r\n",
      "3\t16191\t7968.8\t0\t16191\r\n",
      "4\t3474\t1992.2\t0\t3474\r\n",
      "5\t956\t498.0\t0\t956\r\n",
      "8\t1\t7.8\t0\t1\r\n",
      "10\t12\t0.5\t1\t0 12\r\n",
      "11\t2\t0.1\t1\t0 2\r\n",
      "15\t1\t0.0\t1\t0 1\r\n",
      "20\t2\t0.0\t2\t0 1 1\r\n",
      "24\t2\t0.0\t2\t0 2\r\n",
      "25\t109\t0.0\t2\t0 94 15\r\n"
     ]
    }
   ],
   "source": [
    "# Now that you have removed adapter let's look at the trimming report.\n",
    "!cat $wd/Submodule1/Trimmed/BRG1_con.cut_report"
   ]
  },
  {
   "cell_type": "markdown",
   "id": "980616ee",
   "metadata": {},
   "source": [
    "<div class=\"alert-warning\" style=\"font-size:150%; color:black\">\n",
    "⬇️ Try it yourself! Within the following block, try to type out the command for trimming report on the other samples ⬇️\n",
    "</div>"
   ]
  },
  {
   "cell_type": "code",
   "execution_count": null,
   "id": "98bd2aa5",
   "metadata": {},
   "outputs": [],
   "source": [
    "#Type the code to look at the trimming report on the other CUT&RUN samples\n"
   ]
  },
  {
   "cell_type": "markdown",
   "id": "6c1c39e3",
   "metadata": {},
   "source": [
    "<img src=\"images/CUT&TagLogo.jpg\" alt=\"Drawing\" style=\"width: 120px;\" align=\"left\"/>"
   ]
  },
  {
   "cell_type": "code",
   "execution_count": 21,
   "id": "c6bf629e",
   "metadata": {
    "tags": []
   },
   "outputs": [
    {
     "name": "stdout",
     "output_type": "stream",
     "text": [
      "done\n"
     ]
    }
   ],
   "source": [
    "#Run this cell if following the CUT&Tag tutorial\n",
    "# This will trim off N's as well as adapter sequences present in the CUT&Tag reads. Placing the trimmed reads in our Trimmed folder.\n",
    "!cutadapt -j 0 -m 20 --nextseq-trim 20 -a AGATCGGAAGAGCACACGTCTGAACTCCAGTCA -A AGATCGGAAGAGCGTCGTGTAGGGAAAGAGTGT -Z -o $wd/Submodule1/Trimmed/RNAPII-S5P_con_trimmed_1.fastq.gz -p $wd/Submodule1/Trimmed/RNAPII-S5P_con_trimmed_2.fastq.gz $wd/Submodule1/Submodule1.2/CUTnTagFiles/RNAPII-S5P_con_1.fastq.gz $wd/Submodule1/Submodule1.2/CUTnTagFiles/RNAPII-S5P_con_2.fastq.gz >& $wd/Submodule1/Trimmed/RNAPII-S5P_con.cut_report\n",
    "print(\"done with RNAPII-S5P_con\")\n",
    "\n",
    "#This next command is the same, except we'll do it for the BRG1 CUT&RUN with Flavopiridol treatment sample.\n",
    "!cutadapt -j 0 -m 20 --nextseq-trim 20 -a AGATCGGAAGAGCACACGTCTGAACTCCAGTCA -A AGATCGGAAGAGCGTCGTGTAGGGAAAGAGTGT -Z -o $wd/Submodule1/Trimmed/RNAPII-S5P_FLV_trimmed_1.fastq.gz -p $wd/Submodule1/Trimmed/RNAPII-S5P_FLV_trimmed_2.fastq.gz $wd/Submodule1/Submodule1.2/CUTnTagFiles/RNAPII-S5P_FLV_1.fastq.gz $wd/Submodule1/Submodule1.2/CUTnTagFiles/RNAPII-S5P_FLV_2.fastq.gz >& $wd/Submodule1/Trimmed/RNAPII-S5P_FLV.cut_report\n",
    "print(\"done with RNAPII-S5P_FLV\")\n",
    "\n",
    "#This next command is the same, except we'll do it for the CUT&RUN IgG sample.\n",
    "!cutadapt -j 0 -m 20 --nextseq-trim 20 -a AGATCGGAAGAGCACACGTCTGAACTCCAGTCA -A AGATCGGAAGAGCGTCGTGTAGGGAAAGAGTGT -Z -o $wd/Submodule1/Trimmed/IgG_CnT_trimmed_1.fastq.gz -p $wd/Submodule1/Trimmed/IgG_CnT_trimmed_2.fastq.gz $wd/Submodule1/Submodule1.2/CUTnTagFiles/IgG_CnT_1.fastq.gz $wd/Submodule1/Submodule1.2/CUTnTagFiles/IgG_CnT_2.fastq.gz >& $wd/Submodule1/Trimmed/IgG_CnT.cut_report\n",
    "print(\"done with all\")"
   ]
  },
  {
   "cell_type": "markdown",
   "id": "6fac2c2d",
   "metadata": {},
   "source": [
    "<div class=\"alert-warning\" style=\"font-size:150%; color:black\">\n",
    "⬇️ Try it yourself! Within the following block, try to type out the command for trimming report on the other samples ⬇️\n",
    "</div>"
   ]
  },
  {
   "cell_type": "code",
   "execution_count": null,
   "id": "b67da043",
   "metadata": {},
   "outputs": [],
   "source": [
    "#Type the code to look at the trimming report on the other CUT&Tag samples\n"
   ]
  },
  {
   "cell_type": "markdown",
   "id": "f661ecf4-c37a-4d9c-95f6-df68a9700b3d",
   "metadata": {},
   "source": [
    "<div class=\"alert-info\" style=\"font-size:200%\">\n",
    "Interactive Quiz Question: Choose one or more answers about why we trimmed the reads.\n",
    "</div>"
   ]
  },
  {
   "cell_type": "code",
   "execution_count": 1,
   "id": "d1f1b9df-812f-4129-ba54-3d87d8ad666f",
   "metadata": {
    "tags": []
   },
   "outputs": [
    {
     "name": "stdout",
     "output_type": "stream",
     "text": [
      "[Errno 2] No such file or directory: '$wd'\n",
      "/home/ec2-user/SageMaker/SandboxChromatinOccupancy\n"
     ]
    },
    {
     "ename": "NameError",
     "evalue": "name 'display_quiz' is not defined",
     "output_type": "error",
     "traceback": [
      "\u001b[0;31m---------------------------------------------------------------------------\u001b[0m",
      "\u001b[0;31mNameError\u001b[0m                                 Traceback (most recent call last)",
      "Cell \u001b[0;32mIn[1], line 2\u001b[0m\n\u001b[1;32m      1\u001b[0m get_ipython()\u001b[38;5;241m.\u001b[39mrun_line_magic(\u001b[38;5;124m'\u001b[39m\u001b[38;5;124mcd\u001b[39m\u001b[38;5;124m'\u001b[39m, \u001b[38;5;124m'\u001b[39m\u001b[38;5;124m$wd\u001b[39m\u001b[38;5;124m'\u001b[39m)\n\u001b[0;32m----> 2\u001b[0m \u001b[43mdisplay_quiz\u001b[49m(\u001b[38;5;124m\"\u001b[39m\u001b[38;5;124mquestions/trimmingQuiz.json\u001b[39m\u001b[38;5;124m\"\u001b[39m)\n",
      "\u001b[0;31mNameError\u001b[0m: name 'display_quiz' is not defined"
     ]
    }
   ],
   "source": [
    "%cd $wd\n",
    "display_quiz(\"questions/trimmingQuiz.json\")"
   ]
  },
  {
   "cell_type": "markdown",
   "id": "7a64d849",
   "metadata": {},
   "source": [
    "<div class=\"alert-info\" style=\"font-size:200%\">\n",
    "STEP 3: Mapping\n",
    "</div>\n",
    "Our fastq files include sequences and quality scores for each base, but we want to figure out which genomic location these sequences came from. To do this we will map each sequence to a reference genome using bowtie2. \n",
    "\n",
    "<img src=\"images/ReferenceGenome.png\" alt=\"Drawing\" style=\"width: 400px;\"/>\n",
    "\n",
    "Genome Index\n",
    "\n",
    "Finding a matching sequence in billions of base pairs of sequence is a difficult task. Consider how much time it would take to match 20 million reads of sequence! \n",
    "\n",
    "To facilitate this process, alignment tools use a genome index. Think of this like a book index. The genome index is a fast way for the tool to look up specific \"seeds\" of sequence (seeds are a small portion of the sequence that can match multiple locations). Once it has the locations of the \"seed\" portion, it can then narrow down to the exact location based on the entire sequence of the read.\n",
    "\n",
    "<img src=\"images/indexsearch.jpg\" alt=\"Drawing\" style=\"width: 300px;\"/>\n",
    "\n",
    "There are several different alignment tools, and each uses a different way of creating the index. We will use a tool called bowtie2, so we'll need indexes created by bowtie2. Because this is a long but easy process, I'm going to give you the command, but you won't be expected to run it. \n",
    "\n",
    "Mapping reads requires a reference genome. Due to time and memory considerations, in this tutorial we  prepared that file for you and will only map to chr4. However, in a full analysis, we would map to the entire genome. To do so you would need a fasta file corresponding to the reference genome (e.g. [mm39](https://ftp.ebi.ac.uk/pub/databases/gencode/Gencode_mouse/release_M36/GRCm39.primary_assembly.genome.fa.gz)) from which you'd create an index of the genome using bowtie2-build. This can be done with the command: \n",
    "\n",
    "bowtie2-build reference_genome_file.fa outputprefix.\n",
    "\n",
    "As mentioned, we've gone ahead and created the index for you, and, earlier, you extracted them into the RefGenome directory. These index files end in the bt2 extension. "
   ]
  },
  {
   "cell_type": "code",
   "execution_count": 22,
   "id": "c4e2d8c7",
   "metadata": {
    "tags": []
   },
   "outputs": [
    {
     "name": "stdout",
     "output_type": "stream",
     "text": [
      "/home/ec2-user/SageMaker/SandboxChromatinOccupancy/Submodule1/Submodule1.2/RefGenome/mm39_chr4.1.bt2\r\n",
      "/home/ec2-user/SageMaker/SandboxChromatinOccupancy/Submodule1/Submodule1.2/RefGenome/mm39_chr4.2.bt2\r\n",
      "/home/ec2-user/SageMaker/SandboxChromatinOccupancy/Submodule1/Submodule1.2/RefGenome/mm39_chr4.3.bt2\r\n",
      "/home/ec2-user/SageMaker/SandboxChromatinOccupancy/Submodule1/Submodule1.2/RefGenome/mm39_chr4.4.bt2\r\n",
      "/home/ec2-user/SageMaker/SandboxChromatinOccupancy/Submodule1/Submodule1.2/RefGenome/mm39_chr4.rev.1.bt2\r\n",
      "/home/ec2-user/SageMaker/SandboxChromatinOccupancy/Submodule1/Submodule1.2/RefGenome/mm39_chr4.rev.2.bt2\r\n"
     ]
    }
   ],
   "source": [
    "!ls $wd/Submodule1/Submodule1.2/RefGenome/*bt2"
   ]
  },
  {
   "cell_type": "markdown",
   "id": "dfea1f9c",
   "metadata": {},
   "source": [
    "<div class=\"alert-info\" style=\"font-size:100%\">\n",
    "These index files were created from our fasta file\n",
    " </div>"
   ]
  },
  {
   "cell_type": "markdown",
   "id": "d2e78463-4c22-4eca-97c0-44cebbd2f5f2",
   "metadata": {},
   "source": [
    "<img src=\"images/ChIPseqLogo.jpg\" alt=\"Drawing\" style=\"width: 100px;\" align=\"left\"/> This may take a few minutes: 🕘"
   ]
  },
  {
   "cell_type": "code",
   "execution_count": 26,
   "id": "439d7c53",
   "metadata": {
    "tags": []
   },
   "outputs": [
    {
     "name": "stdout",
     "output_type": "stream",
     "text": [
      "/home/ec2-user/SageMaker/SandboxChromatinOccupancy\n",
      "511999 reads; of these:\n",
      "  511999 (100.00%) were unpaired; of these:\n",
      "    18346 (3.58%) aligned 0 times\n",
      "    172894 (33.77%) aligned exactly 1 time\n",
      "    320759 (62.65%) aligned >1 times\n",
      "96.42% overall alignment rate\n",
      "511000 reads; of these:\n",
      "  511000 (100.00%) were unpaired; of these:\n",
      "    19340 (3.78%) aligned 0 times\n",
      "    171143 (33.49%) aligned exactly 1 time\n",
      "    320517 (62.72%) aligned >1 times\n",
      "96.22% overall alignment rate\n"
     ]
    }
   ],
   "source": [
    "%cd $wd\n",
    "# Notes: The -x option specifies the prefix of the index. -U specifies our fastq file (use -1 and -2 if you have paired-end reads). -S specifies our output file in sam format.\n",
    "!bowtie2 -p $numthreadsint -x ./Submodule1/Submodule1.2/RefGenome/mm39_chr4 -U ./Submodule1/Trimmed/H3K27ac_ChIPseq_noaux_trimmed.fastq.gz -S ./Submodule1/Mapped/H3K27ac_ChIPseq_noaux.sam\n",
    "#This runs bowtie2 again, for the other sample.\n",
    "!bowtie2 -p $numthreadsint -x ./Submodule1/Submodule1.2/RefGenome/mm39_chr4 -U ./Submodule1/Trimmed/H3K27ac_ChIPseq_aux_trimmed.fastq.gz -S ./Submodule1/Mapped/H3K27ac_ChIPseq_aux.sam"
   ]
  },
  {
   "cell_type": "markdown",
   "id": "b944642f-a6ae-49ec-a53f-df5dfc7bbf8d",
   "metadata": {},
   "source": [
    "<img src=\"images/CUT&RUNLogo.jpg\" alt=\"Drawing\" style=\"width: 120px;\" align=\"left\"/> This may take a few minutes: 🕘"
   ]
  },
  {
   "cell_type": "code",
   "execution_count": 23,
   "id": "52311200-cc52-463f-94b8-f2fcfb1f433f",
   "metadata": {
    "tags": []
   },
   "outputs": [
    {
     "name": "stdout",
     "output_type": "stream",
     "text": [
      "/home/ec2-user/SageMaker/SandboxChromatinOccupancy\n",
      "502550 reads; of these:\n",
      "  502550 (100.00%) were paired; of these:\n",
      "    489000 (97.30%) aligned concordantly 0 times\n",
      "    9235 (1.84%) aligned concordantly exactly 1 time\n",
      "    4315 (0.86%) aligned concordantly >1 times\n",
      "    ----\n",
      "    489000 pairs aligned concordantly 0 times; of these:\n",
      "      116950 (23.92%) aligned discordantly 1 time\n",
      "    ----\n",
      "    372050 pairs aligned 0 times concordantly or discordantly; of these:\n",
      "      744100 mates make up the pairs; of these:\n",
      "        74264 (9.98%) aligned 0 times\n",
      "        55716 (7.49%) aligned exactly 1 time\n",
      "        614120 (82.53%) aligned >1 times\n",
      "92.61% overall alignment rate\n",
      "502493 reads; of these:\n",
      "  502493 (100.00%) were paired; of these:\n",
      "    489128 (97.34%) aligned concordantly 0 times\n",
      "    9351 (1.86%) aligned concordantly exactly 1 time\n",
      "    4014 (0.80%) aligned concordantly >1 times\n",
      "    ----\n",
      "    489128 pairs aligned concordantly 0 times; of these:\n",
      "      116962 (23.91%) aligned discordantly 1 time\n",
      "    ----\n",
      "    372166 pairs aligned 0 times concordantly or discordantly; of these:\n",
      "      744332 mates make up the pairs; of these:\n",
      "        73072 (9.82%) aligned 0 times\n",
      "        54470 (7.32%) aligned exactly 1 time\n",
      "        616790 (82.86%) aligned >1 times\n",
      "92.73% overall alignment rate\n",
      "504598 reads; of these:\n",
      "  504598 (100.00%) were paired; of these:\n",
      "    491363 (97.38%) aligned concordantly 0 times\n",
      "    9073 (1.80%) aligned concordantly exactly 1 time\n",
      "    4162 (0.82%) aligned concordantly >1 times\n",
      "    ----\n",
      "    491363 pairs aligned concordantly 0 times; of these:\n",
      "      118771 (24.17%) aligned discordantly 1 time\n",
      "    ----\n",
      "    372592 pairs aligned 0 times concordantly or discordantly; of these:\n",
      "      745184 mates make up the pairs; of these:\n",
      "        74849 (10.04%) aligned 0 times\n",
      "        59322 (7.96%) aligned exactly 1 time\n",
      "        611013 (81.99%) aligned >1 times\n",
      "92.58% overall alignment rate\n"
     ]
    }
   ],
   "source": [
    "%cd $wd\n",
    "# Notes: The -x option specifies the prefix of the index. -1 and -2 specifies the left and righ end fastq file (using -1 and -2 because we have paired-end reads). -S specifies our output file in sam format.\n",
    "!bowtie2 -p $numthreadsint -x ./Submodule1/Submodule1.2/RefGenome/mm39_chr4 -1 ./Submodule1/Trimmed/BRG1_con_trimmed_1.fastq.gz -2 ./Submodule1/Trimmed/BRG1_con_trimmed_2.fastq.gz -S ./Submodule1/Mapped/BRG1_CnR_con.sam\n",
    "#This runs bowtie2 again, for the other sample.\n",
    "!bowtie2 -p $numthreadsint -x ./Submodule1/Submodule1.2/RefGenome/mm39_chr4 -1 ./Submodule1/Trimmed/BRG1_FLV_trimmed_1.fastq.gz -2 ./Submodule1/Trimmed/BRG1_FLV_trimmed_2.fastq.gz -S ./Submodule1/Mapped/BRG1_CnR_FLV.sam\n",
    "#This runs bowtie2 again, for the IgG sample.\n",
    "!bowtie2 -p $numthreadsint -x ./Submodule1/Submodule1.2/RefGenome/mm39_chr4 -1 ./Submodule1/Trimmed/IgG_CnR_trimmed_1.fastq.gz -2 ./Submodule1/Trimmed/IgG_CnR_trimmed_2.fastq.gz -S ./Submodule1/Mapped/IgG_CnR.sam\n"
   ]
  },
  {
   "cell_type": "markdown",
   "id": "b0bf9c70-faff-4bfa-ae08-fd7c34f8cb5b",
   "metadata": {},
   "source": [
    "<img src=\"images/CUT&TagLogo.jpg\" alt=\"Drawing\" style=\"width: 120px;\" align=\"left\"/> This may take a few minutes: 🕘"
   ]
  },
  {
   "cell_type": "code",
   "execution_count": 5,
   "id": "e1a1aa64-d667-43bd-84d0-69c1f068e1a4",
   "metadata": {
    "tags": []
   },
   "outputs": [
    {
     "name": "stdout",
     "output_type": "stream",
     "text": [
      "/home/ec2-user/SageMaker/SandboxChromatinOccupancy\n",
      "455713 reads; of these:\n",
      "  455713 (100.00%) were paired; of these:\n",
      "    441442 (96.87%) aligned concordantly 0 times\n",
      "    7970 (1.75%) aligned concordantly exactly 1 time\n",
      "    6301 (1.38%) aligned concordantly >1 times\n",
      "    ----\n",
      "    441442 pairs aligned concordantly 0 times; of these:\n",
      "      128659 (29.15%) aligned discordantly 1 time\n",
      "    ----\n",
      "    312783 pairs aligned 0 times concordantly or discordantly; of these:\n",
      "      625566 mates make up the pairs; of these:\n",
      "        57166 (9.14%) aligned 0 times\n",
      "        49801 (7.96%) aligned exactly 1 time\n",
      "        518599 (82.90%) aligned >1 times\n",
      "93.73% overall alignment rate\n",
      "485823 reads; of these:\n",
      "  485823 (100.00%) were paired; of these:\n",
      "    478186 (98.43%) aligned concordantly 0 times\n",
      "    3767 (0.78%) aligned concordantly exactly 1 time\n",
      "    3870 (0.80%) aligned concordantly >1 times\n",
      "    ----\n",
      "    478186 pairs aligned concordantly 0 times; of these:\n",
      "      133458 (27.91%) aligned discordantly 1 time\n",
      "    ----\n",
      "    344728 pairs aligned 0 times concordantly or discordantly; of these:\n",
      "      689456 mates make up the pairs; of these:\n",
      "        54738 (7.94%) aligned 0 times\n",
      "        44549 (6.46%) aligned exactly 1 time\n",
      "        590169 (85.60%) aligned >1 times\n",
      "94.37% overall alignment rate\n"
     ]
    }
   ],
   "source": [
    "%cd $wd\n",
    "# Notes: The -x option specifies the prefix of the index. -1 and -2 specifies the left and righ end fastq file (using -1 and -2 because we have paired-end reads). -S specifies our output file in sam format.\n",
    "!bowtie2 -p $numthreadsint -x ./Submodule1/Submodule1.2/RefGenome/mm39_chr4 -1 ./Submodule1/Trimmed/RNAPII-S5P_con_trimmed_1.fastq.gz -2 ./Submodule1/Trimmed/RNAPII-S5P_con_trimmed_2.fastq.gz -S ./Submodule1/Mapped/RNAPII-S5P_CnT_con.sam\n",
    "#This runs bowtie2 again, for the other sample.\n",
    "!bowtie2 -p $numthreadsint -x ./Submodule1/Submodule1.2/RefGenome/mm39_chr4 -1 ./Submodule1/Trimmed/RNAPII-S5P_FLV_trimmed_1.fastq.gz -2 ./Submodule1/Trimmed/RNAPII-S5P_FLV_trimmed_2.fastq.gz -S ./Submodule1/Mapped/RNAPII-S5P_CnT_FLV.sam\n",
    "#This runs bowtie2 again, for the IgG sample.\n",
    "!bowtie2 -p $numthreadsint -x ./Submodule1/Submodule1.2/RefGenome/mm39_chr4 -1 ./Submodule1/Trimmed/IgG_CnT_trimmed_1.fastq.gz -2 ./Submodule1/Trimmed/IgG_CnT_trimmed_2.fastq.gz -S ./Submodule1/Mapped/IgG_CnT.sam\n"
   ]
  },
  {
   "cell_type": "markdown",
   "id": "8fcd81d2",
   "metadata": {},
   "source": [
    "# Bowtie2 outputs a file in [sam format](https://samtools.github.io/hts-specs/SAMv1.pdf), which contains the original sequence, quality scores, and the genomic coordinates matching each read. \n",
    "\n",
    "<img src=\"images/samformat.jpg\" alt=\"Drawing\" style=\"width: 800px;\"/>\n",
    "\n",
    "Each read is also given a SAM flag (second column). This is a numerical code corresponding to various features of the mapping.\n",
    "\n",
    "A flag of 0 means the read was single-end and mapped to the plus strand. A flag 16 means the read was single-end and mapped to the minus strand. A flag of 4 means the read was unmapped. These are the most common values you will see with single-end data. \n",
    "\n",
    "You can also look up what different SAM flag numerical codes mean: https://broadinstitute.github.io/picard/explain-flags.html\n",
    "\n",
    "<img src=\"images/explainsam.jpg\" alt=\"Drawing\" style=\"width: 400px;\"/>"
   ]
  },
  {
   "cell_type": "markdown",
   "id": "e6eb2984-edea-4ca5-b136-2a0fd2d7ee1f",
   "metadata": {},
   "source": [
    "### While we obtained high alignment rate, let's discuss a few features that can impact alignment. \n",
    "\n",
    "Remember that some of the genome is repetitive and so some of our reads may match multiple locations. Bowtie2 reports the location of each read, as well as a Map Quality score for each. This quality score is impacted by several factors, including how many loci it could match as well as the base quality (confidence in the sequence) we received. \n",
    "\n",
    "If you expect issues with repetitive regions (for example if your protein is abundant near pericentromeres or transposons) then using longer reads can help. For most purposes, we can get by with fairly short reads. \n",
    "\n",
    "<img src=\"images/repetitive.gif\" alt=\"Drawing\" style=\"width: 400px;\"/>"
   ]
  },
  {
   "cell_type": "markdown",
   "id": "ba30d6ed-ef60-4f63-96ac-f56f52e3b789",
   "metadata": {},
   "source": [
    "<div class=\"alert alert-block alert-success\" style=\"font-size:120%\">\n",
    "<span style=\"color:black\">Congrats! You have successfully preprocessed and mapped the samples. In the next tutorial, we will continue with the processing by filtering for quality, visualizing the signal, identifying peaks, and performing differential analysis.</span>\n",
    "</div>\n"
   ]
  },
  {
   "cell_type": "markdown",
   "id": "bc4d27b0-a003-47b3-96e3-619225a5370e",
   "metadata": {},
   "source": [
    "# Continue on to [Submodule2](Submodule2.ipynb)"
   ]
  },
  {
   "cell_type": "code",
   "execution_count": null,
   "id": "1781a3a0-58fb-42c2-8f55-6342b9306c92",
   "metadata": {},
   "outputs": [],
   "source": []
  }
 ],
 "metadata": {
  "kernelspec": {
   "display_name": "conda_python3",
   "language": "python",
   "name": "conda_python3"
  },
  "language_info": {
   "codemirror_mode": {
    "name": "ipython",
    "version": 3
   },
   "file_extension": ".py",
   "mimetype": "text/x-python",
   "name": "python",
   "nbconvert_exporter": "python",
   "pygments_lexer": "ipython3",
   "version": "3.10.16"
  }
 },
 "nbformat": 4,
 "nbformat_minor": 5
}
