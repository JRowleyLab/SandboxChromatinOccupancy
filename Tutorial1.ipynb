{
 "cells": [
  {
   "cell_type": "markdown",
   "id": "5d4fdc65",
   "metadata": {},
   "source": [
    "# Submodule 1: Preprocessing and Quality Control\n",
    "\n",
    "<img src=\"images/LessonPlan.jpg\" alt=\"Drawing\" width=1000 />\n",
    "\n",
    "## Overview & Purpose\n",
    "## ChIP-seq, CUT&RUN, and CUT&Tag\n",
    "This short tutorial demonstrates the initial processing steps for ChIP-seq, CUT&RUN, and CUT&Tag analysis. In this first module, we focus on generating quality reports of the raw sequences, adapter trimming, mapping, and removal of PCR duplicates. \n",
    "\n",
    "<img src=\"images/all3methods.jpg\" alt=\"Drawing\" width=500 />\n",
    "\n",
    "To demonstrate the process, this tutorial will analyze published datasets studying H3K27ac occupancy after aux-mediated degradation of BAF (ChIP-seq), as well as BAF (CUT&RUN) and RNA Polymerase II Ser5ph (CUT&Tag) occupancy after inhibition of transcription elongation using Flavopiridol. As such, this module covers the processing of the data from three distinct but similar methods using downsampled data to improve runtime speed. The original data can be found in the GEO repository with the following accessions: ChIP-seq - GSE173550; CUT&RUN & CUT&Tag - GSE224292. These data were published in the following articles:\n",
    "\n",
    "Weber CM, et al. mSWI/SNF promotes Polycomb repression both directly and through genome-wide redistribution. Nat Struct Mol Biol. 2021  PMID: [34117481](https://pubmed.ncbi.nlm.nih.gov/34117481/)\n",
    "\n",
    "Brahma S, Henikoff S. The BAF chromatin remodeler synergizes with RNA polymerase II and transcription factors to evict nucleosomes. Nat Genet. 2024 PMID: [38049663](https://pubmed.ncbi.nlm.nih.gov/38049663/)\n",
    "\n",
    "Note that to allow faster processing we have limited the reads to that of a single chromosome (chr4).  "
   ]
  },
  {
   "cell_type": "markdown",
   "id": "1929efd3",
   "metadata": {},
   "source": [
    "While ChIP-seq, CUT&RUN, and CUT&Tag are all used to identify chromatin binding sites genome-wide, they differ in implementation which can impact the analysis.\n",
    "<img src=\"images/methodcompare.png\" alt=\"Drawing\" style=\"width: 800px;\"/>\n",
    "Image credit: Kaya-Okur et al., 2020. Efficient low-cost chromatin profiling with CUT&Tag. Nature Protocols."
   ]
  },
  {
   "cell_type": "markdown",
   "id": "089f1e74",
   "metadata": {},
   "source": [
    "## ChIP-seq\n",
    "This method uses random fragmentation followed by immunoprecipitation.\n",
    "\n",
    "<img src=\"images/chipseq.gif\" alt=\"Drawing\" style=\"width: 500px;\" align=\"center\"/>\n",
    "\n",
    "## CUT&RUN\n",
    "This method uses random pA-MNase to target the fragmentation to the site where your protein is bound.\n",
    "\n",
    "<img src=\"images/CUTRUN.gif\" alt=\"Drawing\" style=\"width: 500px;\" align=\"center\"/>\n",
    "\n",
    "## CUT&Tag\n",
    "This method uses random pA-Tn5 to directly insert sequencing adapters next to where your protein is bound.\n",
    "\n",
    "<img src=\"images/CUTTag.gif\" alt=\"Drawing\" style=\"width: 500px;\" align=\"center\"/>\n"
   ]
  },
  {
   "cell_type": "markdown",
   "id": "303a69b9",
   "metadata": {},
   "source": [
    "### Ways to use this module\n",
    "Throughout this module, we have color-coded commands according to ChIP-seq, CUT&RUN, and CUT&Tag. Therefore this module can be used to learn about the processing of each method individually, to compare each method to the others, or you can follow the colored commands to only process one type, either ChIP-seq, CUT&RUN, or CUT&Tag.\n",
    "Commands for each method will be designated by an individual logo before the command, just like the following examples"
   ]
  },
  {
   "cell_type": "markdown",
   "id": "c2e4a0ca",
   "metadata": {},
   "source": [
    "<img src=\"images/ChIPseqLogo.jpg\" alt=\"Drawing\" style=\"width: 250px;\" align=\"left\"/>"
   ]
  },
  {
   "cell_type": "code",
   "execution_count": null,
   "id": "73067bbd",
   "metadata": {},
   "outputs": [],
   "source": [
    "#run this cell for ChIP-seq\n",
    "print(\"Code for ChIP-seq will be placed after the above image. Run these cells if performing ChIP-seq analysis.\")"
   ]
  },
  {
   "cell_type": "markdown",
   "id": "1621f0ba",
   "metadata": {},
   "source": [
    "<img src=\"images/CUT&RUNLogo.jpg\" alt=\"Drawing\" style=\"width: 250px;\" align=\"left\"/>"
   ]
  },
  {
   "cell_type": "code",
   "execution_count": null,
   "id": "c2643cda",
   "metadata": {},
   "outputs": [],
   "source": [
    "#run this cell for CUT&RUN\n",
    "print(\"Code for CUT&RUN will be placed after the above image. Run these cells if performing CUT&RUN analysis.\")"
   ]
  },
  {
   "cell_type": "markdown",
   "id": "c2edfd70",
   "metadata": {},
   "source": [
    "<img src=\"images/CUT&TagLogo.jpg\" alt=\"Drawing\" style=\"width: 250px;\" align=\"left\"/>"
   ]
  },
  {
   "cell_type": "code",
   "execution_count": null,
   "id": "dc75cf10",
   "metadata": {},
   "outputs": [],
   "source": [
    "#run this cell for CUT&Tag\n",
    "print(\"Code for CUT&Tag will be placed after the above image. Run these cells if performing CUT&Tag analysis.\")"
   ]
  },
  {
   "cell_type": "markdown",
   "id": "e5df502a",
   "metadata": {},
   "source": [
    "<div class=\"alert alert-block alert-success\" style=\"font-size:100%\">\n",
    "<span style=\"color:black\"> By following the colors/images, you can run one, two, or all three types of analyses.</span>\n",
    "</div>"
   ]
  },
  {
   "cell_type": "markdown",
   "id": "1f5c2622",
   "metadata": {},
   "source": [
    "### Required Files\n",
    "In this stage of the module, you will use the fastq files that have been prepared. You can also use this module on your own data or any published ChIP-seq, CUT&RUN, or CUT&Tag dataset. \n",
    "\n",
    "<div class=\"alert-info\" style=\"font-size:200%\">\n",
    "STEP 1: Set Up Environment\n",
    "</div>\n",
    "\n",
    "Initial items to configure your Cloud environment. In this step we will use conda to install the following packages:\n",
    "\n",
    "Quality Reporting:\n",
    "[fastqc](https://anaconda.org/bioconda/fastqc), [multiqc](https://anaconda.org/bioconda/multiqc)\n",
    "\n",
    "Read Trimming: \n",
    "[trimmomatic](https://anaconda.org/bioconda/trimmomatic)\n",
    "\n",
    "Mapping:\n",
    "[bowtie2](https://anaconda.org/bioconda/bowtie2)"
   ]
  },
  {
   "cell_type": "code",
   "execution_count": null,
   "id": "fd1e08bd-33e9-4586-af5a-dd2cdb1ec6da",
   "metadata": {},
   "outputs": [],
   "source": [
    "#First let's install mamba to configure our environment\n",
    "! curl -L -O \"https://github.com/conda-forge/miniforge/releases/latest/download/Miniforge3-$(uname)-$(uname -m).sh\"\n",
    "! bash Miniforge3-$(uname)-$(uname -m).sh -u -b -p $HOME/mambaforge\n",
    "print(\"done\")"
   ]
  },
  {
   "cell_type": "code",
   "execution_count": null,
   "id": "066719b9",
   "metadata": {},
   "outputs": [],
   "source": [
    "#now let's install several required packages\n",
    "!mamba install -c bioconda fastqc bowtie2 multiqc trimmomatic -y\n",
    "!pip install jupyterquiz==2.0.7 jupytercards\n",
    "#!pip install --user igv-notebook\n",
    "print(\"done\")"
   ]
  },
  {
   "cell_type": "markdown",
   "id": "10ab9f1d-c489-40be-97b8-f426ac1bb4aa",
   "metadata": {},
   "source": [
    "<div class=\"alert alert-block alert-warning\" style=\"font-size:100%\">\n",
    "<span style=\"color:black\"> The next cell will restart the kernel, so you will see the following message once you run the cell. When this image appears, click okay, and then keep going onto the next cell.</span>\n",
    "</div>\n",
    "\n",
    "<img src=\"./images/restartkernel.jpg\" alt=\"Drawing\" style=\"width: 500px;\" align=\"left\"/>"
   ]
  },
  {
   "cell_type": "code",
   "execution_count": null,
   "id": "b81ccb92-b83a-41ed-b517-872874ccfd90",
   "metadata": {},
   "outputs": [],
   "source": [
    "#Restarts the kernel to implement changes \n",
    "import os\n",
    "os._exit(00)"
   ]
  },
  {
   "cell_type": "markdown",
   "id": "b303651f-ec9f-4f21-b88f-e679ec7f29a1",
   "metadata": {},
   "source": [
    "<div class=\"alert alert-block alert-warning\" style=\"font-size:100%\">\n",
    "<span style=\"color:black\"> After the kernel restarts continue from here.</span>\n",
    "</div>"
   ]
  },
  {
   "cell_type": "code",
   "execution_count": null,
   "id": "59dee8b8-2ac4-45e1-a614-1e0feacdd761",
   "metadata": {},
   "outputs": [],
   "source": [
    "#Now let's import packages that we installed\n",
    "numthreads=!lscpu | grep '^CPU(s)'| awk '{print $2-1}'\n",
    "numthreadsint = int(numthreads[0])\n",
    "import sys\n",
    "from jupyterquiz import display_quiz\n",
    "from IPython.display import IFrame\n",
    "#from IPython.display import display\n",
    "from jupytercards import display_flashcards\n",
    "import pandas as pd\n",
    "#import modules for matching-type quiz\n",
    "%cd questions\n",
    "from quiz_module import run_quiz\n",
    "%cd ../\n",
    "import json\n",
    "import ipywidgets as widgets\n",
    "from IPython.display import display\n",
    "import random\n",
    "print(\"done\")"
   ]
  },
  {
   "cell_type": "code",
   "execution_count": null,
   "id": "de1c6534-7c51-49ed-9417-e87873043259",
   "metadata": {},
   "outputs": [],
   "source": [
    "%cd ~/SageMaker/SandboxChromatinOccupancy\n",
    "#show which folder you are working in. \n",
    "!pwd"
   ]
  },
  {
   "cell_type": "markdown",
   "id": "30385d3c-d413-43ac-8e4b-d5d0ca019921",
   "metadata": {},
   "source": [
    "<div class=\"alert-info\" style=\"font-size:200%\">\n",
    "Interactive Quiz Question: Match the method to how it implements chromatin fragmentation.\n",
    "</div>"
   ]
  },
  {
   "cell_type": "code",
   "execution_count": null,
   "id": "81d1bd13-af81-4097-96dc-2960568d83bf",
   "metadata": {},
   "outputs": [],
   "source": [
    "#Run for the quiz\n",
    "run_quiz(\"./questions/methodvsfragmentation.json\", instant_feedback=True, shuffle_questions=True, shuffle_answers=True)"
   ]
  },
  {
   "cell_type": "code",
   "execution_count": null,
   "id": "3c744cbf",
   "metadata": {},
   "outputs": [],
   "source": [
    "# These commands move into our Tutorial 1 directory and create our subdirectory structure.\n",
    "!mkdir -p Tutorial1/\n",
    "%cd Tutorial1/\n",
    "!mkdir -p QC\n",
    "!mkdir -p Trimmed\n",
    "!mkdir -p Mapped"
   ]
  },
  {
   "cell_type": "code",
   "execution_count": null,
   "id": "67d46d92-c2c1-4cb1-b0ff-1f4cee3645c4",
   "metadata": {},
   "outputs": [],
   "source": [
    "#show which folder you are working in. It should now say Tutorial1 at the end.\n",
    "!pwd\n",
    "#list the files/folders in the current directory. You should see QC, Trimmed, and Mapped.\n",
    "!ls"
   ]
  },
  {
   "cell_type": "code",
   "execution_count": null,
   "id": "95e56568-eca4-4e86-a70e-fa221b4fa14c",
   "metadata": {},
   "outputs": [],
   "source": [
    "#Let's copy and extract our tutorial files\n",
    "!wget https://chromatinoccupancytutorial.s3.us-east-2.amazonaws.com/Submodule1.zip\n",
    "!unzip Submodule1.zip"
   ]
  },
  {
   "cell_type": "code",
   "execution_count": null,
   "id": "cec9ee99",
   "metadata": {},
   "outputs": [],
   "source": [
    "#list the files in ChIPseqFiles which we just downloaded.\n",
    "!ls ChIPseqFiles"
   ]
  },
  {
   "cell_type": "markdown",
   "id": "5d424a82",
   "metadata": {},
   "source": [
    "<div class=\"alert-info\" style=\"font-size:200%\">\n",
    "STEP 2: QC\n",
    "</div>\n",
    "\n",
    "Sequences are typically provided as files in fastq format. This format includes four lines per sequence.\n"
   ]
  },
  {
   "cell_type": "code",
   "execution_count": null,
   "id": "fb918b0f",
   "metadata": {},
   "outputs": [],
   "source": [
    "display_flashcards('../flashcards/FastqFlashCard.json')"
   ]
  },
  {
   "cell_type": "markdown",
   "id": "79650e52",
   "metadata": {},
   "source": [
    "### Click on the above image to see what each line represents.\n",
    "Next, let's take a look at the sequence quality of the raw reads using fastqc:"
   ]
  },
  {
   "cell_type": "code",
   "execution_count": null,
   "id": "0bfffdc1",
   "metadata": {},
   "outputs": [],
   "source": [
    "# This command runs fastqc on each fastq.gz file inside our InputFiles directory and stores the ouput reports in our QC directory.\n",
    "!fastqc -t $numthreadsint -q -o QC ChIPseqFiles/*fastq.gz"
   ]
  },
  {
   "cell_type": "markdown",
   "id": "71124e1a-94e2-4fbf-a0c7-17542a1a73fb",
   "metadata": {},
   "source": [
    "<img src=\"images/ChIPseqLogo.jpg\" alt=\"Drawing\" style=\"width: 100px;\" align=\"left\"/>"
   ]
  },
  {
   "cell_type": "code",
   "execution_count": null,
   "id": "bc9635fc",
   "metadata": {},
   "outputs": [],
   "source": [
    "#Run this cell if following the ChIP-seq tutorial.\n",
    "# We can display the resulting fastqc results.\n",
    "IFrame(src='Tutorial1/QC/H3K27ac_ChIPseq_noaux_fastqc.html', width=1080, height=800)"
   ]
  },
  {
   "cell_type": "markdown",
   "id": "3aa059f4",
   "metadata": {},
   "source": [
    "<div class=\"alert-success\" style=\"font-size:100%\">\n",
    "After you've browsed the above report, try to visualize the quality of the other sample(s). Use the cell below to adapt the commands to visualize the bafi sample.\n",
    "</div>"
   ]
  },
  {
   "cell_type": "markdown",
   "id": "c1c25091-f83c-4e6d-b5ab-65979f052e69",
   "metadata": {},
   "source": [
    "<div class=\"alert-warning\" style=\"font-size:150%; color:black\">\n",
    "Try it yourself! Within the following block, try to type out the command for fastqc on the other sample\n",
    "</div>"
   ]
  },
  {
   "cell_type": "code",
   "execution_count": null,
   "id": "04ad75e8",
   "metadata": {},
   "outputs": [],
   "source": [
    "#Type the code to visualize the fastqc report on the other sample: Tutorial1/QC/H3K72ac_ChIPseq_aux_fastqc.html\n",
    "\n"
   ]
  },
  {
   "cell_type": "markdown",
   "id": "f29852db",
   "metadata": {},
   "source": [
    "<div class=\"alert-info\" style=\"font-size:200%\">\n",
    "Trimming\n",
    "</div>\n",
    "<img src=\"images/trimming.jpg\" alt=\"Drawing\" style=\"width: 250px;\"/>\n",
    "Now that we've viewed the quality let's trim the sequences to remove poor-quality bases and any adapter contamination. We'll use a package called Trimmomatic.\n",
    "\n",
    "## Let's use trimmomatic to prepare the sequences before mapping."
   ]
  },
  {
   "cell_type": "markdown",
   "id": "d5325d4b-f973-46fe-a3b4-c68566eb3c16",
   "metadata": {},
   "source": [
    "<img src=\"images/ChIPseqLogo.jpg\" alt=\"Drawing\" style=\"width: 100px;\" align=\"left\"/>"
   ]
  },
  {
   "cell_type": "code",
   "execution_count": null,
   "id": "1499d955",
   "metadata": {},
   "outputs": [],
   "source": [
    "#Run this cell if following the ChIP-seq tutorial.\n",
    "# This will trim off N's as well as nextera adapters present in the ChIPseq library preparation. Placing the trimmed reads in our Trimmed folder.\n",
    "!trimmomatic SE -threads $numthreadsint ./ChIPseqFiles/H3K27ac_ChIPseq_noaux.fastq.gz Trimmed/H3K27ac_ChIPseq_noaux_trimmed.fastq.gz ILLUMINACLIP:RefGenome/ChIPseqAdapters.fa:2:30:10 LEADING:3 TRAILING:3\n",
    "#This next command is the same, except we'll do it for the bafi sample.\n",
    "!trimmomatic SE -threads $numthreadsint ./ChIPseqFiles/H3K27ac_ChIPseq_aux.fastq.gz Trimmed/H3K27ac_ChIPseq_aux_trimmed.fastq.gz ILLUMINACLIP:RefGenome/ChIPseqAdapters.fa:2:30:10 LEADING:3 TRAILING:3\n",
    "\n",
    "print(\"done\")"
   ]
  },
  {
   "cell_type": "markdown",
   "id": "7a64d849",
   "metadata": {},
   "source": [
    "<div class=\"alert-info\" style=\"font-size:200%\">\n",
    "STEP 3: Mapping\n",
    "</div>\n",
    "Our fastq files include sequences and quality scores for each base, but we want to figure out which genomic location these sequences came from. To do this we will map each sequence to a reference genome using bowtie2. \n",
    "\n",
    "<img src=\"images/ReferenceGenome.png\" alt=\"Drawing\" style=\"width: 400px;\"/>\n",
    "\n",
    "Genome Index\n",
    "\n",
    "Finding a matching sequence in billions of base pairs of sequence is a difficult task. Consider how much time it would take to match 20 million reads of sequence! \n",
    "\n",
    "To facilitate this process, alignment tools use a genome index. Think of this like a book index. The genome index is a fast way for the tool to look up specific \"seeds\" of sequence (seeds are a small portion of the sequence that can match multiple locations). Once it has the locations of the \"seed\" portion, it can then narrow down to the exact location based on the entire sequence of the read.\n",
    "\n",
    "<img src=\"images/indexsearch.jpg\" alt=\"Drawing\" style=\"width: 300px;\"/>\n",
    "\n",
    "There are several different alignment tools, and each uses a different way of creating the index. We will use a tool called bowtie2, so we'll need indexes created by bowtie2. Because this is a long but easy process, I'm going to give you the command, but you won't be expected to run it. \n",
    "\n",
    "Mapping reads requires a reference genome. Due to time and memory considerations, in this tutorial we  prepared that file for you and will only map to chr4. However, in a full analysis, we would map to the entire genome. To do so you would need a fasta file corresponding to the reference genome (e.g. [mm39](https://ftp.ebi.ac.uk/pub/databases/gencode/Gencode_mouse/release_M36/GRCm39.primary_assembly.genome.fa.gz)) from which you'd create an index of the genome using bowtie2-build. This can be done with the command: \n",
    "\n",
    "bowtie2-build reference_genome_file.fa outputprefix.\n",
    "\n",
    "As mentioned, we've gone ahead and created the index for you, and, earlier, you extracted them into the RefGenome directory. These index files end in the bt2 extension. "
   ]
  },
  {
   "cell_type": "code",
   "execution_count": null,
   "id": "c4e2d8c7",
   "metadata": {},
   "outputs": [],
   "source": [
    "!ls RefGenome/*bt2"
   ]
  },
  {
   "cell_type": "markdown",
   "id": "dfea1f9c",
   "metadata": {},
   "source": [
    "<div class=\"alert-info\" style=\"font-size:100%\">\n",
    "These index files were created from our fasta file:\n",
    " </div>"
   ]
  },
  {
   "cell_type": "code",
   "execution_count": null,
   "id": "439d7c53",
   "metadata": {},
   "outputs": [],
   "source": [
    "# Notes: The -x option specifies the prefix of the index. -U specifies our fastq file (use -1 and -2 if you have paired-end reads). -S specifies our output file in sam format.\n",
    "!bowtie2 -p $numthreadsint -x RefGenome/mm39_chr4 -U Trimmed/H3K27ac_ChIPseq_noaux_trimmed.fastq.gz -S Mapped/H3K27ac_ChIPseq_noaux.sam\n",
    "#This runs bowtie2 again, for the other sample.\n",
    "!bowtie2 -p $numthreadsint -x RefGenome/mm39_chr4 -U Trimmed/H3K27ac_ChIPseq_aux_trimmed.fastq.gz -S Mapped/H3K27ac_ChIPseq_aux.sam"
   ]
  },
  {
   "cell_type": "markdown",
   "id": "8fcd81d2",
   "metadata": {},
   "source": [
    "# Bowtie2 outputs a file in [sam format](https://samtools.github.io/hts-specs/SAMv1.pdf), which contains the original sequence, quality scores, and the genomic coordinates matching each read. \n",
    "\n",
    "<img src=\"images/samformat.jpg\" alt=\"Drawing\" style=\"width: 800px;\"/>\n",
    "\n",
    "Each read is also given a SAM flag (second column). This is a numerical code corresponding to various features of the mapping.\n",
    "\n",
    "A flag of 0 means the read was single-end and mapped to the plus strand. A flag 16 means the read was single-end and mapped to the minus strand. A flag of 4 means the read was unmapped. These are the most common values you will see with single-end data. \n",
    "\n",
    "You can also look up what different SAM flag numerical codes mean: https://broadinstitute.github.io/picard/explain-flags.html\n",
    "\n",
    "<img src=\"images/explainsam.jpg\" alt=\"Drawing\" style=\"width: 400px;\"/>"
   ]
  },
  {
   "cell_type": "markdown",
   "id": "e6eb2984-edea-4ca5-b136-2a0fd2d7ee1f",
   "metadata": {},
   "source": [
    "### While we obtained high alignment rate, let's discuss a few features that can impact alignment. \n",
    "\n",
    "Remember that some of the genome is repetitive and so some of our reads may match multiple locations. Bowtie2 reports the location of each read, as well as a Map Quality score for each. This quality score is impacted by several factors, including how many loci it could match as well as the base quality (confidence in the sequence) we received. \n",
    "\n",
    "If you expect issues with repetitive regions (for example if your protein is abundant near pericentromeres or transposons) then using longer reads can help. For most purposes, we can get by with fairly short reads. \n",
    "\n",
    "<img src=\"images/repetitive.gif\" alt=\"Drawing\" style=\"width: 400px;\"/>"
   ]
  },
  {
   "cell_type": "markdown",
   "id": "ba30d6ed-ef60-4f63-96ac-f56f52e3b789",
   "metadata": {},
   "source": [
    "<div class=\"alert alert-block alert-success\" style=\"font-size:120%\">\n",
    "<span style=\"color:black\">Congrats! You have successfully preprocessed and mapped the samples. In the next tutorial, we will continue with the processing by filtering for quality, visualizing the signal, identifying peaks, and performing differential analysis.</span>\n",
    "</div>\n"
   ]
  },
  {
   "cell_type": "markdown",
   "id": "bc4d27b0-a003-47b3-96e3-619225a5370e",
   "metadata": {},
   "source": [
    "# Continue on to [Tutorial2](../Tutorial2.ipynb)"
   ]
  },
  {
   "cell_type": "code",
   "execution_count": null,
   "id": "815e72e7-5857-4658-bc93-3f04cdfebe32",
   "metadata": {},
   "outputs": [],
   "source": []
  }
 ],
 "metadata": {},
 "nbformat": 4,
 "nbformat_minor": 5
}
