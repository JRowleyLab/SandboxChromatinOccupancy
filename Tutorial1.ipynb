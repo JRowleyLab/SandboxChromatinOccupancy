{
 "cells": [
  {
   "cell_type": "markdown",
   "id": "5d4fdc65",
   "metadata": {},
   "source": [
    "# Module 1: Preprocessing and Quality Control\n",
    "\n",
    "<img src=\"images/LessonPlan.jpg\" alt=\"Drawing\" style=\"width: 1000px;\"/>\n",
    "\n",
    "## Overview & Purpose\n",
    "## ChIP-seq, CUT&RUN, and CUT&Tag\n",
    "This short tutorial demonstrates the initial processing steps for ChIP-seq, CUT&RUN, and CUT&Tag analysis. In this first module, we focus on generating quality reports of the raw sequences, adapter trimming, mapping, and removal of PCR duplicates. \n",
    "\n",
    "<img src=\"images/all3methods.jpg\" alt=\"Drawing\" style=\"width: 500px;\"/>\n",
    "\n",
    "To demonstrate the process, this tutorial will analyze published datasets comparing BAF depletion or mutant to a control sample. This module covers the processing of the data from three distinct but similar methods using downsampled data to improve runtime speed. The original data can be found in the GEO repository with the following accessions: ChIP-seq - p63 occupancy from GSM1645714 & GSM1645715; CUT&RUN - H3K27ac occupancy from GSM4743882 & GSM4743880; CUT&Tag - H3K27ac occupancy from GSM6411302 & GSM6411302. These data were published in the following articles:\n",
    "Bao X, et al. A novel ATAC-seq approach reveals lineage-specific reinforcement of the open chromatin landscape via cooperation between BAF and p63. Genome Biol 2015 PMID: 26683334\n",
    "Chang CY, et al. Increased ACTL6A occupancy within mSWI/SNF chromatin remodelers drives human squamous cell carcinoma. Mol Cell 2021 PMID: 34687603\n",
    "Patil A, et al. A disordered region controls cBAF activity via condensation and partner recruitment. Cell 2023 PMID:  37788668\n",
    "\n",
    "Note that to allow faster processing we have limited the reads to that of a single chromosome (chr4).  "
   ]
  },
  {
   "cell_type": "markdown",
   "id": "1929efd3",
   "metadata": {},
   "source": [
    "While ChIP-seq, CUT&RUN, and CUT&Tag are all used to identify chromatin binding sites genome-wide, they differ in implementation which can impact the analysis.\n",
    "<img src=\"images/methodcompare.png\" alt=\"Drawing\" style=\"width: 1000px;\"/>\n",
    "Image credit: Kaya-Okur et al., 2020. Efficient low-cost chromatin profiling with CUT&Tag. Nature Protocols."
   ]
  },
  {
   "cell_type": "markdown",
   "id": "089f1e74",
   "metadata": {},
   "source": [
    "## ChIP-seq\n",
    "This method uses random fragmentation followed by immunoprecipitation.\n",
    "<img src=\"images/chipseq.gif\" alt=\"Drawing\" style=\"width: 500px;\"/>\n",
    "\n",
    "## CUT&RUN\n",
    "This method uses random pA-MNase to target the fragmentation to the site where your protein is bound.\n",
    "<img src=\"images/CUTRUN.gif\" alt=\"Drawing\" style=\"width: 700px;\"/>\n",
    "\n",
    "## CUT&Tag\n",
    "This method uses random pA-Tn5 to directly insert sequencing adapters next to where your protein is bound.\n",
    "<img src=\"images/CUTTag.gif\" alt=\"Drawing\" style=\"width: 300px;\"/>\n"
   ]
  },
  {
   "cell_type": "markdown",
   "id": "303a69b9",
   "metadata": {},
   "source": [
    "### Ways to use this module\n",
    "Throughout this module, we have color-coded commands according to ChIP-seq, CUT&RUN, and CUT&Tag. Therefore this module can be used to learn about the processing of each method individually, to compare each method to the others, or you can follow the colored commands to only process one type, either ChIP-seq, CUT&RUN, or CUT&Tag.\n",
    "Commands for each method will be designated by an individual log before the command, just like the following examples"
   ]
  },
  {
   "cell_type": "markdown",
   "id": "c2e4a0ca",
   "metadata": {},
   "source": [
    "<img src=\"images/ChIPseqLogo.jpg\" alt=\"Drawing\" style=\"width: 250px;\"/>"
   ]
  },
  {
   "cell_type": "code",
   "execution_count": null,
   "id": "73067bbd",
   "metadata": {},
   "outputs": [],
   "source": [
    "#run this cell for ChIP-seq\n",
    "print(\"Code for ChIP-seq will be placed after the above image. Run these cells if performing ChIP-seq analysis.\")"
   ]
  },
  {
   "cell_type": "markdown",
   "id": "1621f0ba",
   "metadata": {},
   "source": [
    "<img src=\"images/CUT&RUNLogo.jpg\" alt=\"Drawing\" style=\"width: 250px;\"/>"
   ]
  },
  {
   "cell_type": "code",
   "execution_count": null,
   "id": "c2643cda",
   "metadata": {},
   "outputs": [],
   "source": [
    "#run this cell for CUT&RUN\n",
    "print(\"Code for CUT&RUN will be placed after the above image. Run these cells if performing CUT&RUN analysis.\")"
   ]
  },
  {
   "cell_type": "markdown",
   "id": "c2edfd70",
   "metadata": {},
   "source": [
    "<img src=\"images/CUT&TagLogo.jpg\" alt=\"Drawing\" style=\"width: 250px;\"/>"
   ]
  },
  {
   "cell_type": "code",
   "execution_count": null,
   "id": "dc75cf10",
   "metadata": {},
   "outputs": [],
   "source": [
    "#run this cell for CUT&Tag\n",
    "print(\"Code for CUT&Tag will be placed after the above image. Run these cells if performing CUT&Tag analysis.\")"
   ]
  },
  {
   "cell_type": "markdown",
   "id": "e5df502a",
   "metadata": {},
   "source": [
    "<div class=\"alert alert-block alert-success\" style=\"font-size:100%\">\n",
    "<span style=\"color:black\"> By following the colors/images, you can run one, two, or all three types of analyses.</span>\n",
    "</div>"
   ]
  },
  {
   "cell_type": "markdown",
   "id": "1f5c2622",
   "metadata": {},
   "source": [
    "### Required Files\n",
    "In this stage of the module, you will use the fastq files that have been prepared. You can also use this module on your own data or any published ChIP-seq, CUT&RUN, or CUT&Tag dataset. \n",
    "\n",
    "<div class=\"alert-info\" style=\"font-size:200%\">\n",
    "STEP 1: Set Up Environment\n",
    "</div>\n",
    "\n",
    "Initial items to configure your Cloud environment. In this step we will use conda to install the following packages:\n",
    "\n",
    "Quality Reporting:\n",
    "[fastqc](https://anaconda.org/bioconda/fastqc), [multiqc](https://anaconda.org/bioconda/multiqc)\n",
    "\n",
    "Read Trimming: \n",
    "[trimmomatic](https://anaconda.org/bioconda/trimmomatic)\n",
    "\n",
    "Mapping:\n",
    "[bowtie2](https://anaconda.org/bioconda/bowtie2)\n",
    "\n",
    "Deduplication:\n",
    "[samtools](https://anaconda.org/bioconda/samtools), [picard](https://anaconda.org/bioconda/picard)"
   ]
  },
  {
   "cell_type": "code",
   "execution_count": null,
   "id": "066719b9",
   "metadata": {
    "scrolled": true
   },
   "outputs": [],
   "source": [
    "numthreads=!lscpu | grep '^CPU(s)'| awk '{print $2-1}'\n",
    "numthreadsint = int(numthreads[0])-1\n",
    "!conda install -c bioconda fastqc bowtie2 picard multiqc samtools trimmomatic -y\n",
    "!pip install jupyterquiz==2.0.7 jupytercards\n",
    "from jupyterquiz import display_quiz\n",
    "from IPython.display import IFrame\n",
    "from IPython.display import display\n",
    "from jupytercards import display_flashcards\n",
    "import pandas as pd\n",
    "print(\"done\")"
   ]
  },
  {
   "cell_type": "code",
   "execution_count": null,
   "id": "3c744cbf",
   "metadata": {},
   "outputs": [],
   "source": [
    "# These commands move into our Tutorial 1 directory and create our subdirectory structure.\n",
    "%cd Tutorial1/\n",
    "!mkdir -p InputFiles\n",
    "!mkdir -p QC\n",
    "!mkdir -p Trimmed\n",
    "!mkdir -p Mapped"
   ]
  },
  {
   "cell_type": "code",
   "execution_count": null,
   "id": "cec9ee99",
   "metadata": {},
   "outputs": [],
   "source": [
    "!ls InputFiles"
   ]
  },
  {
   "cell_type": "markdown",
   "id": "5d424a82",
   "metadata": {},
   "source": [
    "<div class=\"alert-info\" style=\"font-size:200%\">\n",
    "STEP 2: QC\n",
    "</div>\n",
    "\n",
    "Sequences are typically provided as files in fastq format. This format includes four lines per sequence.\n"
   ]
  },
  {
   "cell_type": "code",
   "execution_count": null,
   "id": "fb918b0f",
   "metadata": {},
   "outputs": [],
   "source": [
    "display_flashcards('../flashcards/FastqFlashCard.json')"
   ]
  },
  {
   "cell_type": "markdown",
   "id": "79650e52",
   "metadata": {},
   "source": [
    "### Click on the above image to see what each line represents.\n",
    "Next, let's take a look at the sequence quality of the raw reads using fastqc:"
   ]
  },
  {
   "cell_type": "code",
   "execution_count": null,
   "id": "0bfffdc1",
   "metadata": {},
   "outputs": [],
   "source": [
    "# This command runs fastqc on each fastq.gz file inside our InputFiles directory and stores the ouput reports in our QC directory.\n",
    "!fastqc -t $numthreadsint -q -o QC InputFiles/*fastq.gz"
   ]
  },
  {
   "cell_type": "code",
   "execution_count": null,
   "id": "bc9635fc",
   "metadata": {},
   "outputs": [],
   "source": [
    "# We can display the resulting fastqc results.\n",
    "IFrame(src='Tutorial1/QC/p63ChIPseq_ctl_fastqc.html', width=1080, height=800)"
   ]
  },
  {
   "cell_type": "markdown",
   "id": "3aa059f4",
   "metadata": {},
   "source": [
    "<div class=\"alert-success\" style=\"font-size:100%\">\n",
    "After you've browsed the above report, try to visualize the quality of the other sample(s). Use the cell below to adapt the commands to visualize the bafi sample.\n",
    "</div>"
   ]
  },
  {
   "cell_type": "code",
   "execution_count": null,
   "id": "04ad75e8",
   "metadata": {},
   "outputs": [],
   "source": [
    "#Type the code to visualize the fastqc report on the other sample: Tutorial1/QC/p63ChIPseq_bafi_fastqc.html\n",
    "\n"
   ]
  },
  {
   "cell_type": "markdown",
   "id": "f29852db",
   "metadata": {},
   "source": [
    "<div class=\"alert-info\" style=\"font-size:200%\">\n",
    "Trimming\n",
    "</div>\n",
    "<img src=\"images/trimming.jpg\" alt=\"Drawing\" style=\"width: 250px;\"/>\n",
    "Now that we've viewed the quality let's trim the sequences to remove poor-quality bases and any adapter contamination. We'll use a package called Trimmomatic.\n",
    "\n",
    "## Let's use trimmomatic to prepare the sequences before mapping."
   ]
  },
  {
   "cell_type": "code",
   "execution_count": null,
   "id": "1499d955",
   "metadata": {},
   "outputs": [],
   "source": [
    "# This will trim off N's as well as nextera adapters present in the ChIPseq library preparation. Placing the trimmed reads in our Trimmed folder.\n",
    "!trimmomatic SE -threads $numthreadsint InputFiles/p63ChIPseq_ctl.fastq.gz Trimmed/p63ChIPseq_ctl_trimmed.fastq.gz ILLUMINACLIP:RefGenome/NexteraPE.fa:2:30:10 LEADING:3 TRAILING:3\n",
    "!trimmomatic SE -threads $numthreadsint InputFiles/p63ChIPseq_bafi.fastq.gz Trimmed/p63ChIPseq_bafi_trimmed.fastq.gz ILLUMINACLIP:RefGenome/NexteraPE.fa:2:30:10 LEADING:3 TRAILING:3                        "
   ]
  },
  {
   "cell_type": "markdown",
   "id": "45fe0463",
   "metadata": {},
   "source": [
    "#Now let's do that for the other sample:\n"
   ]
  }
 ],
 "metadata": {
  "kernelspec": {
   "display_name": "Python 3",
   "language": "python",
   "name": "python3"
  },
  "language_info": {
   "codemirror_mode": {
    "name": "ipython",
    "version": 3
   },
   "file_extension": ".py",
   "mimetype": "text/x-python",
   "name": "python",
   "nbconvert_exporter": "python",
   "pygments_lexer": "ipython3",
   "version": "3.7.3"
  }
 },
 "nbformat": 4,
 "nbformat_minor": 5
}
