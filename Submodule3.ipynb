{
 "cells": [
  {
   "cell_type": "markdown",
   "id": "5d4fdc65",
   "metadata": {},
   "source": [
    "# Submodule 3: Data Integration\n",
    "\n",
    "<img src=\"images/LessonPlan3.jpg\" alt=\"Drawing\" width=1000 />\n",
    "\n",
    "## Overview & Purpose\n",
    "## Integration of ChIP-seq, CUT&RUN, and CUT&Tag with each other and with RNA-seq and ATAC-seq\n",
    "This submodule introduces concepts for integrating ChIP-seq, CUT&RUN, and CUT&Tag with RNA-seq and ATAC-seq.   \n",
    "\n",
    "To demonstrate the process, we will build on the analysis performed in submodule 2, where we performed differential peak identification and created signal tracks.  \n",
    "\n",
    "As a reminder, this module covers the processing of the data from three distinct but similar methods using downsampled data to improve runtime speed. The original data was published in :\n",
    "\n",
    "Weber CM, et al. mSWI/SNF promotes Polycomb repression both directly and through genome-wide redistribution. Nat Struct Mol Biol. 2021  PMID: [34117481](https://pubmed.ncbi.nlm.nih.gov/34117481/)\n",
    "\n",
    "Brahma S, Henikoff S. The BAF chromatin remodeler synergizes with RNA polymerase II and transcription factors to evict nucleosomes. Nat Genet. 2024 PMID: [38049663](https://pubmed.ncbi.nlm.nih.gov/38049663/)\n",
    "\n",
    "We'll be comparing these data to RNA-seq and ATAC-seq in mESCs after baf inhibition published by Lurlaro M, et al. Mammalian SWI/SNF continuously restores local accessibility to chromatin. Nat Genet. 2021 PMID: [33558757](https://pubmed.ncbi.nlm.nih.gov/33558757/)\n",
    "\n",
    "<div class=\"alert alert-block alert-warning\" style=\"font-size:100%\">\n",
    "<span style=\"color:black\"> We will be using processed files in this module. If you would like to know how to process RNA-seq or ATAC-seq data from scratch, please complete the other Sandbox modules.</span>\n",
    "</div>\n",
    "\n",
    "Note that to allow faster processing we have limited the reads to that of a single chromosome (chr4).  "
   ]
  },
  {
   "cell_type": "markdown",
   "id": "303a69b9",
   "metadata": {},
   "source": [
    "### Ways to use this module\n",
    "If you used submodule 1 or 2, you may recall how to navigate through the module. Throughout this module, we have color-coded commands according to ChIP-seq, CUT&RUN, and CUT&Tag. Therefore this module can be used to learn about the processing of each method individually, to compare each method to the others, or you can follow the colored commands to only process one type, either ChIP-seq, CUT&RUN, or CUT&Tag.\n",
    "Commands for each method will be designated by an individual logo before the command, just like the following examples"
   ]
  },
  {
   "cell_type": "markdown",
   "id": "c2e4a0ca",
   "metadata": {},
   "source": [
    "<img src=\"images/ChIPseqLogo.jpg\" alt=\"Drawing\" style=\"width: 250px;\" align=\"left\"/>"
   ]
  },
  {
   "cell_type": "code",
   "execution_count": 1,
   "id": "73067bbd",
   "metadata": {
    "tags": []
   },
   "outputs": [
    {
     "name": "stdout",
     "output_type": "stream",
     "text": [
      "Code for ChIP-seq will be placed after the above image. Run these cells if performing ChIP-seq analysis.\n"
     ]
    }
   ],
   "source": [
    "#run this cell for ChIP-seq\n",
    "print(\"Code for ChIP-seq will be placed after the above image. Run these cells if performing ChIP-seq analysis.\")"
   ]
  },
  {
   "cell_type": "markdown",
   "id": "1621f0ba",
   "metadata": {},
   "source": [
    "<img src=\"images/CUT&RUNLogo.jpg\" alt=\"Drawing\" style=\"width: 250px;\" align=\"left\"/>"
   ]
  },
  {
   "cell_type": "code",
   "execution_count": 2,
   "id": "c2643cda",
   "metadata": {
    "tags": []
   },
   "outputs": [
    {
     "name": "stdout",
     "output_type": "stream",
     "text": [
      "Code for CUT&RUN will be placed after the above image. Run these cells if performing CUT&RUN analysis.\n"
     ]
    }
   ],
   "source": [
    "#run this cell for CUT&RUN\n",
    "print(\"Code for CUT&RUN will be placed after the above image. Run these cells if performing CUT&RUN analysis.\")"
   ]
  },
  {
   "cell_type": "markdown",
   "id": "c2edfd70",
   "metadata": {},
   "source": [
    "<img src=\"images/CUT&TagLogo.jpg\" alt=\"Drawing\" style=\"width: 250px;\" align=\"left\"/>"
   ]
  },
  {
   "cell_type": "code",
   "execution_count": 3,
   "id": "dc75cf10",
   "metadata": {
    "tags": []
   },
   "outputs": [
    {
     "name": "stdout",
     "output_type": "stream",
     "text": [
      "Code for CUT&Tag will be placed after the above image. Run these cells if performing CUT&Tag analysis.\n"
     ]
    }
   ],
   "source": [
    "#run this cell for CUT&Tag\n",
    "print(\"Code for CUT&Tag will be placed after the above image. Run these cells if performing CUT&Tag analysis.\")"
   ]
  },
  {
   "cell_type": "markdown",
   "id": "e5df502a",
   "metadata": {},
   "source": [
    "<div class=\"alert alert-block alert-success\" style=\"font-size:100%\">\n",
    "<span style=\"color:black\"> By following the colors/images, you can run one, two, or all three types of analyses.</span>\n",
    "</div>"
   ]
  },
  {
   "cell_type": "markdown",
   "id": "1f5c2622",
   "metadata": {},
   "source": [
    "### Required Files\n",
    "In this stage of the module, you will use the sam files that are the output from submodule 1 (We also provide them if you skipped submodule 1). You can also use this module on your own data or any published ChIP-seq, CUT&RUN, or CUT&Tag dataset. \n",
    "\n",
    "<div class=\"alert-info\" style=\"font-size:200%\">\n",
    "STEP 1: Set Up Environment\n",
    "</div>\n",
    "\n",
    "Initial items to configure your Cloud environment. In this step we will use conda to install the following packages:\n",
    "\n",
    "[deeptools](https://deeptools.readthedocs.io/en/develop/)\n",
    "\n",
    "[bedtools](https://bedtools.readthedocs.io/en/latest/)"
   ]
  },
  {
   "cell_type": "code",
   "execution_count": 4,
   "id": "fd1e08bd-33e9-4586-af5a-dd2cdb1ec6da",
   "metadata": {
    "collapsed": true,
    "jupyter": {
     "outputs_hidden": true
    },
    "tags": []
   },
   "outputs": [
    {
     "name": "stdout",
     "output_type": "stream",
     "text": [
      "  % Total    % Received % Xferd  Average Speed   Time    Time     Time  Current\n",
      "                                 Dload  Upload   Total   Spent    Left  Speed\n",
      "  0     0    0     0    0     0      0      0 --:--:-- --:--:-- --:--:--     0\n",
      "  0     0    0     0    0     0      0      0 --:--:-- --:--:-- --:--:--     0\n",
      "100 74.3M  100 74.3M    0     0   138M      0 --:--:-- --:--:-- --:--:--  352M\n",
      "PREFIX=/home/ec2-user/mambaforge\n",
      "Unpacking payload ...\n",
      "Extracting _libgcc_mutex-0.1-conda_forge.tar.bz2\n",
      "Extracting ca-certificates-2024.8.30-hbcca054_0.conda\n",
      "Extracting ld_impl_linux-64-2.43-h712a8e2_2.conda\n",
      "Extracting pybind11-abi-4-hd8ed1ab_3.tar.bz2\n",
      "Extracting python_abi-3.12-5_cp312.conda\n",
      "Extracting tzdata-2024b-hc8b5060_0.conda\n",
      "Extracting libgomp-14.2.0-h77fa898_1.conda\n",
      "Extracting _openmp_mutex-4.5-2_gnu.tar.bz2\n",
      "Extracting libgcc-14.2.0-h77fa898_1.conda\n",
      "Extracting c-ares-1.34.3-hb9d3cd8_1.conda\n",
      "Extracting libexpat-2.6.4-h5888daf_0.conda\n",
      "Extracting libgcc-ng-14.2.0-h69a702a_1.conda\n",
      "Extracting liblzma-5.6.3-hb9d3cd8_1.conda\n",
      "Extracting libstdcxx-14.2.0-hc0a3c3a_1.conda\n",
      "Extracting libzlib-1.3.1-hb9d3cd8_2.conda\n",
      "Extracting openssl-3.4.0-hb9d3cd8_0.conda\n",
      "Extracting reproc-14.2.5.post0-hb9d3cd8_0.conda\n",
      "Extracting bzip2-1.0.8-h4bc722e_7.conda\n",
      "Extracting keyutils-1.6.1-h166bdaf_0.tar.bz2\n",
      "Extracting libev-4.33-hd590300_2.conda\n",
      "Extracting libffi-3.4.2-h7f98852_5.tar.bz2\n",
      "Extracting libiconv-1.17-hd590300_2.conda\n",
      "Extracting libnsl-2.0.1-hd590300_0.conda\n",
      "Extracting libsqlite-3.47.2-hee588c1_0.conda\n",
      "Extracting libssh2-1.11.1-hf672d98_0.conda\n",
      "Extracting libstdcxx-ng-14.2.0-h4852527_1.conda\n",
      "Extracting libuuid-2.38.1-h0b41bf4_0.conda\n",
      "Extracting libxcrypt-4.4.36-hd590300_1.conda\n",
      "Extracting lz4-c-1.10.0-h5888daf_1.conda\n",
      "Extracting lzo-2.10-hd590300_1001.conda\n",
      "Extracting ncurses-6.5-he02047a_1.conda\n",
      "Extracting reproc-cpp-14.2.5.post0-h5888daf_0.conda\n",
      "Extracting tk-8.6.13-noxft_h4845f30_101.conda\n",
      "Extracting fmt-11.0.2-h434a139_0.conda\n",
      "Extracting libedit-3.1.20191231-he28a2e2_2.tar.bz2\n",
      "Extracting libnghttp2-1.64.0-h161d5f1_0.conda\n",
      "Extracting libsolv-0.7.30-h3509ff9_0.conda\n",
      "Extracting libxml2-2.13.5-h0d44e9d_1.conda\n",
      "Extracting readline-8.2-h8228510_1.conda\n",
      "Extracting yaml-cpp-0.8.0-h59595ed_0.conda\n",
      "Extracting zstd-1.5.6-ha6fb4c9_0.conda\n",
      "Extracting krb5-1.21.3-h659f571_0.conda\n",
      "Extracting libarchive-3.7.7-h4585015_2.conda\n",
      "Extracting python-3.12.8-h9e4cc4f_1_cpython.conda\n",
      "Extracting libcurl-8.10.1-hbbe4b11_0.conda\n",
      "Extracting menuinst-2.2.0-py312h7900ff3_0.conda\n",
      "Extracting archspec-0.2.3-pyhd8ed1ab_0.conda\n",
      "Extracting boltons-24.0.0-pyhd8ed1ab_1.conda\n",
      "Extracting brotli-python-1.1.0-py312h2ec8cdc_2.conda\n",
      "Extracting certifi-2024.8.30-pyhd8ed1ab_0.conda\n",
      "Extracting charset-normalizer-3.4.0-pyhd8ed1ab_1.conda\n",
      "Extracting colorama-0.4.6-pyhd8ed1ab_1.conda\n",
      "Extracting distro-1.9.0-pyhd8ed1ab_0.conda\n",
      "Extracting frozendict-2.4.6-py312h66e93f0_0.conda\n",
      "Extracting hpack-4.0.0-pyhd8ed1ab_1.conda\n",
      "Extracting hyperframe-6.0.1-pyhd8ed1ab_1.conda\n",
      "Extracting idna-3.10-pyhd8ed1ab_1.conda\n",
      "Extracting jsonpointer-3.0.0-py312h7900ff3_1.conda\n",
      "Extracting libmamba-1.5.11-hf72d635_0.conda\n",
      "Extracting packaging-24.2-pyhd8ed1ab_2.conda\n",
      "Extracting platformdirs-4.3.6-pyhd8ed1ab_1.conda\n",
      "Extracting pluggy-1.5.0-pyhd8ed1ab_1.conda\n",
      "Extracting pycosat-0.6.6-py312h66e93f0_2.conda\n",
      "Extracting pycparser-2.22-pyh29332c3_1.conda\n",
      "Extracting pysocks-1.7.1-pyha55dd90_7.conda\n",
      "Extracting ruamel.yaml.clib-0.2.8-py312h66e93f0_1.conda\n",
      "Extracting setuptools-75.6.0-pyhff2d567_1.conda\n",
      "Extracting truststore-0.10.0-pyhd8ed1ab_0.conda\n",
      "Extracting wheel-0.45.1-pyhd8ed1ab_1.conda\n",
      "Extracting cffi-1.17.1-py312h06ac9bb_0.conda\n",
      "Extracting h2-4.1.0-pyhd8ed1ab_1.conda\n",
      "Extracting jsonpatch-1.33-pyhd8ed1ab_1.conda\n",
      "Extracting libmambapy-1.5.11-py312hf3f0a4e_0.conda\n",
      "Extracting pip-24.3.1-pyh8b19718_0.conda\n",
      "Extracting ruamel.yaml-0.18.6-py312h66e93f0_1.conda\n",
      "Extracting tqdm-4.67.1-pyhd8ed1ab_0.conda\n",
      "Extracting zstandard-0.23.0-py312hef9b889_1.conda\n",
      "Extracting conda-package-streaming-0.11.0-pyhd8ed1ab_0.conda\n",
      "Extracting urllib3-2.2.3-pyhd8ed1ab_1.conda\n",
      "Extracting conda-package-handling-2.4.0-pyha770c72_1.conda\n",
      "Extracting requests-2.32.3-pyhd8ed1ab_1.conda\n",
      "Extracting conda-24.11.0-py312h7900ff3_0.conda\n",
      "Extracting conda-libmamba-solver-24.9.0-pyhd8ed1ab_0.conda\n",
      "Extracting mamba-1.5.11-py312h9460a1c_0.conda\n",
      "\n",
      "Installing base environment...\n",
      "\n",
      "Transaction\n",
      "\n",
      "  Prefix: /home/ec2-user/mambaforge\n",
      "\n",
      "  Updating specs:\n",
      "\n",
      "   - conda-forge/linux-64::_libgcc_mutex==0.1=conda_forge[md5=d7c89558ba9fa0495403155b64376d81]\n",
      "   - conda-forge/linux-64::ca-certificates==2024.8.30=hbcca054_0[md5=c27d1c142233b5bc9ca570c6e2e0c244]\n",
      "   - conda-forge/linux-64::ld_impl_linux-64==2.43=h712a8e2_2[md5=048b02e3962f066da18efe3a21b77672]\n",
      "   - conda-forge/noarch::pybind11-abi==4=hd8ed1ab_3[md5=878f923dd6acc8aeb47a75da6c4098be]\n",
      "   - conda-forge/linux-64::python_abi==3.12=5_cp312[md5=0424ae29b104430108f5218a66db7260]\n",
      "   - conda-forge/noarch::tzdata==2024b=hc8b5060_0[md5=8ac3367aafb1cc0a068483c580af8015]\n",
      "   - conda-forge/linux-64::libgomp==14.2.0=h77fa898_1[md5=cc3573974587f12dda90d96e3e55a702]\n",
      "   - conda-forge/linux-64::_openmp_mutex==4.5=2_gnu[md5=73aaf86a425cc6e73fcf236a5a46396d]\n",
      "   - conda-forge/linux-64::libgcc==14.2.0=h77fa898_1[md5=3cb76c3f10d3bc7f1105b2fc9db984df]\n",
      "   - conda-forge/linux-64::c-ares==1.34.3=hb9d3cd8_1[md5=ee228789a85f961d14567252a03e725f]\n",
      "   - conda-forge/linux-64::libexpat==2.6.4=h5888daf_0[md5=db833e03127376d461e1e13e76f09b6c]\n",
      "   - conda-forge/linux-64::libgcc-ng==14.2.0=h69a702a_1[md5=e39480b9ca41323497b05492a63bc35b]\n",
      "   - conda-forge/linux-64::liblzma==5.6.3=hb9d3cd8_1[md5=2ecf2f1c7e4e21fcfe6423a51a992d84]\n",
      "   - conda-forge/linux-64::libstdcxx==14.2.0=hc0a3c3a_1[md5=234a5554c53625688d51062645337328]\n",
      "   - conda-forge/linux-64::libzlib==1.3.1=hb9d3cd8_2[md5=edb0dca6bc32e4f4789199455a1dbeb8]\n",
      "   - conda-forge/linux-64::openssl==3.4.0=hb9d3cd8_0[md5=23cc74f77eb99315c0360ec3533147a9]\n",
      "   - conda-forge/linux-64::reproc==14.2.5.post0=hb9d3cd8_0[md5=69fbc0a9e42eb5fe6733d2d60d818822]\n",
      "   - conda-forge/linux-64::bzip2==1.0.8=h4bc722e_7[md5=62ee74e96c5ebb0af99386de58cf9553]\n",
      "   - conda-forge/linux-64::keyutils==1.6.1=h166bdaf_0[md5=30186d27e2c9fa62b45fb1476b7200e3]\n",
      "   - conda-forge/linux-64::libev==4.33=hd590300_2[md5=172bf1cd1ff8629f2b1179945ed45055]\n",
      "   - conda-forge/linux-64::libffi==3.4.2=h7f98852_5[md5=d645c6d2ac96843a2bfaccd2d62b3ac3]\n",
      "   - conda-forge/linux-64::libiconv==1.17=hd590300_2[md5=d66573916ffcf376178462f1b61c941e]\n",
      "   - conda-forge/linux-64::libnsl==2.0.1=hd590300_0[md5=30fd6e37fe21f86f4bd26d6ee73eeec7]\n",
      "   - conda-forge/linux-64::libsqlite==3.47.2=hee588c1_0[md5=b58da17db24b6e08bcbf8fed2fb8c915]\n",
      "   - conda-forge/linux-64::libssh2==1.11.1=hf672d98_0[md5=be2de152d8073ef1c01b7728475f2fe7]\n",
      "   - conda-forge/linux-64::libstdcxx-ng==14.2.0=h4852527_1[md5=8371ac6457591af2cf6159439c1fd051]\n",
      "   - conda-forge/linux-64::libuuid==2.38.1=h0b41bf4_0[md5=40b61aab5c7ba9ff276c41cfffe6b80b]\n",
      "   - conda-forge/linux-64::libxcrypt==4.4.36=hd590300_1[md5=5aa797f8787fe7a17d1b0821485b5adc]\n",
      "   - conda-forge/linux-64::lz4-c==1.10.0=h5888daf_1[md5=9de5350a85c4a20c685259b889aa6393]\n",
      "   - conda-forge/linux-64::lzo==2.10=hd590300_1001[md5=ec7398d21e2651e0dcb0044d03b9a339]\n",
      "   - conda-forge/linux-64::ncurses==6.5=he02047a_1[md5=70caf8bb6cf39a0b6b7efc885f51c0fe]\n",
      "   - conda-forge/linux-64::reproc-cpp==14.2.5.post0=h5888daf_0[md5=828302fca535f9cfeb598d5f7c204323]\n",
      "   - conda-forge/linux-64::tk==8.6.13=noxft_h4845f30_101[md5=d453b98d9c83e71da0741bb0ff4d76bc]\n",
      "   - conda-forge/linux-64::fmt==11.0.2=h434a139_0[md5=995f7e13598497691c1dc476d889bc04]\n",
      "   - conda-forge/linux-64::libedit==3.1.20191231=he28a2e2_2[md5=4d331e44109e3f0e19b4cb8f9b82f3e1]\n",
      "   - conda-forge/linux-64::libnghttp2==1.64.0=h161d5f1_0[md5=19e57602824042dfd0446292ef90488b]\n",
      "   - conda-forge/linux-64::libsolv==0.7.30=h3509ff9_0[md5=02539b77d25aa4f65b20246549e256c3]\n",
      "   - conda-forge/linux-64::libxml2==2.13.5=h0d44e9d_1[md5=f5b05674697ae7d2c5932766695945e1]\n",
      "   - conda-forge/linux-64::readline==8.2=h8228510_1[md5=47d31b792659ce70f470b5c82fdfb7a4]\n",
      "   - conda-forge/linux-64::yaml-cpp==0.8.0=h59595ed_0[md5=965eaacd7c18eb8361fd12bb9e7a57d7]\n",
      "   - conda-forge/linux-64::zstd==1.5.6=ha6fb4c9_0[md5=4d056880988120e29d75bfff282e0f45]\n",
      "   - conda-forge/linux-64::krb5==1.21.3=h659f571_0[md5=3f43953b7d3fb3aaa1d0d0723d91e368]\n",
      "   - conda-forge/linux-64::libarchive==3.7.7=h4585015_2[md5=8be55e4ef79f0a124eeaa9c6c757175f]\n",
      "   - conda-forge/linux-64::python==3.12.8=h9e4cc4f_1_cpython[md5=7fd2fd79436d9b473812f14e86746844]\n",
      "   - conda-forge/linux-64::libcurl==8.10.1=hbbe4b11_0[md5=6e801c50a40301f6978c53976917b277]\n",
      "   - conda-forge/linux-64::menuinst==2.2.0=py312h7900ff3_0[md5=f22f8e77b36e67297feffe03eefd5375]\n",
      "   - conda-forge/noarch::archspec==0.2.3=pyhd8ed1ab_0[md5=192278292e20704f663b9c766909d67b]\n",
      "   - conda-forge/noarch::boltons==24.0.0=pyhd8ed1ab_1[md5=d88c38e66d85ecc9c7e2c4110676bbf4]\n",
      "   - conda-forge/linux-64::brotli-python==1.1.0=py312h2ec8cdc_2[md5=b0b867af6fc74b2a0aa206da29c0f3cf]\n",
      "   - conda-forge/noarch::certifi==2024.8.30=pyhd8ed1ab_0[md5=12f7d00853807b0531775e9be891cb11]\n",
      "   - conda-forge/noarch::charset-normalizer==3.4.0=pyhd8ed1ab_1[md5=6581a17bba6b948bb60130026404a9d6]\n",
      "   - conda-forge/noarch::colorama==0.4.6=pyhd8ed1ab_1[md5=962b9857ee8e7018c22f2776ffa0b2d7]\n",
      "   - conda-forge/noarch::distro==1.9.0=pyhd8ed1ab_0[md5=bbdb409974cd6cb30071b1d978302726]\n",
      "   - conda-forge/linux-64::frozendict==2.4.6=py312h66e93f0_0[md5=9fa8408745a0621314b7751d11fecc18]\n",
      "   - conda-forge/noarch::hpack==4.0.0=pyhd8ed1ab_1[md5=2aa5ff7fa34a81b9196532c84c10d865]\n",
      "   - conda-forge/noarch::hyperframe==6.0.1=pyhd8ed1ab_1[md5=566e75c90c1d0c8c459eb0ad9833dc7a]\n",
      "   - conda-forge/noarch::idna==3.10=pyhd8ed1ab_1[md5=39a4f67be3286c86d696df570b1201b7]\n",
      "   - conda-forge/linux-64::jsonpointer==3.0.0=py312h7900ff3_1[md5=6b51f7459ea4073eeb5057207e2e1e3d]\n",
      "   - conda-forge/linux-64::libmamba==1.5.11=hf72d635_0[md5=66ddf67874b75a2252cd09ed931fc1e7]\n",
      "   - conda-forge/noarch::packaging==24.2=pyhd8ed1ab_2[md5=3bfed7e6228ebf2f7b9eaa47f1b4e2aa]\n",
      "   - conda-forge/noarch::platformdirs==4.3.6=pyhd8ed1ab_1[md5=577852c7e53901ddccc7e6a9959ddebe]\n",
      "   - conda-forge/noarch::pluggy==1.5.0=pyhd8ed1ab_1[md5=e9dcbce5f45f9ee500e728ae58b605b6]\n",
      "   - conda-forge/linux-64::pycosat==0.6.6=py312h66e93f0_2[md5=08223e6a73e0bca5ade16ec4cebebf23]\n",
      "   - conda-forge/noarch::pycparser==2.22=pyh29332c3_1[md5=12c566707c80111f9799308d9e265aef]\n",
      "   - conda-forge/noarch::pysocks==1.7.1=pyha55dd90_7[md5=461219d1a5bd61342293efa2c0c90eac]\n",
      "   - conda-forge/linux-64::ruamel.yaml.clib==0.2.8=py312h66e93f0_1[md5=532c3e5d0280be4fea52396ec1fa7d5d]\n",
      "   - conda-forge/noarch::setuptools==75.6.0=pyhff2d567_1[md5=fc80f7995e396cbaeabd23cf46c413dc]\n",
      "   - conda-forge/noarch::truststore==0.10.0=pyhd8ed1ab_0[md5=ad1c20cd193e3044bcf17798c33b9d67]\n",
      "   - conda-forge/noarch::wheel==0.45.1=pyhd8ed1ab_1[md5=75cb7132eb58d97896e173ef12ac9986]\n",
      "   - conda-forge/linux-64::cffi==1.17.1=py312h06ac9bb_0[md5=a861504bbea4161a9170b85d4d2be840]\n",
      "   - conda-forge/noarch::h2==4.1.0=pyhd8ed1ab_1[md5=825927dc7b0f287ef8d4d0011bb113b1]\n",
      "   - conda-forge/noarch::jsonpatch==1.33=pyhd8ed1ab_1[md5=cb60ae9cf02b9fcb8004dec4089e5691]\n",
      "   - conda-forge/linux-64::libmambapy==1.5.11=py312hf3f0a4e_0[md5=6012a9f871d3c2908cfd2642ea90f4c0]\n",
      "   - conda-forge/noarch::pip==24.3.1=pyh8b19718_0[md5=5dd546fe99b44fda83963d15f84263b7]\n",
      "   - conda-forge/linux-64::ruamel.yaml==0.18.6=py312h66e93f0_1[md5=28ed869ade5601ee374934a31c9d628e]\n",
      "   - conda-forge/noarch::tqdm==4.67.1=pyhd8ed1ab_0[md5=4085c9db273a148e149c03627350e22c]\n",
      "   - conda-forge/linux-64::zstandard==0.23.0=py312hef9b889_1[md5=8b7069e9792ee4e5b4919a7a306d2e67]\n",
      "   - conda-forge/noarch::conda-package-streaming==0.11.0=pyhd8ed1ab_0[md5=bc9533d8616a97551ed144789bf9c1cd]\n",
      "   - conda-forge/noarch::urllib3==2.2.3=pyhd8ed1ab_1[md5=4a2d8ef7c37b8808c5b9b750501fffce]\n",
      "   - conda-forge/noarch::conda-package-handling==2.4.0=pyha770c72_1[md5=28b86d110bda4ef40e680d1afa9ddb1d]\n",
      "   - conda-forge/noarch::requests==2.32.3=pyhd8ed1ab_1[md5=a9b9368f3701a417eac9edbcae7cb737]\n",
      "   - conda-forge/linux-64::conda==24.11.0=py312h7900ff3_0[md5=94274d4c4733bb708fa2b4e257620d40]\n",
      "   - conda-forge/noarch::conda-libmamba-solver==24.9.0=pyhd8ed1ab_0[md5=45378d089c5f72c9c0d63d58414c645d]\n",
      "   - conda-forge/linux-64::mamba==1.5.11=py312h9460a1c_0[md5=c41dcc52ff5ba846d110cb145d044112]\n",
      "\n",
      "\n",
      "  Package                         Version  Build               Channel         Size\n",
      "─────────────────────────────────────────────────────────────────────────────────────\n",
      "  Install:\n",
      "─────────────────────────────────────────────────────────────────────────────────────\n",
      "\n",
      "  \u001b[32m+ _libgcc_mutex          \u001b[0m           0.1  conda_forge         conda-forge         \n",
      "  \u001b[32m+ ca-certificates        \u001b[0m     2024.8.30  hbcca054_0          conda-forge         \n",
      "  \u001b[32m+ ld_impl_linux-64       \u001b[0m          2.43  h712a8e2_2          conda-forge         \n",
      "  \u001b[32m+ pybind11-abi           \u001b[0m             4  hd8ed1ab_3          conda-forge         \n",
      "  \u001b[32m+ python_abi             \u001b[0m          3.12  5_cp312             conda-forge         \n",
      "  \u001b[32m+ tzdata                 \u001b[0m         2024b  hc8b5060_0          conda-forge         \n",
      "  \u001b[32m+ libgomp                \u001b[0m        14.2.0  h77fa898_1          conda-forge         \n",
      "  \u001b[32m+ _openmp_mutex          \u001b[0m           4.5  2_gnu               conda-forge         \n",
      "  \u001b[32m+ libgcc                 \u001b[0m        14.2.0  h77fa898_1          conda-forge         \n",
      "  \u001b[32m+ c-ares                 \u001b[0m        1.34.3  hb9d3cd8_1          conda-forge         \n",
      "  \u001b[32m+ libexpat               \u001b[0m         2.6.4  h5888daf_0          conda-forge         \n",
      "  \u001b[32m+ libgcc-ng              \u001b[0m        14.2.0  h69a702a_1          conda-forge         \n",
      "  \u001b[32m+ liblzma                \u001b[0m         5.6.3  hb9d3cd8_1          conda-forge         \n",
      "  \u001b[32m+ libstdcxx              \u001b[0m        14.2.0  hc0a3c3a_1          conda-forge         \n",
      "  \u001b[32m+ libzlib                \u001b[0m         1.3.1  hb9d3cd8_2          conda-forge         \n",
      "  \u001b[32m+ openssl                \u001b[0m         3.4.0  hb9d3cd8_0          conda-forge         \n",
      "  \u001b[32m+ reproc                 \u001b[0m  14.2.5.post0  hb9d3cd8_0          conda-forge         \n",
      "  \u001b[32m+ bzip2                  \u001b[0m         1.0.8  h4bc722e_7          conda-forge         \n",
      "  \u001b[32m+ keyutils               \u001b[0m         1.6.1  h166bdaf_0          conda-forge         \n",
      "  \u001b[32m+ libev                  \u001b[0m          4.33  hd590300_2          conda-forge         \n",
      "  \u001b[32m+ libffi                 \u001b[0m         3.4.2  h7f98852_5          conda-forge         \n",
      "  \u001b[32m+ libiconv               \u001b[0m          1.17  hd590300_2          conda-forge         \n",
      "  \u001b[32m+ libnsl                 \u001b[0m         2.0.1  hd590300_0          conda-forge         \n",
      "  \u001b[32m+ libsqlite              \u001b[0m        3.47.2  hee588c1_0          conda-forge         \n",
      "  \u001b[32m+ libssh2                \u001b[0m        1.11.1  hf672d98_0          conda-forge         \n",
      "  \u001b[32m+ libstdcxx-ng           \u001b[0m        14.2.0  h4852527_1          conda-forge         \n",
      "  \u001b[32m+ libuuid                \u001b[0m        2.38.1  h0b41bf4_0          conda-forge         \n",
      "  \u001b[32m+ libxcrypt              \u001b[0m        4.4.36  hd590300_1          conda-forge         \n",
      "  \u001b[32m+ lz4-c                  \u001b[0m        1.10.0  h5888daf_1          conda-forge         \n",
      "  \u001b[32m+ lzo                    \u001b[0m          2.10  hd590300_1001       conda-forge         \n",
      "  \u001b[32m+ ncurses                \u001b[0m           6.5  he02047a_1          conda-forge         \n",
      "  \u001b[32m+ reproc-cpp             \u001b[0m  14.2.5.post0  h5888daf_0          conda-forge         \n",
      "  \u001b[32m+ tk                     \u001b[0m        8.6.13  noxft_h4845f30_101  conda-forge         \n",
      "  \u001b[32m+ fmt                    \u001b[0m        11.0.2  h434a139_0          conda-forge         \n",
      "  \u001b[32m+ libedit                \u001b[0m  3.1.20191231  he28a2e2_2          conda-forge         \n",
      "  \u001b[32m+ libnghttp2             \u001b[0m        1.64.0  h161d5f1_0          conda-forge         \n",
      "  \u001b[32m+ libsolv                \u001b[0m        0.7.30  h3509ff9_0          conda-forge         \n",
      "  \u001b[32m+ libxml2                \u001b[0m        2.13.5  h0d44e9d_1          conda-forge         \n",
      "  \u001b[32m+ readline               \u001b[0m           8.2  h8228510_1          conda-forge         \n",
      "  \u001b[32m+ yaml-cpp               \u001b[0m         0.8.0  h59595ed_0          conda-forge         \n",
      "  \u001b[32m+ zstd                   \u001b[0m         1.5.6  ha6fb4c9_0          conda-forge         \n",
      "  \u001b[32m+ krb5                   \u001b[0m        1.21.3  h659f571_0          conda-forge         \n",
      "  \u001b[32m+ libarchive             \u001b[0m         3.7.7  h4585015_2          conda-forge         \n",
      "  \u001b[32m+ python                 \u001b[0m        3.12.8  h9e4cc4f_1_cpython  conda-forge         \n",
      "  \u001b[32m+ libcurl                \u001b[0m        8.10.1  hbbe4b11_0          conda-forge         \n",
      "  \u001b[32m+ menuinst               \u001b[0m         2.2.0  py312h7900ff3_0     conda-forge         \n",
      "  \u001b[32m+ archspec               \u001b[0m         0.2.3  pyhd8ed1ab_0        conda-forge         \n",
      "  \u001b[32m+ boltons                \u001b[0m        24.0.0  pyhd8ed1ab_1        conda-forge         \n",
      "  \u001b[32m+ brotli-python          \u001b[0m         1.1.0  py312h2ec8cdc_2     conda-forge         \n",
      "  \u001b[32m+ certifi                \u001b[0m     2024.8.30  pyhd8ed1ab_0        conda-forge         \n",
      "  \u001b[32m+ charset-normalizer     \u001b[0m         3.4.0  pyhd8ed1ab_1        conda-forge         \n",
      "  \u001b[32m+ colorama               \u001b[0m         0.4.6  pyhd8ed1ab_1        conda-forge         \n",
      "  \u001b[32m+ distro                 \u001b[0m         1.9.0  pyhd8ed1ab_0        conda-forge         \n",
      "  \u001b[32m+ frozendict             \u001b[0m         2.4.6  py312h66e93f0_0     conda-forge         \n",
      "  \u001b[32m+ hpack                  \u001b[0m         4.0.0  pyhd8ed1ab_1        conda-forge         \n",
      "  \u001b[32m+ hyperframe             \u001b[0m         6.0.1  pyhd8ed1ab_1        conda-forge         \n",
      "  \u001b[32m+ idna                   \u001b[0m          3.10  pyhd8ed1ab_1        conda-forge         \n",
      "  \u001b[32m+ jsonpointer            \u001b[0m         3.0.0  py312h7900ff3_1     conda-forge         \n",
      "  \u001b[32m+ libmamba               \u001b[0m        1.5.11  hf72d635_0          conda-forge         \n",
      "  \u001b[32m+ packaging              \u001b[0m          24.2  pyhd8ed1ab_2        conda-forge         \n",
      "  \u001b[32m+ platformdirs           \u001b[0m         4.3.6  pyhd8ed1ab_1        conda-forge         \n",
      "  \u001b[32m+ pluggy                 \u001b[0m         1.5.0  pyhd8ed1ab_1        conda-forge         \n",
      "  \u001b[32m+ pycosat                \u001b[0m         0.6.6  py312h66e93f0_2     conda-forge         \n",
      "  \u001b[32m+ pycparser              \u001b[0m          2.22  pyh29332c3_1        conda-forge         \n",
      "  \u001b[32m+ pysocks                \u001b[0m         1.7.1  pyha55dd90_7        conda-forge         \n",
      "  \u001b[32m+ ruamel.yaml.clib       \u001b[0m         0.2.8  py312h66e93f0_1     conda-forge         \n",
      "  \u001b[32m+ setuptools             \u001b[0m        75.6.0  pyhff2d567_1        conda-forge         \n",
      "  \u001b[32m+ truststore             \u001b[0m        0.10.0  pyhd8ed1ab_0        conda-forge         \n",
      "  \u001b[32m+ wheel                  \u001b[0m        0.45.1  pyhd8ed1ab_1        conda-forge         \n",
      "  \u001b[32m+ cffi                   \u001b[0m        1.17.1  py312h06ac9bb_0     conda-forge         \n",
      "  \u001b[32m+ h2                     \u001b[0m         4.1.0  pyhd8ed1ab_1        conda-forge         \n",
      "  \u001b[32m+ jsonpatch              \u001b[0m          1.33  pyhd8ed1ab_1        conda-forge         \n",
      "  \u001b[32m+ libmambapy             \u001b[0m        1.5.11  py312hf3f0a4e_0     conda-forge         \n",
      "  \u001b[32m+ pip                    \u001b[0m        24.3.1  pyh8b19718_0        conda-forge         \n",
      "  \u001b[32m+ ruamel.yaml            \u001b[0m        0.18.6  py312h66e93f0_1     conda-forge         \n",
      "  \u001b[32m+ tqdm                   \u001b[0m        4.67.1  pyhd8ed1ab_0        conda-forge         \n",
      "  \u001b[32m+ zstandard              \u001b[0m        0.23.0  py312hef9b889_1     conda-forge         \n",
      "  \u001b[32m+ conda-package-streaming\u001b[0m        0.11.0  pyhd8ed1ab_0        conda-forge         \n",
      "  \u001b[32m+ urllib3                \u001b[0m         2.2.3  pyhd8ed1ab_1        conda-forge         \n",
      "  \u001b[32m+ conda-package-handling \u001b[0m         2.4.0  pyha770c72_1        conda-forge         \n",
      "  \u001b[32m+ requests               \u001b[0m        2.32.3  pyhd8ed1ab_1        conda-forge         \n",
      "  \u001b[32m+ conda                  \u001b[0m       24.11.0  py312h7900ff3_0     conda-forge         \n",
      "  \u001b[32m+ conda-libmamba-solver  \u001b[0m        24.9.0  pyhd8ed1ab_0        conda-forge         \n",
      "  \u001b[32m+ mamba                  \u001b[0m        1.5.11  py312h9460a1c_0     conda-forge         \n",
      "\n",
      "  Summary:\n",
      "\n",
      "  Install: 84 packages\n",
      "\n",
      "  Total download: 0 B\n",
      "\n",
      "─────────────────────────────────────────────────────────────────────────────────────\n",
      "\n",
      "\n",
      "\n",
      "Transaction starting\n",
      "\u001b[?25l\u001b[2K\u001b[0G\u001b[?25h\n",
      "Transaction finished\n",
      "\n",
      "To activate this environment, use:\n",
      "\n",
      "    micromamba activate /home/ec2-user/mambaforge\n",
      "\n",
      "Or to execute a single command in this environment, use:\n",
      "\n",
      "    micromamba run -p /home/ec2-user/mambaforge mycommand\n",
      "\n",
      "installation finished.\n",
      "done\n"
     ]
    }
   ],
   "source": [
    "#First let's install mamba to configure our environment\n",
    "! curl -L -O \"https://github.com/conda-forge/miniforge/releases/latest/download/Miniforge3-$(uname)-$(uname -m).sh\"\n",
    "! bash Miniforge3-$(uname)-$(uname -m).sh -u -b -p $HOME/mambaforge\n",
    "print(\"done\")"
   ]
  },
  {
   "cell_type": "code",
   "execution_count": 2,
   "id": "066719b9",
   "metadata": {
    "tags": []
   },
   "outputs": [
    {
     "name": "stdout",
     "output_type": "stream",
     "text": [
      "\n",
      "Looking for: ['deeptools', 'bedtools']\n",
      "\n",
      "\u001b[?25l\u001b[2K\u001b[0G[+] 0.0s\n",
      "\u001b[2K\u001b[1A\u001b[2K\u001b[0G[+] 0.1s\n",
      "bioconda/linux-64 (check zst) \u001b[33m━━━━━━━━━━━━━━━\u001b[0m   0.0 B @  ??.?MB/s Checking  0.1s\u001b[2K\u001b[1A\u001b[2K\u001b[0Gbioconda/linux-64 (check zst)                       Checked  0.1s\n",
      "\u001b[?25h\u001b[?25l\u001b[2K\u001b[0G[+] 0.0s\n",
      "\u001b[2K\u001b[1A\u001b[2K\u001b[0Gbioconda/noarch (check zst)                        Checked  0.0s\n",
      "\u001b[?25h\u001b[33m\u001b[1mwarning  libmamba\u001b[m Could not parse mod/etag header\n",
      "\u001b[?25l\u001b[2K\u001b[0G\u001b[?25h\u001b[33m\u001b[1mwarning  libmamba\u001b[m Could not parse mod/etag header\n",
      "\u001b[?25l\u001b[2K\u001b[0G\u001b[?25h\u001b[33m\u001b[1mwarning  libmamba\u001b[m Could not parse mod/etag header\n",
      "\u001b[?25l\u001b[2K\u001b[0G[+] 0.0s\n",
      "nvidia/linux-64 (check zst) \u001b[33m━━━━━━━━━━━━━━━╸\u001b[0m\u001b[90m━\u001b[0m   0.0 B @  ??.?MB/s Checking  0.0s\u001b[2K\u001b[1A\u001b[2K\u001b[0Gnvidia/linux-64 (check zst)                         Checked  0.1s\n",
      "\u001b[?25h\u001b[33m\u001b[1mwarning  libmamba\u001b[m Could not parse mod/etag header\n",
      "\u001b[?25l\u001b[2K\u001b[0G[+] 0.0s\n",
      "\u001b[2K\u001b[1A\u001b[2K\u001b[0Gnvidia/noarch (check zst)                          Checked  0.0s\n",
      "\u001b[?25h\u001b[33m\u001b[1mwarning  libmamba\u001b[m Could not parse mod/etag header\n",
      "\u001b[?25l\u001b[2K\u001b[0G[+] 0.0s\n",
      "\u001b[2K\u001b[1A\u001b[2K\u001b[0Gpytorch/linux-64 (check zst)                       Checked  0.0s\n",
      "\u001b[?25h\u001b[33m\u001b[1mwarning  libmamba\u001b[m Could not parse mod/etag header\n",
      "\u001b[?25l\u001b[2K\u001b[0G[+] 0.0s\n",
      "pytorch/noarch (check zst) \u001b[90m━╸\u001b[0m\u001b[33m━━━━━━━━━━━━━━━━\u001b[0m   0.0 B @  ??.?MB/s Checking  0.0s\u001b[2K\u001b[1A\u001b[2K\u001b[0Gpytorch/noarch (check zst)                          Checked  0.0s\n",
      "\u001b[?25h\u001b[?25l\u001b[2K\u001b[0G[+] 0.0s\n",
      "\u001b[2K\u001b[1A\u001b[2K\u001b[0G[+] 0.1s\n",
      "conda-forge/linux-64 \u001b[33m━━━━━━━━━━━━╸\u001b[0m\u001b[90m━━━━━━━━━━\u001b[0m   0.0 B /  ??.?MB @  ??.?MB/s  0.1s\n",
      "conda-forge/noarch   \u001b[90m━━━╸\u001b[0m\u001b[33m━━━━━━━━━━━━━━━╸\u001b[0m\u001b[90m━━━\u001b[0m   0.0 B /  ??.?MB @  ??.?MB/s  0.1s\n",
      "bioconda/linux-64    \u001b[90m━━━━━━━━━━━━━━━━━━━━━━━\u001b[0m 111.0kB /   5.0MB @   1.9MB/s  0.1s\n",
      "bioconda/noarch      \u001b[90m━━━╸\u001b[0m\u001b[33m━━━━━━━━━━━━━━━╸\u001b[0m\u001b[90m━━━\u001b[0m   0.0 B /  ??.?MB @  ??.?MB/s  0.1s\n",
      "nvidia/linux-64      \u001b[33m━━━━━━━━━━╸\u001b[0m\u001b[90m━━━━━━━━━━━━\u001b[0m   0.0 B /  ??.?MB @  ??.?MB/s  0.1s\u001b[2K\u001b[1A\u001b[2K\u001b[1A\u001b[2K\u001b[1A\u001b[2K\u001b[1A\u001b[2K\u001b[1A\u001b[2K\u001b[0G[+] 0.2s\n",
      "conda-forge/linux-64 \u001b[90m━━━━━━━━━━━━━━━━━━━━━━\u001b[0m 147.1kB @ 920.5kB/s             0.2s\n",
      "conda-forge/noarch   \u001b[90m━━━━━━━━━━━━━━━━━━━━━━\u001b[0m 118.4kB @ 738.0kB/s             0.2s\n",
      "bioconda/linux-64    ━━━━━━━━━━━━━━━╸\u001b[90m━━━━━━\u001b[0m   3.9MB @  24.2MB/s             0.2s\n",
      "bioconda/noarch      \u001b[90m━━━━━━━━━━━━━━━━━━━━━━\u001b[0m 105.7kB @ 662.1kB/s             0.2s\n",
      "nvidia/linux-64      ━━━━━━━━━━━━━━━━━━━━━━ 197.8kB @   1.1MB/s Downloaded  0.2s\u001b[2K\u001b[1A\u001b[2K\u001b[1A\u001b[2K\u001b[1A\u001b[2K\u001b[1A\u001b[2K\u001b[1A\u001b[2K\u001b[0Gnvidia/linux-64                                    @   1.1MB/s  0.2s\n",
      "bioconda/linux-64                                  @  20.4MB/s  0.2s\n",
      "pytorch/linux-64                                   194.9kB @ 673.9kB/s  0.0s\n",
      "nvidia/noarch                                       18.6kB @  63.5kB/s  0.1s\n",
      "[+] 0.3s\n",
      "conda-forge/linux-64 \u001b[90m━━━━━━━━━━━━━━━━━━━━━━━\u001b[0m 511.2kB /  41.4MB @   1.8MB/s  0.3s\n",
      "conda-forge/noarch   ╸\u001b[90m━━━━━━━━━━━━━━━━━━━━━━\u001b[0m   1.2MB /  18.7MB @   4.0MB/s  0.3s\n",
      "bioconda/noarch      ━╸\u001b[90m━━━━━━━━━━━━━━━━━━━━━\u001b[0m 449.8kB /   4.7MB @   1.5MB/s  0.3s\n",
      "pytorch/noarch       \u001b[90m━━━━━╸\u001b[0m\u001b[33m━━━━━━━━━━━━━━━╸\u001b[0m\u001b[90m━\u001b[0m   0.0 B /  ??.?MB @  ??.?MB/s  0.0s\u001b[2K\u001b[1A\u001b[2K\u001b[1A\u001b[2K\u001b[1A\u001b[2K\u001b[1A\u001b[2K\u001b[0Gpytorch/noarch                                       9.9kB @  30.3kB/s  0.0s\n",
      "[+] 0.4s\n",
      "conda-forge/linux-64 \u001b[90m━━━━━━━━━━━━━━━━━━━━━━━\u001b[0m   1.4MB /  41.4MB @   3.5MB/s  0.4s\n",
      "conda-forge/noarch   ━━━╸\u001b[90m━━━━━━━━━━━━━━━━━━━\u001b[0m   3.8MB /  18.7MB @   9.6MB/s  0.4s\n",
      "bioconda/noarch      ━━━━╸\u001b[90m━━━━━━━━━━━━━━━━━━\u001b[0m   1.1MB /   4.7MB @   2.8MB/s  0.4s\u001b[2K\u001b[1A\u001b[2K\u001b[1A\u001b[2K\u001b[1A\u001b[2K\u001b[0G[+] 0.5s\n",
      "conda-forge/linux-64 ╸\u001b[90m━━━━━━━━━━━━━━━━━━━━━━\u001b[0m   2.5MB /  41.4MB @   5.1MB/s  0.5s\n",
      "conda-forge/noarch   ━━━━━━╸\u001b[90m━━━━━━━━━━━━━━━━\u001b[0m   6.1MB /  18.7MB @  12.3MB/s  0.5s\n",
      "bioconda/noarch      ━━━━━━━━╸\u001b[90m━━━━━━━━━━━━━━\u001b[0m   2.0MB /   4.7MB @   4.1MB/s  0.5s\u001b[2K\u001b[1A\u001b[2K\u001b[1A\u001b[2K\u001b[1A\u001b[2K\u001b[0G[+] 0.6s\n",
      "conda-forge/linux-64 ━╸\u001b[90m━━━━━━━━━━━━━━━━━━━━━\u001b[0m   3.9MB /  41.4MB @   6.6MB/s  0.6s\n",
      "conda-forge/noarch   ━━━━━━━━━╸\u001b[90m━━━━━━━━━━━━━\u001b[0m   8.6MB /  18.7MB @  15.6MB/s  0.6s\n",
      "bioconda/noarch      ━━━━━━━━━━━━━━━╸\u001b[90m━━━━━━━\u001b[0m   3.3MB /   4.7MB @   5.5MB/s  0.6s\u001b[2K\u001b[1A\u001b[2K\u001b[1A\u001b[2K\u001b[1A\u001b[2K\u001b[0Gbioconda/noarch                                      4.7MB @   6.8MB/s  0.7s\n",
      "[+] 0.7s\n",
      "conda-forge/linux-64 ━━╸\u001b[90m━━━━━━━━━━━━━━━━━━━━\u001b[0m   6.0MB /  41.4MB @   8.6MB/s  0.7s\n",
      "conda-forge/noarch   ━━━━━━━━━━━━━╸\u001b[90m━━━━━━━━━\u001b[0m  12.0MB /  18.7MB @  18.4MB/s  0.7s\u001b[2K\u001b[1A\u001b[2K\u001b[1A\u001b[2K\u001b[0G[+] 0.8s\n",
      "conda-forge/linux-64 ━━━╸\u001b[90m━━━━━━━━━━━━━━━━━━━\u001b[0m   8.8MB /  41.4MB @  11.0MB/s  0.8s\n",
      "conda-forge/noarch   ━━━━━━━━━━━━━━━╸\u001b[90m━━━━━━━\u001b[0m  13.2MB /  18.7MB @  17.6MB/s  0.8s\u001b[2K\u001b[1A\u001b[2K\u001b[1A\u001b[2K\u001b[0G[+] 0.9s\n",
      "conda-forge/linux-64 ━━━━╸\u001b[90m━━━━━━━━━━━━━━━━━━\u001b[0m   9.9MB /  41.4MB @  11.6MB/s  0.9s\n",
      "conda-forge/noarch   ━━━━━━━━━━━━━━━━━━╸\u001b[90m━━━━\u001b[0m  15.6MB /  18.7MB @  18.3MB/s  0.9s\u001b[2K\u001b[1A\u001b[2K\u001b[1A\u001b[2K\u001b[0Gconda-forge/noarch                                  18.7MB @  19.6MB/s  1.0s\n",
      "[+] 1.0s\n",
      "conda-forge/linux-64 ━━━━━━╸\u001b[90m━━━━━━━━━━━━━━━━\u001b[0m  13.4MB /  41.4MB @  14.1MB/s  1.0s\u001b[2K\u001b[1A\u001b[2K\u001b[0G[+] 1.1s\n",
      "conda-forge/linux-64 ━━━━━━━━━╸\u001b[90m━━━━━━━━━━━━━\u001b[0m  19.3MB /  41.4MB @  18.3MB/s  1.1s\u001b[2K\u001b[1A\u001b[2K\u001b[0G[+] 1.2s\n",
      "conda-forge/linux-64 ━━━━━━━━━━━━━╸\u001b[90m━━━━━━━━━\u001b[0m  26.6MB /  41.4MB @  22.9MB/s  1.2s\u001b[2K\u001b[1A\u001b[2K\u001b[0G[+] 1.3s\n",
      "conda-forge/linux-64 ━━━━━━━━━━━━━━━━━╸\u001b[90m━━━━━\u001b[0m  33.4MB /  41.4MB @  26.3MB/s  1.3s\u001b[2K\u001b[1A\u001b[2K\u001b[0Gconda-forge/linux-64                                41.4MB @  29.6MB/s  1.4s\n",
      "[+] 1.4s\n",
      "\u001b[2K\u001b[1A\u001b[2K\u001b[0G\u001b[?25h\n",
      "Pinned packages:\n",
      "  - python 3.10.*\n",
      "\n",
      "\n",
      "Transaction\n",
      "\n",
      "  Prefix: /home/ec2-user/anaconda3/envs/python3\n",
      "\n",
      "  Updating specs:\n",
      "\n",
      "   - deeptools\n",
      "   - bedtools\n",
      "   - ca-certificates\n",
      "   - certifi\n",
      "   - openssl\n",
      "\n",
      "\n",
      "  Package                  Version  Build             Channel           Size\n",
      "──────────────────────────────────────────────────────────────────────────────\n",
      "  Install:\n",
      "──────────────────────────────────────────────────────────────────────────────\n",
      "\n",
      "  \u001b[32m+ bedtools          \u001b[0m      2.31.1  h13024bc_3        bioconda           2MB\n",
      "  \u001b[32m+ pybigwig          \u001b[0m      0.3.22  py310hdea46e4_3   bioconda          93kB\n",
      "  \u001b[32m+ deeptoolsintervals\u001b[0m       0.1.9  py310hb65dadf_10  bioconda          78kB\n",
      "  \u001b[32m+ py2bit            \u001b[0m       0.3.0  py310h1fe012e_11  bioconda          26kB\n",
      "  \u001b[32m+ importlib-metadata\u001b[0m       8.5.0  pyha770c72_1      conda-forge\u001b[32m     Cached\u001b[0m\n",
      "  \u001b[32m+ pysam             \u001b[0m      0.22.1  py310h804392c_2   bioconda           5MB\n",
      "  \u001b[32m+ deeptools         \u001b[0m       3.5.5  pyhdfd78af_0      bioconda         146kB\n",
      "\n",
      "  Change:\n",
      "──────────────────────────────────────────────────────────────────────────────\n",
      "\n",
      "  \u001b[31m- openssl           \u001b[0m       3.4.0  hb9d3cd8_0        conda-forge\u001b[32m     Cached\u001b[0m\n",
      "  \u001b[32m+ openssl           \u001b[0m       3.4.0  h7b32b05_1        conda-forge\u001b[32m     Cached\u001b[0m\n",
      "\n",
      "  Upgrade:\n",
      "──────────────────────────────────────────────────────────────────────────────\n",
      "\n",
      "  \u001b[31m- ca-certificates   \u001b[0m   2024.8.30  hbcca054_0        conda-forge\u001b[32m     Cached\u001b[0m\n",
      "  \u001b[32m+ ca-certificates   \u001b[0m  2024.12.14  hbcca054_0        conda-forge\u001b[32m     Cached\u001b[0m\n",
      "  \u001b[31m- certifi           \u001b[0m   2024.8.30  pyhd8ed1ab_0      conda-forge\u001b[32m     Cached\u001b[0m\n",
      "  \u001b[32m+ certifi           \u001b[0m  2024.12.14  pyhd8ed1ab_0      conda-forge\u001b[32m     Cached\u001b[0m\n",
      "\n",
      "  Summary:\n",
      "\n",
      "  Install: 7 packages\n",
      "  Change: 1 packages\n",
      "  Upgrade: 2 packages\n",
      "\n",
      "  Total download: 7MB\n",
      "\n",
      "──────────────────────────────────────────────────────────────────────────────\n",
      "\n",
      "\n",
      "\u001b[?25l\u001b[2K\u001b[0G[+] 0.0s\n",
      "Downloading  (5) \u001b[33m━━━━━━━━━━━━━━━━━━━━━╸\u001b[0m\u001b[90m━\u001b[0m   0.0 B bedtools                   0.0s\n",
      "Extracting       \u001b[90m━━━━━━━━━━━━━━━━━━━━━━━\u001b[0m       0                            0.0s\u001b[2K\u001b[1A\u001b[2K\u001b[1A\u001b[2K\u001b[0G[+] 0.1s\n",
      "Downloading  (5) \u001b[33m━━━━━━━━━━━━━━━━━━━━━╸\u001b[0m\u001b[90m━\u001b[0m   0.0 B bedtools                   0.1s\n",
      "Extracting       \u001b[90m━━━━━━━━━━━━━━━━━━━━━━━\u001b[0m       0                            0.0s\u001b[2K\u001b[1A\u001b[2K\u001b[1A\u001b[2K\u001b[0Gpybigwig                                            93.3kB @ 769.4kB/s  0.1s\n",
      "deeptoolsintervals                                  78.1kB @ 453.4kB/s  0.2s\n",
      "py2bit                                              25.7kB @ 147.6kB/s  0.2s\n",
      "deeptools                                          146.1kB @ 836.5kB/s  0.1s\n",
      "[+] 0.2s\n",
      "Downloading  (2) ╸\u001b[33m━━━━━━━━━━━━━━━━━━━━━━\u001b[0m 537.7kB bedtools                   0.2s\n",
      "Extracting   (4) \u001b[33m━━━━━━━━━━━╸\u001b[0m\u001b[90m━━━━━━━━━━━\u001b[0m       0 deeptools                  0.0s\u001b[2K\u001b[1A\u001b[2K\u001b[1A\u001b[2K\u001b[0Gbedtools                                             1.6MB @   6.1MB/s  0.3s\n",
      "[+] 0.3s\n",
      "Downloading  (1) ━━━━━━━━╸\u001b[33m━━━━━━━━━━━━━━\u001b[0m   2.8MB pysam                      0.3s\n",
      "Extracting   (5) \u001b[33m━━━━━━━━━━━━╸\u001b[0m\u001b[90m━━━━━━━━━━\u001b[0m       0 deeptools                  0.1s\u001b[2K\u001b[1A\u001b[2K\u001b[1A\u001b[2K\u001b[0G[+] 0.4s\n",
      "Downloading  (1) ━━━━━━━━━━━━━╸\u001b[33m━━━━━━━━━\u001b[0m   4.2MB pysam                      0.4s\n",
      "Extracting   (5) \u001b[33m━━━━━━━━━━━━━╸\u001b[0m\u001b[90m━━━━━━━━━\u001b[0m       0 deeptools                  0.2s\u001b[2K\u001b[1A\u001b[2K\u001b[1A\u001b[2K\u001b[0Gpysam                                                4.6MB @   9.6MB/s  0.5s\n",
      "[+] 0.5s\n",
      "Downloading      ━━━━━━━━━━━━━━━━━━━━━━━   6.6MB                            0.5s\n",
      "Extracting   (6) \u001b[33m━━━━━━━━━━━━━━╸\u001b[0m\u001b[90m━━━━━━━━\u001b[0m       0 deeptools                  0.3s\u001b[2K\u001b[1A\u001b[2K\u001b[1A\u001b[2K\u001b[0G[+] 0.6s\n",
      "Downloading      ━━━━━━━━━━━━━━━━━━━━━━━   6.6MB                            0.5s\n",
      "Extracting   (5) ━━╸\u001b[33m━━━━━━━━━━━━━━━━━━━━\u001b[0m       1 deeptoolsintervals         0.4s\u001b[2K\u001b[1A\u001b[2K\u001b[1A\u001b[2K\u001b[0G[+] 0.7s\n",
      "Downloading      ━━━━━━━━━━━━━━━━━━━━━━━   6.6MB                            0.5s\n",
      "Extracting   (4) ━━━━━━╸\u001b[33m━━━━━━━━━━━━━━━━\u001b[0m       2 deeptoolsintervals         0.5s\u001b[2K\u001b[1A\u001b[2K\u001b[1A\u001b[2K\u001b[0G[+] 0.8s\n",
      "Downloading      ━━━━━━━━━━━━━━━━━━━━━━━   6.6MB                            0.5s\n",
      "Extracting   (3) ━━━━━━━━━━╸\u001b[33m━━━━━━━━━━━━\u001b[0m       3 deeptoolsintervals         0.6s\u001b[2K\u001b[1A\u001b[2K\u001b[1A\u001b[2K\u001b[0G[+] 0.9s\n",
      "Downloading      ━━━━━━━━━━━━━━━━━━━━━━━   6.6MB                            0.5s\n",
      "Extracting   (3) ━━━━━━━━━━╸\u001b[33m━━━━━━━━━━━━\u001b[0m       3 deeptoolsintervals         0.7s\u001b[2K\u001b[1A\u001b[2K\u001b[1A\u001b[2K\u001b[0G[+] 1.0s\n",
      "Downloading      ━━━━━━━━━━━━━━━━━━━━━━━   6.6MB                            0.5s\n",
      "Extracting   (2) ━━━━━━━━━━━━━━╸\u001b[33m━━━━━━━━\u001b[0m       4 bedtools                   0.8s\u001b[2K\u001b[1A\u001b[2K\u001b[1A\u001b[2K\u001b[0G[+] 1.1s\n",
      "Downloading      ━━━━━━━━━━━━━━━━━━━━━━━   6.6MB                            0.5s\n",
      "Extracting   (2) ━━━━━━━━━━━━━━╸\u001b[33m━━━━━━━━\u001b[0m       4 bedtools                   0.9s\u001b[2K\u001b[1A\u001b[2K\u001b[1A\u001b[2K\u001b[0G[+] 1.2s\n",
      "Downloading      ━━━━━━━━━━━━━━━━━━━━━━━   6.6MB                            0.5s\n",
      "Extracting   (2) ━━━━━━━━━━━━━━╸\u001b[33m━━━━━━━━\u001b[0m       4 bedtools                   1.0s\u001b[2K\u001b[1A\u001b[2K\u001b[1A\u001b[2K\u001b[0G[+] 1.3s\n",
      "Downloading      ━━━━━━━━━━━━━━━━━━━━━━━   6.6MB                            0.5s\n",
      "Extracting   (2) ━━━━━━━━━━━━━━╸\u001b[33m━━━━━━━━\u001b[0m       4 bedtools                   1.1s\u001b[2K\u001b[1A\u001b[2K\u001b[1A\u001b[2K\u001b[0G[+] 1.4s\n",
      "Downloading      ━━━━━━━━━━━━━━━━━━━━━━━   6.6MB                            0.5s\n",
      "Extracting   (2) ━━━━━━━━━━━━━━╸\u001b[33m━━━━━━━━\u001b[0m       4 pysam                      1.2s\u001b[2K\u001b[1A\u001b[2K\u001b[1A\u001b[2K\u001b[0G[+] 1.5s\n",
      "Downloading      ━━━━━━━━━━━━━━━━━━━━━━━   6.6MB                            0.5s\n",
      "Extracting   (1) ━━━━━━━━━━━━━━━━━━╸\u001b[33m━━━━\u001b[0m       5 pysam                      1.3s\u001b[2K\u001b[1A\u001b[2K\u001b[1A\u001b[2K\u001b[0G[+] 1.6s\n",
      "Downloading      ━━━━━━━━━━━━━━━━━━━━━━━   6.6MB                            0.5s\n",
      "Extracting   (1) ━━━━━━━━━━━━━━━━━━╸\u001b[33m━━━━\u001b[0m       5 pysam                      1.4s\u001b[2K\u001b[1A\u001b[2K\u001b[1A\u001b[2K\u001b[0G[+] 1.7s\n",
      "Downloading      ━━━━━━━━━━━━━━━━━━━━━━━   6.6MB                            0.5s\n",
      "Extracting   (1) ━━━━━━━━━━━━━━━━━━╸\u001b[33m━━━━\u001b[0m       5 pysam                      1.5s\u001b[2K\u001b[1A\u001b[2K\u001b[1A\u001b[2K\u001b[0G[+] 1.8s\n",
      "Downloading      ━━━━━━━━━━━━━━━━━━━━━━━   6.6MB                            0.5s\n",
      "Extracting   (1) ━━━━━━━━━━━━━━━━━━╸\u001b[33m━━━━\u001b[0m       5 pysam                      1.6s\u001b[2K\u001b[1A\u001b[2K\u001b[1A\u001b[2K\u001b[0G[+] 1.9s\n",
      "Downloading      ━━━━━━━━━━━━━━━━━━━━━━━   6.6MB                            0.5s\n",
      "Extracting   (1) ━━━━━━━━━━━━━━━━━━╸\u001b[33m━━━━\u001b[0m       5 pysam                      1.7s\u001b[2K\u001b[1A\u001b[2K\u001b[1A\u001b[2K\u001b[0G[+] 2.0s\n",
      "Downloading      ━━━━━━━━━━━━━━━━━━━━━━━   6.6MB                            0.5s\n",
      "Extracting   (1) ━━━━━━━━━━━━━━━━━━╸\u001b[33m━━━━\u001b[0m       5 pysam                      1.8s\u001b[2K\u001b[1A\u001b[2K\u001b[1A\u001b[2K\u001b[0G[+] 2.1s\n",
      "Downloading      ━━━━━━━━━━━━━━━━━━━━━━━   6.6MB                            0.5s\n",
      "Extracting   (1) ━━━━━━━━━━━━━━━━━━╸\u001b[33m━━━━\u001b[0m       5 pysam                      1.9s\u001b[2K\u001b[1A\u001b[2K\u001b[1A\u001b[2K\u001b[0G[+] 2.2s\n",
      "Downloading      ━━━━━━━━━━━━━━━━━━━━━━━   6.6MB                            0.5s\n",
      "Extracting   (1) ━━━━━━━━━━━━━━━━━━╸\u001b[33m━━━━\u001b[0m       5 pysam                      2.0s\u001b[2K\u001b[1A\u001b[2K\u001b[1A\u001b[2K\u001b[0G[+] 2.3s\n",
      "Downloading      ━━━━━━━━━━━━━━━━━━━━━━━   6.6MB                            0.5s\n",
      "Extracting   (1) ━━━━━━━━━━━━━━━━━━╸\u001b[33m━━━━\u001b[0m       5 pysam                      2.1s\u001b[2K\u001b[1A\u001b[2K\u001b[1A\u001b[2K\u001b[0G[+] 2.4s\n",
      "Downloading      ━━━━━━━━━━━━━━━━━━━━━━━   6.6MB                            0.5s\n",
      "Extracting   (1) ━━━━━━━━━━━━━━━━━━╸\u001b[33m━━━━\u001b[0m       5 pysam                      2.2s\u001b[2K\u001b[1A\u001b[2K\u001b[1A\u001b[2K\u001b[0G[+] 2.5s\n",
      "Downloading      ━━━━━━━━━━━━━━━━━━━━━━━   6.6MB                            0.5s\n",
      "Extracting   (1) ━━━━━━━━━━━━━━━━━━╸\u001b[33m━━━━\u001b[0m       5 pysam                      2.3s\u001b[2K\u001b[1A\u001b[2K\u001b[1A\u001b[2K\u001b[0G[+] 2.6s\n",
      "Downloading      ━━━━━━━━━━━━━━━━━━━━━━━   6.6MB                            0.5s\n",
      "Extracting   (1) ━━━━━━━━━━━━━━━━━━╸\u001b[33m━━━━\u001b[0m       5 pysam                      2.4s\u001b[2K\u001b[1A\u001b[2K\u001b[1A\u001b[2K\u001b[0G[+] 2.7s\n",
      "Downloading      ━━━━━━━━━━━━━━━━━━━━━━━   6.6MB                            0.5s\n",
      "Extracting   (1) ━━━━━━━━━━━━━━━━━━╸\u001b[33m━━━━\u001b[0m       5 pysam                      2.5s\u001b[2K\u001b[1A\u001b[2K\u001b[1A\u001b[2K\u001b[0G[+] 2.8s\n",
      "Downloading      ━━━━━━━━━━━━━━━━━━━━━━━   6.6MB                            0.5s\n",
      "Extracting   (1) ━━━━━━━━━━━━━━━━━━╸\u001b[33m━━━━\u001b[0m       5 pysam                      2.6s\u001b[2K\u001b[1A\u001b[2K\u001b[1A\u001b[2K\u001b[0G[+] 2.9s\n",
      "Downloading      ━━━━━━━━━━━━━━━━━━━━━━━   6.6MB                            0.5s\n",
      "Extracting       ━━━━━━━━━━━━━━━━━━━━━━━       6                            2.7s\u001b[2K\u001b[1A\u001b[2K\u001b[1A\u001b[2K\u001b[0G\u001b[?25h\n",
      "Downloading and Extracting Packages:\n",
      "\n",
      "Preparing transaction: done\n",
      "Verifying transaction: done\n",
      "Executing transaction: done\n",
      "Collecting jupyterquiz==2.0.7\n",
      "  Downloading jupyterquiz-2.0.7-py2.py3-none-any.whl.metadata (8.8 kB)\n",
      "Collecting jupytercards\n",
      "  Downloading jupytercards-2.5.6-py2.py3-none-any.whl.metadata (4.6 kB)\n",
      "Downloading jupyterquiz-2.0.7-py2.py3-none-any.whl (17 kB)\n",
      "Downloading jupytercards-2.5.6-py2.py3-none-any.whl (12 kB)\n",
      "Installing collected packages: jupyterquiz, jupytercards\n",
      "Successfully installed jupytercards-2.5.6 jupyterquiz-2.0.7\n",
      "done\n"
     ]
    }
   ],
   "source": [
    "#now let's install several required packages\n",
    "!mamba install -c bioconda deeptools bedtools -y\n",
    "!pip install jupyterquiz==2.0.7 jupytercards\n",
    "#!pip install --user igv-notebook\n",
    "print(\"done\")"
   ]
  },
  {
   "cell_type": "code",
   "execution_count": 3,
   "id": "59dee8b8-2ac4-45e1-a614-1e0feacdd761",
   "metadata": {
    "tags": []
   },
   "outputs": [
    {
     "name": "stdout",
     "output_type": "stream",
     "text": [
      "/home/ec2-user/SageMaker/SandboxChromatinOccupancy/questions\n",
      "/home/ec2-user/SageMaker/SandboxChromatinOccupancy\n",
      "done\n"
     ]
    }
   ],
   "source": [
    "#Now let's import packages that we installed\n",
    "numthreads=!lscpu | grep '^CPU(s)'| awk '{print $2-1}'\n",
    "numthreadsint = int(numthreads[0])\n",
    "import sys\n",
    "import os\n",
    "from jupyterquiz import display_quiz\n",
    "from IPython.display import IFrame\n",
    "#from IPython.display import display\n",
    "from IPython.display import Image\n",
    "from jupytercards import display_flashcards\n",
    "#import igv_notebook\n",
    "import pandas as pd\n",
    "#import modules for matching-type quiz\n",
    "%cd questions\n",
    "from quiz_module import run_quiz\n",
    "%cd ../\n",
    "import json\n",
    "import ipywidgets as widgets\n",
    "from IPython.display import display\n",
    "import random\n",
    "print(\"done\")"
   ]
  },
  {
   "cell_type": "code",
   "execution_count": 4,
   "id": "fa96fcf0-8492-43f5-b3d5-0a957e90ca37",
   "metadata": {
    "tags": []
   },
   "outputs": [
    {
     "name": "stdout",
     "output_type": "stream",
     "text": [
      "/home/ec2-user/SageMaker/SandboxChromatinOccupancy\n",
      "/home/ec2-user/SageMaker/SandboxChromatinOccupancy\n"
     ]
    }
   ],
   "source": [
    "wd=\"~/SageMaker/SandboxChromatinOccupancy\"\n",
    "%cd $wd\n",
    "#show which folder you are working in. \n",
    "!pwd"
   ]
  },
  {
   "cell_type": "code",
   "execution_count": 5,
   "id": "3c744cbf",
   "metadata": {
    "tags": []
   },
   "outputs": [
    {
     "name": "stdout",
     "output_type": "stream",
     "text": [
      "/home/ec2-user/SageMaker/SandboxChromatinOccupancy/Submodule3\n"
     ]
    }
   ],
   "source": [
    "# These commands move into our Tutorial 1 directory and create our subdirectory structure.\n",
    "!mkdir -p $wd/Submodule3/\n",
    "%cd $wd/Submodule3/\n",
    "!mkdir -p $wd/Submodule3/RNAseq\n",
    "!mkdir -p $wd/Submodule3/ATACseq"
   ]
  },
  {
   "cell_type": "code",
   "execution_count": 6,
   "id": "95e56568-eca4-4e86-a70e-fa221b4fa14c",
   "metadata": {
    "tags": []
   },
   "outputs": [
    {
     "name": "stdout",
     "output_type": "stream",
     "text": [
      "--2025-01-20 20:22:18--  https://chromatinoccupancytutorial.s3.us-east-2.amazonaws.com/Submodule3.zip\n",
      "Resolving chromatinoccupancytutorial.s3.us-east-2.amazonaws.com (chromatinoccupancytutorial.s3.us-east-2.amazonaws.com)... 3.5.131.174, 3.5.128.94, 3.5.131.182, ...\n",
      "Connecting to chromatinoccupancytutorial.s3.us-east-2.amazonaws.com (chromatinoccupancytutorial.s3.us-east-2.amazonaws.com)|3.5.131.174|:443... connected.\n",
      "HTTP request sent, awaiting response... 200 OK\n",
      "Length: 66129024 (63M) [application/zip]\n",
      "Saving to: ‘Submodule3.zip.1’\n",
      "\n",
      "100%[======================================>] 66,129,024   113MB/s   in 0.6s   \n",
      "\n",
      "2025-01-20 20:22:18 (113 MB/s) - ‘Submodule3.zip.1’ saved [66129024/66129024]\n",
      "\n",
      "Archive:  Submodule3.zip\n",
      "replace Submodule3_Inputfiles/bafi_ATAC.bw? [y]es, [n]o, [A]ll, [N]one, [r]ename: ^C\n"
     ]
    }
   ],
   "source": [
    "#Let's copy and extract our tutorial files\n",
    "!wget https://chromatinoccupancytutorial.s3.us-east-2.amazonaws.com/Submodule3.zip\n",
    "!unzip Submodule3.zip"
   ]
  },
  {
   "cell_type": "code",
   "execution_count": 8,
   "id": "cec9ee99",
   "metadata": {
    "tags": []
   },
   "outputs": [
    {
     "name": "stdout",
     "output_type": "stream",
     "text": [
      "bafi_ATAC.bw\t\t      H3K27ac_ChIPseq_auxdedup.bw\n",
      "chr4_dmso_vs_bafi.csv\t      H3K27ac_ChIPseq_noauxdedup.bw\n",
      "chr4.fa\t\t\t      H3K27ac_higher_in_auxin.bed\n",
      "chr4genes_mm39rnaseq.bed      H3K27ac_higher_in_noauxin.bed\n",
      "ctl_ATAC.bw\t\t      H3K27ac_noauxin_vs_H3K27ac_auxin_all_MAvalues.xls\n",
      "DecreasedinbafiATACpeaks.bed  IncreasedinbafiATACpeaks.bed\n",
      "degs.txt\t\t      UnchangedATACpeaks.bed\n"
     ]
    }
   ],
   "source": [
    "#you should see several of the files we created in previous submodules as well as some files from ATAC-seq and RNA-seq that we'll be using to compare.\n",
    "!ls Submodule3_Inputfiles"
   ]
  },
  {
   "cell_type": "markdown",
   "id": "b7fe1e74-0dfa-432f-a70f-3c921db07868",
   "metadata": {},
   "source": [
    "<div class=\"alert-info\" style=\"font-size:200%\">\n",
    "Submodule 3.2: Comparison to ATAC-seq\n",
    "</div>\n",
    "\n",
    "In submodule 2, we performed peak identification and obtained lists of differential peaks. In this module let's test grab see if our differential peaks correspond to sites of differential accessibility, using ATAC-seq.\n",
    "\n",
    "We've prepared the ATAC-seq data for you. To learn how to process ATAC-seq, please visit the relevant NIH/NIGMS Sandbox lesson: [CloudATAC](https://github.com/NIGMS/ATAC-Seq-and-Single-Cell-ATAC-Seq-Analysis).\n",
    "\n",
    "<img src=\"images/cloudATAC.png\" alt=\"Drawing\" style=\"width: 200px;\"/>"
   ]
  },
  {
   "cell_type": "markdown",
   "id": "cfa4584e-7158-45f0-ab21-06ceefe346b3",
   "metadata": {},
   "source": [
    "The ATAC-seq data we'll use compares accessibility in control mESCs (ctl) to that after baf inhibition (bafi). Similar to how we've processed data in this module, the prepped ATAC-seq data has signal tracks for each sample in bigwig format as well as differential accessibility in bed format."
   ]
  },
  {
   "cell_type": "code",
   "execution_count": 9,
   "id": "3d14364e-78e0-452c-8af6-5fa02c0d2626",
   "metadata": {
    "tags": []
   },
   "outputs": [
    {
     "name": "stdout",
     "output_type": "stream",
     "text": [
      "/home/ec2-user/SageMaker/SandboxChromatinOccupancy/Submodule3/Submodule3_Inputfiles/bafi_ATAC.bw\n",
      "/home/ec2-user/SageMaker/SandboxChromatinOccupancy/Submodule3/Submodule3_Inputfiles/ctl_ATAC.bw\n",
      "/home/ec2-user/SageMaker/SandboxChromatinOccupancy/Submodule3/Submodule3_Inputfiles/DecreasedinbafiATACpeaks.bed\n",
      "/home/ec2-user/SageMaker/SandboxChromatinOccupancy/Submodule3/Submodule3_Inputfiles/IncreasedinbafiATACpeaks.bed\n",
      "/home/ec2-user/SageMaker/SandboxChromatinOccupancy/Submodule3/Submodule3_Inputfiles/UnchangedATACpeaks.bed\n"
     ]
    }
   ],
   "source": [
    "#Let's list the relevant files by using a wildcard:\n",
    "!ls $wd/Submodule3/Submodule3_Inputfiles/*ATAC*"
   ]
  },
  {
   "cell_type": "markdown",
   "id": "91e789ee-fc82-4a3a-a030-7025f83e5473",
   "metadata": {},
   "source": [
    "First, let's plot the average ATAC-seq signal at differential ChIP-seq, CUT&RUN, or CUT&Tag peaks. We'll use deeptools functions computeMatrix and plotProfile, similar to what we did in Submodule 2. However, this time we'll specific the ATAC-seq files as the signal (-S option) in order to plot accessibility across differential ChIP-seq, CUT&RUN, or CUT&Tag peaks (which will be specificied by the -R option)."
   ]
  },
  {
   "cell_type": "markdown",
   "id": "b270a1a9-de96-4778-a351-5c4bc2efe7c1",
   "metadata": {},
   "source": [
    "<img src=\"images/ChIPseqLogo.jpg\" alt=\"Drawing\" style=\"width: 100px;\" align=\"left\" /> Run the following command for ChIP-seq."
   ]
  },
  {
   "cell_type": "code",
   "execution_count": 10,
   "id": "17d05fd9-256b-4f90-9268-a2f7ebdc682e",
   "metadata": {
    "tags": []
   },
   "outputs": [],
   "source": [
    "#First compute the signal per region matrix.\n",
    "!computeMatrix reference-point --referencePoint center -S $wd/Submodule3/Submodule3_Inputfiles/ctl_ATAC.bw $wd/Submodule3/Submodule3_Inputfiles/bafi_ATAC.bw -R $wd/Submodule3/Submodule3_Inputfiles/H3K27ac_higher_in_auxin.bed $wd/Submodule3/Submodule3_Inputfiles/H3K27ac_higher_in_noauxin.bed -o $wd/Submodule3/ATACseq/ATAC_on_diffChIPseqprofileMatrix -a 4000 -b 4000\n",
    "!plotProfile -m $wd/Submodule3/ATACseq/ATAC_on_diffChIPseqprofileMatrix -o $wd/Submodule3/ATACseq/ATAC_on_diffChIPseqprofile.png --perGroup"
   ]
  },
  {
   "cell_type": "markdown",
   "id": "00832de7-ace6-402c-a65f-87d91b6143ac",
   "metadata": {},
   "source": [
    "Let's view the output"
   ]
  },
  {
   "cell_type": "code",
   "execution_count": 11,
   "id": "6977e801-577e-496f-83b6-c86cd6a95db9",
   "metadata": {
    "tags": []
   },
   "outputs": [
    {
     "name": "stdout",
     "output_type": "stream",
     "text": [
      "/home/ec2-user/SageMaker/SandboxChromatinOccupancy/Submodule3\n"
     ]
    },
    {
     "data": {
      "text/html": [
       "<img src=\"Submodule3/ATACseq/ATAC_on_diffChIPseqprofile.png\" width=\"800\" height=\"800\"/>"
      ],
      "text/plain": [
       "<IPython.core.display.Image object>"
      ]
     },
     "execution_count": 11,
     "metadata": {},
     "output_type": "execute_result"
    }
   ],
   "source": [
    "%cd $wd/Submodule3\n",
    "Image(url= \"Submodule3/ATACseq/ATAC_on_diffChIPseqprofile.png\", width=800, height=800)"
   ]
  },
  {
   "cell_type": "code",
   "execution_count": 12,
   "id": "d1296597-53f6-40e9-a204-2328e4ed1764",
   "metadata": {
    "tags": []
   },
   "outputs": [
    {
     "name": "stdout",
     "output_type": "stream",
     "text": [
      "/home/ec2-user/SageMaker/SandboxChromatinOccupancy/Submodule3\n"
     ]
    },
    {
     "data": {
      "text/html": [
       "<img src=\"Submodule3/ATACseq/ATAC_on_diffChIPseqheatmap.png\" width=\"200\" height=\"200\"/>"
      ],
      "text/plain": [
       "<IPython.core.display.Image object>"
      ]
     },
     "execution_count": 12,
     "metadata": {},
     "output_type": "execute_result"
    }
   ],
   "source": [
    "#We can also create a heatmap using the same matrix we created from the computeMatrix command. The command is similar to plotProfile.\n",
    "!plotHeatmap -m $wd/Submodule3/ATACseq/ATAC_on_diffChIPseqprofileMatrix -o $wd/Submodule3/ATACseq/ATAC_on_diffChIPseqheatmap.png --perGroup --colorMap Reds --whatToShow \"heatmap and colorbar\"\n",
    "%cd $wd/Submodule3\n",
    "Image(url= \"Submodule3/ATACseq/ATAC_on_diffChIPseqheatmap.png\", width=200, height=200)"
   ]
  },
  {
   "cell_type": "markdown",
   "id": "e0f99598-d65d-47f3-ab69-e87fcef0dfed",
   "metadata": {},
   "source": [
    "Remember that we are running on very few regions and downsampled data for the sake of this tutorial, so the results are not as clean as a genome-wide analysis. Regardless, these figures demonstrate that the differential H3K27ac peaks do not correspond to pronounced changes in accessibility after baf inhibition (compare ctl to bafi in each category). They do show, however, that sites with H3K27ac higher in auxin are more accessible than sites with H3K27ac higher in no auxin."
   ]
  },
  {
   "cell_type": "markdown",
   "id": "500bf6c1-cd9e-4832-8efa-77bc6f4da4de",
   "metadata": {},
   "source": [
    "<div class=\"alert-info\" style=\"font-size:100%\">\n",
    "Next, let's do the opposite to ask the question: Do differentially accessible sites, have differential occupancy? We can do so by plotting the occupancy signal (bigwig) from ChIP-seq, CUT&RUN, or CUT&Tag across differentially accessible regions (bed). This time we'll do both the plotProfile and plotHeatmap command in the same cell.\n",
    "</div>"
   ]
  },
  {
   "cell_type": "markdown",
   "id": "30d06a5f-ad05-4dc2-a5f5-260a597acd44",
   "metadata": {},
   "source": [
    "<img src=\"images/ChIPseqLogo.jpg\" alt=\"Drawing\" style=\"width: 100px;\" align=\"left\" /> Run the following command for ChIP-seq."
   ]
  },
  {
   "cell_type": "code",
   "execution_count": 13,
   "id": "74da8785-60cd-4fb4-94f1-887bb130b0f5",
   "metadata": {
    "collapsed": true,
    "jupyter": {
     "outputs_hidden": true
    },
    "tags": []
   },
   "outputs": [],
   "source": [
    "#First compute the signal per region matrix.\n",
    "!computeMatrix reference-point --referencePoint center -S $wd/Submodule3/Submodule3_Inputfiles/H3K27ac_ChIPseq_noauxdedup.bw $wd/Submodule3/Submodule3_Inputfiles/H3K27ac_ChIPseq_auxdedup.bw -R $wd/Submodule3/Submodule3_Inputfiles/IncreasedinbafiATACpeaks.bed $wd/Submodule3/Submodule3_Inputfiles/DecreasedinbafiATACpeaks.bed -o $wd/Submodule3/ATACseq/ChIPseq_on_diffATACseqprofileMatrix -a 4000 -b 4000\n",
    "!plotProfile -m $wd/Submodule3/ATACseq/ChIPseq_on_diffATACseqprofileMatrix -o $wd/Submodule3/ATACseq/ChIPseq_on_diffATACseqprofile.png --perGroup\n",
    "#We can also create a heatmap using the same matrix we created from the computeMatrix command. The command is similar to plotProfile.\n",
    "!plotHeatmap -m $wd/Submodule3/ATACseq/ChIPseq_on_diffATACseqprofileMatrix -o $wd/Submodule3/ATACseq/ChIPseq_on_diffATACseqheatmap.png --perGroup --colorMap Reds --whatToShow \"heatmap and colorbar\""
   ]
  },
  {
   "cell_type": "markdown",
   "id": "9b274c95-d05d-4651-b6a8-e0a5d78a17cd",
   "metadata": {},
   "source": [
    "Let's view the profile:"
   ]
  },
  {
   "cell_type": "code",
   "execution_count": 14,
   "id": "839428db-3915-4b68-87e8-86de30107b2e",
   "metadata": {
    "tags": []
   },
   "outputs": [
    {
     "name": "stdout",
     "output_type": "stream",
     "text": [
      "/home/ec2-user/SageMaker/SandboxChromatinOccupancy/Submodule3\n"
     ]
    },
    {
     "data": {
      "text/html": [
       "<img src=\"Submodule3/ATACseq/ChIPseq_on_diffATACseqprofile.png\" width=\"800\" height=\"800\"/>"
      ],
      "text/plain": [
       "<IPython.core.display.Image object>"
      ]
     },
     "execution_count": 14,
     "metadata": {},
     "output_type": "execute_result"
    }
   ],
   "source": [
    "%cd $wd/Submodule3\n",
    "Image(url= \"Submodule3/ATACseq/ChIPseq_on_diffATACseqprofile.png\", width=800, height=800)"
   ]
  },
  {
   "cell_type": "code",
   "execution_count": 15,
   "id": "4755768e-0a0e-4e32-a933-bb8a9e4e66b0",
   "metadata": {
    "tags": []
   },
   "outputs": [
    {
     "data": {
      "text/html": [
       "<img src=\"Submodule3/ATACseq/ChIPseq_on_diffATACseqheatmap.png\" width=\"200\" height=\"200\"/>"
      ],
      "text/plain": [
       "<IPython.core.display.Image object>"
      ]
     },
     "execution_count": 15,
     "metadata": {},
     "output_type": "execute_result"
    }
   ],
   "source": [
    "#and the heatmap\n",
    "Image(url= \"Submodule3/ATACseq/ChIPseq_on_diffATACseqheatmap.png\", width=200, height=200)"
   ]
  },
  {
   "cell_type": "markdown",
   "id": "066e74c2-b5ae-43a6-b6c4-069a8edc32da",
   "metadata": {
    "tags": []
   },
   "source": [
    "<div class=\"alert-info\" style=\"font-size:100%\">\n",
    "Let's say, instead of just plotting the signal across all these sites, we want to directly identify if any peaks are changed in both ATAC-seq and ChIP-seq, CUT&RUN, or CUT&Tag. ncy signal (bigwig) from ChIP-seq, CUT&RUN, or CUT&Tag across differentially accessible regions (bed). We can do so by intersecting the peaks in each file.\n",
    "</div>\n",
    "<img src=\"images/bedtoolsintersect.png\" alt=\"Drawing\" style=\"width: 300px;\" align=\"left\" />"
   ]
  },
  {
   "cell_type": "code",
   "execution_count": 17,
   "id": "3c5d1470-5f07-4961-97a6-8f5724bd7ecd",
   "metadata": {
    "tags": []
   },
   "outputs": [
    {
     "name": "stdout",
     "output_type": "stream",
     "text": [
      "5\n"
     ]
    }
   ],
   "source": [
    "#intersect and count how many H3K27ac higer in auxin have decreased accessibility in bafi.\n",
    "!intersectBed -u -a $wd/Submodule3/Submodule3_Inputfiles/H3K27ac_higher_in_auxin.bed -b $wd/Submodule3/Submodule3_Inputfiles/DecreasedinbafiATACpeaks.bed | wc -l"
   ]
  },
  {
   "cell_type": "markdown",
   "id": "269a1c84-62b9-49b3-8b66-1af7479d11ac",
   "metadata": {},
   "source": [
    "<div class=\"alert-success\" style=\"font-size:100%\">\n",
    "This showed that only 5 of the peaks in \"H3K27ac_higher_in_auxin.bed\" overlapped that of \"DecreasedinbafiATACpeaks.bed\". (Remember that these are severely downsampled files.)\n",
    "How do we know if that overlap is more than you would expect by chance?\n",
    "</div>"
   ]
  },
  {
   "cell_type": "code",
   "execution_count": 16,
   "id": "630f55f2-7c9a-4674-bb8a-655c09eb6529",
   "metadata": {
    "tags": []
   },
   "outputs": [
    {
     "name": "stdout",
     "output_type": "stream",
     "text": [
      "442 /home/ec2-user/SageMaker/SandboxChromatinOccupancy/Submodule3/Submodule3_Inputfiles/DecreasedinbafiATACpeaks.bed\n"
     ]
    }
   ],
   "source": [
    "#We can take a set of random unchanged peaks to see if we get the same overlap. First let's count how many DecreasedinbafiATACpeaks.bed there are.\n",
    "!wc -l $wd/Submodule3/Submodule3_Inputfiles/DecreasedinbafiATACpeaks.bed"
   ]
  },
  {
   "cell_type": "code",
   "execution_count": 18,
   "id": "cb6d2181-e45b-4ff6-9558-0d413cddf3e3",
   "metadata": {
    "tags": []
   },
   "outputs": [
    {
     "name": "stdout",
     "output_type": "stream",
     "text": [
      "2\n"
     ]
    }
   ],
   "source": [
    "#The previous command showed that there are 442 Decreased peaks that we used in the intersection analysis. Let's grab the same number of randomly selected unchanged peaks.\n",
    "!shuf -n 442 $wd/Submodule3/Submodule3_Inputfiles/UnchangedATACpeaks.bed > $wd/Submodule3/ATACseq/randomATACpeaks.bed\n",
    "#Now let's do the intersection!\n",
    "!intersectBed -u -a $wd/Submodule3/Submodule3_Inputfiles/H3K27ac_higher_in_auxin.bed -b $wd/Submodule3/ATACseq/randomATACpeaks.bed | wc -l"
   ]
  },
  {
   "cell_type": "markdown",
   "id": "259c75ee-b6c2-4b42-a5f3-dd05a70c1fb6",
   "metadata": {},
   "source": [
    "<div class=\"alert-warning\" style=\"font-size:200%\">Note: the number resulting from the above command will change every time because of the randomization.</div>\n",
    "\n",
    "How do we find out if the observed overlap is significantly higher than random loci?"
   ]
  },
  {
   "cell_type": "markdown",
   "id": "20ab0ac6-0729-4db4-8a11-24760b8727b4",
   "metadata": {
    "tags": []
   },
   "source": [
    "<img src=\"images/permutationexample.gif\" alt=\"Drawing\" style=\"width: 500px;\" align=\"left\" />\n",
    "\n",
    "Permutation testing is a good way to test if your overlap is more than what you might expect from random peaks. This method can be used to derive the expected value as well as a significance score for the overlap. The expected value is the average overlap in your randomized permutations. The significance is the number of permutations that matched or were higher than your observed overlap out of the total number of permutations that you ran. For example if you ran 1000 permutations and only one was equal to your observed overlap, we can represent the p-value as 1/1000 (p=.001). \n",
    "\n",
    "Notice that your minimum p-value is defined by the number of permutations that you run (i.e. you cannot get a p-value of 0.001 if you only ran 100 permutations)."
   ]
  },
  {
   "cell_type": "code",
   "execution_count": 34,
   "id": "24ac62fd-9e90-45d2-9cef-533d63f150bb",
   "metadata": {
    "tags": []
   },
   "outputs": [
    {
     "name": "stdout",
     "output_type": "stream",
     "text": [
      "mean of the permutations is: 3.2\n",
      "count of permutations equal or higher than observed: 24\n",
      "therefore, the p-value using 100 permutations is: 0.24\n"
     ]
    }
   ],
   "source": [
    "#Let's try it out by running the randomization 100 times! \n",
    "#First let's make an empty list to which we'll append the results of each permutation\n",
    "randomoverlaps=[]\n",
    "NumberofPermutations=100\n",
    "\n",
    "#Now let's do the randomization and overlap 100 times\n",
    "import statistics\n",
    "permutation=1\n",
    "while permutation <= NumberofPermutations:\n",
    "    overlap=!shuf -n 442 $wd/Submodule3/Submodule3_Inputfiles/UnchangedATACpeaks.bed | intersectBed -u -a $wd/Submodule3/Submodule3_Inputfiles/H3K27ac_higher_in_auxin.bed -b stdin | wc -l\n",
    "    randomoverlaps.append(int(overlap[0]))\n",
    "    permutation+=1\n",
    "\n",
    "#Now let's get the average overlap in the permutations\n",
    "print(\"mean of the permutations is: \" + str(statistics.mean(randomoverlaps)))\n",
    "\n",
    "#And get the p-value by counting how many permutations had an overlap of at least 5\n",
    "permcount=len([permut for permut in randomoverlaps if permut >= 5])\n",
    "print(\"count of permutations equal or higher than observed: \" + str(permcount))\n",
    "print(\"therefore, the p-value using \" + str(NumberofPermutations) + \" permutations is: \" + str(permcount/NumberofPermutations))"
   ]
  },
  {
   "cell_type": "markdown",
   "id": "b7da733c-f147-4a93-8cfd-12b8b8431e0b",
   "metadata": {},
   "source": [
    "<div class=\"alert-warning\" style=\"font-size:100%\">Note: the exact p-values will change every time because of the randomization, however they should hover around the approximately the same. Permutation testing works better with a higher number of peaks than what we used in our example (due to downsampling of the data).</div>"
   ]
  },
  {
   "cell_type": "markdown",
   "id": "e9ea1cdc-1a97-41af-b0bf-ace83d410887",
   "metadata": {
    "tags": []
   },
   "source": [
    "<div class=\"alert-info\" style=\"font-size:200%\">\n",
    "Interactive Quiz Question: Click on the correct answer in following cell.\n",
    "</div>"
   ]
  },
  {
   "cell_type": "code",
   "execution_count": 39,
   "id": "3029d98d-b495-474b-a9d9-8946c72b74b5",
   "metadata": {
    "tags": []
   },
   "outputs": [
    {
     "name": "stdout",
     "output_type": "stream",
     "text": [
      "/home/ec2-user/SageMaker/SandboxChromatinOccupancy/Submodule3\n"
     ]
    },
    {
     "data": {
      "application/vnd.jupyter.widget-view+json": {
       "model_id": "12b5e92b59bc40aa94df8dbdfa76581a",
       "version_major": 2,
       "version_minor": 0
      },
      "text/plain": [
       "VBox(children=(HBox(children=(Label(value='When creating a heatmap or profile plot with deeptools, what step i…"
      ]
     },
     "metadata": {},
     "output_type": "display_data"
    }
   ],
   "source": [
    "#Run for the quiz\n",
    "%cd $wd/Submodule3\n",
    "run_quiz(\"../questions/PermutationTesting.json\", instant_feedback=True, shuffle_questions=False, shuffle_answers=True)"
   ]
  },
  {
   "cell_type": "markdown",
   "id": "947282f5-9374-4f0a-aef5-8b9195f48ea2",
   "metadata": {
    "tags": []
   },
   "source": [
    "<div class=\"alert-info\" style=\"font-size:200%\">\n",
    "Submodule 3.3: Comparison to RNA-seq\n",
    "</div>\n",
    "\n",
    "Now, Let's see if our differential peaks correspond to differentially expressed genes.\n",
    "\n",
    "We've prepared the RNA-seq data for you. To learn how to process RNA-seq, please visit the relevant NIH/NIGMS Sandbox lesson: [RNA-seq](https://github.com/NIGMS/RNA-Seq-Differential-Expression-Analysis).\n",
    "\n",
    "<img src=\"images/SandBoxRNAseq.png\" alt=\"Drawing\" style=\"width: 200px;\"/>\n",
    "\n",
    "Let's start this analysis after calling differentially expressed genes (DEGs)."
   ]
  },
  {
   "cell_type": "code",
   "execution_count": 64,
   "id": "6a67c50a-02da-4da8-98c0-23484b8330a6",
   "metadata": {
    "tags": []
   },
   "outputs": [
    {
     "name": "stdout",
     "output_type": "stream",
     "text": [
      "/home/ec2-user/SageMaker/SandboxChromatinOccupancy/Submodule3\n"
     ]
    }
   ],
   "source": [
    "#Let's get the genomic coordinates of these genes by matching the names of DEGs to those of a total list of genes and their coordinates from a bed file.\n",
    "%cd $wd/Submodule3\n",
    "\n",
    "#First, let's make sure the DEGs list is sorted.\n",
    "!sort -k 1b,1b --stable $wd/Submodule3/Submodule3_Inputfiles/degs.txt > $wd/Submodule3/RNAseq/degs_sorted.txt\n",
    "\n",
    "#Next let's also sort the list of total genes. Note that in this file that gene names are in the 5th column:\n",
    "!sort -k 5b,5b --stable $wd/Submodule3/Submodule3_Inputfiles/chr4genes_mm39rnaseq.bed > $wd/Submodule3/RNAseq/allgenes_sorted.txt\n",
    "\n",
    "#Now let's use the join function to only keep genes that are in my list of degs. Note that join replaces tabs with spaces, so we'll also make sure the output is tab separated using the sed function.\n",
    "#We use -1 1 to denote that the gene names are in column #1 of our first file, and we use -2 5 to denote that the gene names are in column #5 of our second file.\n",
    "!join -1 1 -2 5 $wd/Submodule3/RNAseq/degs_sorted.txt $wd/Submodule3/RNAseq/allgenes_sorted.txt | sed -e 's/ /\\t/g' > $wd/Submodule3/RNAseq/degs_coordinates.txt\n"
   ]
  },
  {
   "cell_type": "code",
   "execution_count": 65,
   "id": "2734f655-70ff-4381-9d2b-6c9e95bebd9d",
   "metadata": {
    "tags": []
   },
   "outputs": [
    {
     "name": "stdout",
     "output_type": "stream",
     "text": [
      "AI507597\tchr4\t141341316\t141343003\t+\n",
      "AI838599\tchr4\t3231208\t3258092\t+\n",
      "AU022252\tchr4\t119060767\t119089909\t-\n",
      "AU040320\tchr4\t126647337\t126763863\t+\n",
      "ENSMUSG00000123263\tchr4\t135402020\t135404096\t+\n",
      "ENSMUSG00000124731\tchr4\t154733711\t154746398\t+\n",
      "ENSMUSG00000125309\tchr4\t31379845\t31421530\t-\n",
      "ENSMUSG00000126264\tchr4\t132787111\t132802121\t-\n",
      "ENSMUSG00000126516\tchr4\t106661594\t106664029\t+\n",
      "ENSMUSG00000126938\tchr4\t53196190\t53203507\t+\n"
     ]
    }
   ],
   "source": [
    "#Let's look at the first 10 lines of the resulting file:\n",
    "!head $wd/Submodule3/RNAseq/degs_coordinates.txt"
   ]
  },
  {
   "cell_type": "markdown",
   "id": "c742e47a-8be7-4ce1-af9b-b37bd472889d",
   "metadata": {},
   "source": [
    "Now that we have a file with the coordinates of our differentially expressed genes, we can reformat it so that we can plot our ChIP-seq, CUT&RUN, or CUT&Tag signal near these genes.\n",
    "Let's reformat as a bed format: [bed](http://useast.ensembl.org/info/website/upload/bed.html)"
   ]
  },
  {
   "cell_type": "code",
   "execution_count": 70,
   "id": "8540f8d0-7cee-4797-833e-1687e6adc1c7",
   "metadata": {
    "tags": []
   },
   "outputs": [
    {
     "name": "stdout",
     "output_type": "stream",
     "text": [
      "/home/ec2-user/SageMaker/SandboxChromatinOccupancy/Submodule3\n"
     ]
    }
   ],
   "source": [
    "%cd $wd/Submodule3\n",
    "#Use awk to rearrange and fill in empty columns.\n",
    "!awk '{print $2\"\\t\"$3\"\\t\"$4\"\\t\"$1\"\\t255\\t\"$5}' RNAseq/degs_coordinates.txt > RNAseq/degs_coordinates.bed\n",
    "\n",
    "#Now use deeptools computeMatrix, but this time we'll use the scale-regions function. Note the use of -m this tim to specify how big to plot the inside of the gene.\n",
    "!computeMatrix scale-regions -S $wd/Submodule3/Submodule3_Inputfiles/H3K27ac_ChIPseq_noauxdedup.bw $wd/Submodule3/Submodule3_Inputfiles/H3K27ac_ChIPseq_auxdedup.bw -R $wd/Submodule3/RNAseq/degs_coordinates.bed -o $wd/Submodule3/RNAseq/degProfileMatrix -a 4000 -b 4000 -m 4000\n",
    "!plotProfile -m $wd/Submodule3/RNAseq/degProfileMatrix -o $wd/Submodule3/RNAseq/ChIPseq_on_degs_profile.png --perGroup"
   ]
  },
  {
   "cell_type": "code",
   "execution_count": 72,
   "id": "49a86750-d6ed-4d85-a7b2-0231f0b206e5",
   "metadata": {
    "tags": []
   },
   "outputs": [
    {
     "name": "stdout",
     "output_type": "stream",
     "text": [
      "/home/ec2-user/SageMaker/SandboxChromatinOccupancy/Submodule3\n"
     ]
    },
    {
     "data": {
      "text/html": [
       "<img src=\"Submodule3/RNAseq/ChIPseq_on_degs_profile.png\" width=\"400\" height=\"400\"/>"
      ],
      "text/plain": [
       "<IPython.core.display.Image object>"
      ]
     },
     "execution_count": 72,
     "metadata": {},
     "output_type": "execute_result"
    }
   ],
   "source": [
    "%cd $wd/Submodule3\n",
    "Image(url= \"Submodule3/RNAseq/ChIPseq_on_degs_profile.png\", width=400, height=400)"
   ]
  },
  {
   "cell_type": "markdown",
   "id": "2b0b704a-d75f-4b02-9173-38a3da1ca9f8",
   "metadata": {
    "tags": []
   },
   "source": [
    "<div class=\"alert-info\" style=\"font-size:100%\">\n",
    "Let's say, instead of just plotting the signal across all these sites, we want to directly extract genes that have differential occupancy near the TSS. Similar to above we can use bedtools intersect, but first we need to create a file with the region around the TSS that we want to test.\n",
    "\n",
    "However, for genes the strand matters! For genes that are on the + strand, the TSS is in the 2nd column. But, for gene on the - strand, the TSS is in the 3rd column! \n",
    "</div>\n",
    "<img src=\"images/BEDgeneorientation.jpg\" alt=\"Drawing\" style=\"width: 500px;\" align=\"left\" />\n",
    "\n",
    "</b>\n",
    "When we used deeptools, it read the strand from the 6th column to correctly orient the genes. Below, we'll take 500 bp around the TSS by integrating the strand information."
   ]
  },
  {
   "cell_type": "code",
   "execution_count": 80,
   "id": "a050b57d-b46f-4385-bc88-8dbea8cddcab",
   "metadata": {
    "tags": []
   },
   "outputs": [
    {
     "name": "stdout",
     "output_type": "stream",
     "text": [
      "/home/ec2-user/SageMaker/SandboxChromatinOccupancy/Submodule3\n",
      "chr4\t119089659\t119090159\tAU022252\t255\t-\n",
      "chr4\t126647087\t126647587\tAU040320\t255\t+\n",
      "chr4\t132801871\t132802371\tENSMUSG00000126264\t255\t-\n",
      "chr4\t133387120\t133387620\tENSMUSG00000130848\t255\t+\n",
      "chr4\t116990434\t116990934\tENSMUSG00000131153\t255\t+\n",
      "chr4\t127222917\t127223417\tENSMUSG00000131758\t255\t+\n",
      "chr4\t137320919\t137321419\tENSMUSG00000132926\t255\t-\n",
      "chr4\t99786895\t99787395\tENSMUSG00000133849\t255\t+\n",
      "chr4\t44232719\t44233219\tENSMUSG00000135285\t255\t+\n",
      "chr4\t140428331\t140428831\tENSMUSG00000136671\t255\t-\n",
      "13 /home/ec2-user/SageMaker/SandboxChromatinOccupancy/Submodule3/RNAseq/degs_withH3K27ac.bed\n"
     ]
    }
   ],
   "source": [
    "#create a file with the TSS and 250 bp upstream an downstream.\n",
    "%cd $wd/Submodule3\n",
    "!awk '{if ($6 == \"+\") print $1\"\\t\"$2-250\"\\t\"$2+250\"\\t\"$4\"\\t\"$5\"\\t\"$6; else print $1\"\\t\"$3-250\"\\t\"$3+250\"\\t\"$4\"\\t\"$5\"\\t\"$6}' RNAseq/degs_coordinates.bed > RNAseq/degs_TSS.bed\n",
    "\n",
    "#Prep the total H3K27ac peaks from the xls file produced by manorm in Submodule2, by removing the header and keeping only columns 1-3.\n",
    "!cat $wd/Submodule3/Submodule3_Inputfiles/H3K27ac_noauxin_vs_H3K27ac_auxin_all_MAvalues.xls | grep -v start | cut -f 1-3 > $wd/Submodule3/RNAseq/TotalChIPseqPeaks.txt\n",
    "\n",
    "#Now use intersectBed with our total peaks.\n",
    "!intersectBed -u -a $wd/Submodule3/RNAseq/degs_TSS.bed -b $wd/Submodule3/RNAseq/TotalChIPseqPeaks.txt > $wd/Submodule3/RNAseq/degs_withH3K27ac.bed\n",
    "\n",
    "#let's look at the first 10 lines\n",
    "!head $wd/Submodule3/RNAseq/degs_withH3K27ac.bed\n",
    "\n",
    "#Let's also count how many:\n",
    "!wc -l $wd/Submodule3/RNAseq/degs_withH3K27ac.bed"
   ]
  },
  {
   "cell_type": "markdown",
   "id": "f3e4f551-4f7b-4153-813e-4891128462f1",
   "metadata": {},
   "source": [
    "### Similar to above, we can do permutation testing to see if this overlap is significant:"
   ]
  },
  {
   "cell_type": "code",
   "execution_count": 85,
   "id": "cbc58bb5-0b93-475f-8410-e4ac9bccbd0a",
   "metadata": {
    "tags": []
   },
   "outputs": [
    {
     "name": "stdout",
     "output_type": "stream",
     "text": [
      "45 RNAseq/degs_TSS.bed\n"
     ]
    }
   ],
   "source": [
    "!wc -l RNAseq/degs_TSS.bed"
   ]
  },
  {
   "cell_type": "code",
   "execution_count": 86,
   "id": "621016ae-8cf4-4430-acbb-24fdf70212ef",
   "metadata": {
    "tags": []
   },
   "outputs": [
    {
     "name": "stdout",
     "output_type": "stream",
     "text": [
      "/home/ec2-user/SageMaker/SandboxChromatinOccupancy/Submodule3\n",
      "mean of the permutations is: 11.84\n",
      "count of permutations equal or higher than observed: 43\n",
      "therefore, the p-value using 100 permutations is: 0.43\n"
     ]
    }
   ],
   "source": [
    "#First let's reformat our total genes list to follow the 6 column format, and get only 250 bp on either side of the TSS.\n",
    "%cd $wd/Submodule3\n",
    "!cat Submodule3_Inputfiles/chr4genes_mm39rnaseq.bed | awk '{print $1\"\\t\"$2\"\\t\"$3\"\\t\"$5\"\\t255\\t\"$4}' | awk '{if ($6 == \"+\") print $1\"\\t\"$2-250\"\\t\"$2+250\"\\t\"$4\"\\t\"$5\"\\t\"$6; else print $1\"\\t\"$3-250\"\\t\"$3+250\"\\t\"$4\"\\t\"$5\"\\t\"$6}' > RNAseq/total_TSSs.bed\n",
    "#First let's make an empty list to which we'll append the results of each permutation\n",
    "randomoverlaps=[]\n",
    "NumberofPermutations=100\n",
    "\n",
    "#Now let's do the randomization and overlap 100 times. There were 45 degs in our list, so lets take the same number of random genes.\n",
    "import statistics\n",
    "permutation=1\n",
    "while permutation <= NumberofPermutations:\n",
    "    overlap=!shuf -n 45 RNAseq/total_TSSs.bed | intersectBed -u -a stdin -b $wd/Submodule3/RNAseq/TotalChIPseqPeaks.txt | wc -l\n",
    "    randomoverlaps.append(int(overlap[0]))\n",
    "    permutation+=1\n",
    "\n",
    "#Now let's get the average overlap in the permutations\n",
    "print(\"mean of the permutations is: \" + str(statistics.mean(randomoverlaps)))\n",
    "\n",
    "#And get the p-value by counting how many permutations had an overlap of at least 13, which was our observed value\n",
    "permcount=len([permut for permut in randomoverlaps if permut >= 13])\n",
    "print(\"count of permutations equal or higher than observed: \" + str(permcount))\n",
    "print(\"therefore, the p-value using \" + str(NumberofPermutations) + \" permutations is: \" + str(permcount/NumberofPermutations))"
   ]
  },
  {
   "cell_type": "code",
   "execution_count": 95,
   "id": "7560d01b-38d6-415d-a6f7-e096774fceb4",
   "metadata": {
    "tags": []
   },
   "outputs": [
    {
     "name": "stdout",
     "output_type": "stream",
     "text": [
      "/home/ec2-user/SageMaker/SandboxChromatinOccupancy\n"
     ]
    },
    {
     "data": {
      "application/vnd.jupyter.widget-view+json": {
       "model_id": "05374e6e76fb428f81f0a6e8f57fbb82",
       "version_major": 2,
       "version_minor": 0
      },
      "text/plain": [
       "VBox(children=(HBox(children=(Label(value='Chromosome'), Dropdown(options=('--Select--', '2', '5', '1', '4', '…"
      ]
     },
     "metadata": {},
     "output_type": "display_data"
    }
   ],
   "source": [
    "%cd $wd\n",
    "#Run for the quiz\n",
    "run_quiz(\"./questions/geneformat.json\", instant_feedback=True, shuffle_questions=True, shuffle_answers=True)"
   ]
  },
  {
   "cell_type": "markdown",
   "id": "5d00ee64-4069-436d-8981-947af8e43ebc",
   "metadata": {
    "tags": []
   },
   "source": [
    "<div class=\"alert alert-block alert-success\" style=\"font-size:120%\">\n",
    "<span style=\"color:black\">Congrats! You have successfully performed some analysis and visualization comparison of ATAC-seq and RNA-seq to that of chromatin occupancy obtained by ChIP-seq, CUT&RUN, or CUT&Tag. Thank you for completing this module!</span></div>"
   ]
  },
  {
   "cell_type": "code",
   "execution_count": null,
   "id": "4cedb8c9-5890-457d-8538-ccfacf69fff2",
   "metadata": {},
   "outputs": [],
   "source": []
  }
 ],
 "metadata": {
  "kernelspec": {
   "display_name": "conda_python3",
   "language": "python",
   "name": "conda_python3"
  },
  "language_info": {
   "codemirror_mode": {
    "name": "ipython",
    "version": 3
   },
   "file_extension": ".py",
   "mimetype": "text/x-python",
   "name": "python",
   "nbconvert_exporter": "python",
   "pygments_lexer": "ipython3",
   "version": "3.10.16"
  }
 },
 "nbformat": 4,
 "nbformat_minor": 5
}
